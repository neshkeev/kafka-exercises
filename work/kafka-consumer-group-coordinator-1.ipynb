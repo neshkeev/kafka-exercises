{
 "cells": [
  {
   "cell_type": "markdown",
   "id": "18d571f1-2c9d-40da-8b74-9b44c903ece9",
   "metadata": {
    "tags": []
   },
   "source": [
    "## Консольный консьюмер"
   ]
  },
  {
   "cell_type": "markdown",
   "id": "c13a93a1-2302-42df-8806-305011a9c10b",
   "metadata": {
    "tags": []
   },
   "source": [
    "Запустить консольный консьюмер на 60 секунд:"
   ]
  },
  {
   "cell_type": "code",
   "execution_count": null,
   "id": "a02139f2-b5a7-4d0e-8b1c-f23f1c03a08c",
   "metadata": {
    "tags": []
   },
   "outputs": [],
   "source": [
    "kafka-console-consumer \\\n",
    "    --bootstrap-server \"${KAFKA_HOST}\":\"${KAFKA_PORT}\" \\\n",
    "    --topic movies \\\n",
    "    --timeout-ms 60000 \\\n",
    "    --group my-consumer-group-coodinator-demo-group-id \\\n",
    "    --property print.key=true \\\n",
    "    --property print.partition=true"
   ]
  },
  {
   "cell_type": "markdown",
   "id": "f03102af-5a97-4a8c-b177-c253ccb7bc74",
   "metadata": {
    "tags": []
   },
   "source": [
    "Запустить консольный консьюмер, которые живет 3 секунды, а потом умирает, ждет 2 секунды и стартует снова. Всего таких циклов перерождения будет 30:"
   ]
  },
  {
   "cell_type": "code",
   "execution_count": null,
   "id": "1ce47edf-300c-4418-88dc-3874b9fcf486",
   "metadata": {
    "tags": []
   },
   "outputs": [],
   "source": [
    "timeout=30\n",
    "while [ \"$timeout\" -ne \"0\" ] ; do\n",
    "    kafka-console-consumer \\\n",
    "      --bootstrap-server \"${KAFKA_HOST}\":\"${KAFKA_PORT}\" \\\n",
    "      --topic movies \\\n",
    "      --timeout-ms 3000 \\\n",
    "      --group my-consumer-group-coodinator-demo-group-id \\\n",
    "      --property print.key=true \\\n",
    "      --property print.partition=true\n",
    "    sleep 2\n",
    "    timeout=$((timeout - 1))\n",
    "done"
   ]
  },
  {
   "cell_type": "code",
   "execution_count": null,
   "id": "1608f763-4239-4070-9bf9-f09dc8bca29e",
   "metadata": {},
   "outputs": [],
   "source": []
  }
 ],
 "metadata": {
  "kernelspec": {
   "display_name": "Bash",
   "language": "bash",
   "name": "bash"
  },
  "language_info": {
   "codemirror_mode": "shell",
   "file_extension": ".sh",
   "mimetype": "text/x-sh",
   "name": "bash"
  }
 },
 "nbformat": 4,
 "nbformat_minor": 5
}
