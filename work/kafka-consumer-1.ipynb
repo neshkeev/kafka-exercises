{
 "cells": [
  {
   "cell_type": "markdown",
   "id": "18d571f1-2c9d-40da-8b74-9b44c903ece9",
   "metadata": {
    "tags": []
   },
   "source": [
    "## Консольный консьюмер"
   ]
  },
  {
   "cell_type": "markdown",
   "id": "f03102af-5a97-4a8c-b177-c253ccb7bc74",
   "metadata": {
    "tags": []
   },
   "source": [
    "Опция `--group` позволяет указать к какой консьюмер группе относится консьюмер:"
   ]
  },
  {
   "cell_type": "code",
   "execution_count": null,
   "id": "478a6a70-098f-4051-85d9-fed0ff678da6",
   "metadata": {
    "tags": []
   },
   "outputs": [],
   "source": [
    "kafka-console-consumer \\\n",
    "  --bootstrap-server kafka1:9092,kafka2:9092 \\\n",
    "  --topic movies \\\n",
    "  --timeout-ms 60000 \\\n",
    "  --group consumer-group-1 \\\n",
    "  --property print.key=true \\\n",
    "  --property print.partition=true"
   ]
  },
  {
   "cell_type": "code",
   "execution_count": null,
   "id": "1608f763-4239-4070-9bf9-f09dc8bca29e",
   "metadata": {},
   "outputs": [],
   "source": []
  }
 ],
 "metadata": {
  "kernelspec": {
   "display_name": "Bash",
   "language": "bash",
   "name": "bash"
  },
  "language_info": {
   "codemirror_mode": "shell",
   "file_extension": ".sh",
   "mimetype": "text/x-sh",
   "name": "bash"
  }
 },
 "nbformat": 4,
 "nbformat_minor": 5
}
