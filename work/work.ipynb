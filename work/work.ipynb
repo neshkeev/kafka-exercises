{
 "cells": [
  {
   "cell_type": "markdown",
   "id": "714969d3-5960-4019-aca2-e707ddb8f78e",
   "metadata": {
    "tags": []
   },
   "source": [
    "# Базовые операции с Apache Zookeeper"
   ]
  },
  {
   "cell_type": "markdown",
   "id": "88acf9f8-7810-4cce-845f-553114bd2f8b",
   "metadata": {},
   "source": [
    "`Apache Zookeeper` является системой для координации распределенных систем. `Apache Zookeeper` можно рассматривать как базу данных, в которой по CAP теореме выбирается C - consistency и P - partition tolerance. Запрос на запись данных объявляется успешным, только если данные были записаны на кворум узлов кластера. Данные внутри базы данных хранятся в формате ключ значение, при этом записи (znode) могут быть вложенные в другие записи, образуя иерархию, что роднит Apache Zookeeper с обычной unix-подобной файловой системой."
   ]
  },
  {
   "cell_type": "code",
   "execution_count": null,
   "id": "10804825-d447-491d-858c-d6f6be63bcc8",
   "metadata": {
    "tags": []
   },
   "outputs": [],
   "source": [
    "echo \"$ZOOKEEPER_HOST\":\"$ZOOKEEPER_PORT\""
   ]
  },
  {
   "cell_type": "markdown",
   "id": "1443776d-13ac-4cd8-b58f-75f9ccce8d9a",
   "metadata": {
    "tags": []
   },
   "source": [
    "## Команда `config`"
   ]
  },
  {
   "cell_type": "markdown",
   "id": "6ff2df6d-5ab4-4b7a-a681-cb9526d72167",
   "metadata": {
    "tags": []
   },
   "source": [
    "Команда `config` позволяет посмотреть конфигурация Zookeeper кластера (ensemble)"
   ]
  },
  {
   "cell_type": "code",
   "execution_count": null,
   "id": "bff45f77-ae75-4f7b-b369-aa8139c17870",
   "metadata": {
    "tags": []
   },
   "outputs": [],
   "source": [
    "zookeeper-shell \"$ZOOKEEPER_HOST\":\"$ZOOKEEPER_PORT\" config"
   ]
  },
  {
   "cell_type": "markdown",
   "id": "667322d0-11d6-49fc-b3ac-a8ef888812dd",
   "metadata": {
    "tags": []
   },
   "source": [
    "## Команда `ls`"
   ]
  },
  {
   "cell_type": "markdown",
   "id": "63b22ac8-c198-4053-89b4-7152f13b3542",
   "metadata": {},
   "source": [
    "Команда `ls` аналогична команде `ls` при работе с файловой системой в Unix и позволяет получить список записей (znode) в определенном пути."
   ]
  },
  {
   "cell_type": "markdown",
   "id": "56268f28-9c5e-435f-b79b-87e92aead80b",
   "metadata": {},
   "source": [
    "### Посмотреть узлы (`znode`) в корне"
   ]
  },
  {
   "cell_type": "markdown",
   "id": "06f6dd6b-23e4-460f-a3ea-2647423b90c2",
   "metadata": {},
   "source": [
    "Опция `-s` позволяет посмотреть статистику по узлу:"
   ]
  },
  {
   "cell_type": "code",
   "execution_count": null,
   "id": "78d08f09-426c-4964-97a9-8671783a06dc",
   "metadata": {
    "tags": []
   },
   "outputs": [],
   "source": [
    "zookeeper-shell \"$ZOOKEEPER_HOST\":\"$ZOOKEEPER_PORT\" ls -s /"
   ]
  },
  {
   "cell_type": "markdown",
   "id": "7e80904a-f8ef-466b-86f4-3010d07de9ab",
   "metadata": {},
   "source": [
    "### Рекурсный просмотр"
   ]
  },
  {
   "cell_type": "markdown",
   "id": "65b29340-5a14-468d-b184-960c3e5c6f60",
   "metadata": {
    "tags": []
   },
   "source": [
    "Опция `-R` позволяет рекурсивно пройти по всем вложенным записям:"
   ]
  },
  {
   "cell_type": "code",
   "execution_count": null,
   "id": "c2b613a0-06f8-49eb-8be8-5d18facfc465",
   "metadata": {
    "tags": []
   },
   "outputs": [],
   "source": [
    "zookeeper-shell \"$ZOOKEEPER_HOST\":\"$ZOOKEEPER_PORT\" ls -R /brokers/ids"
   ]
  },
  {
   "cell_type": "markdown",
   "id": "d9cb9736-08c8-4b56-b06c-cdbc8ab2b04c",
   "metadata": {
    "tags": []
   },
   "source": [
    "## Команда get"
   ]
  },
  {
   "cell_type": "markdown",
   "id": "847b9077-316d-481e-a738-e2d09b314ef5",
   "metadata": {},
   "source": [
    "Команда `get` позволяет получить содержимое записи (znode):"
   ]
  },
  {
   "cell_type": "code",
   "execution_count": null,
   "id": "4a2cd006-44c1-435e-9229-726aa1c90f84",
   "metadata": {
    "tags": []
   },
   "outputs": [],
   "source": [
    "zookeeper-shell \"$ZOOKEEPER_HOST\":\"$ZOOKEEPER_PORT\" get /brokers/ids/1 | tail -n 1 | json_pp"
   ]
  },
  {
   "cell_type": "code",
   "execution_count": null,
   "id": "594b3c46-cab9-42ec-9c60-e57468d5afc4",
   "metadata": {
    "tags": []
   },
   "outputs": [],
   "source": [
    "zookeeper-shell \"$ZOOKEEPER_HOST\":\"$ZOOKEEPER_PORT\" get /brokers/ids/2 | tail -n 1 | json_pp"
   ]
  },
  {
   "cell_type": "code",
   "execution_count": null,
   "id": "4142931b-5cfc-43f9-bfee-53c2ea2858d4",
   "metadata": {
    "tags": []
   },
   "outputs": [],
   "source": [
    "zookeeper-shell \"$ZOOKEEPER_HOST\":\"$ZOOKEEPER_PORT\" get /brokers/ids/3 | tail -n 1 | json_pp"
   ]
  },
  {
   "cell_type": "markdown",
   "id": "a1240169-d746-4f1e-9f70-98b9ea147f9c",
   "metadata": {},
   "source": [
    "## Команда `create`"
   ]
  },
  {
   "cell_type": "markdown",
   "id": "5d9fdbbc-06a3-4544-b99a-cc673828a76c",
   "metadata": {},
   "source": [
    "Команда `create` позволяет создать новый узел (znode) в `Apache Zookeeper`. Важно отметить, что все предшествующие узлы должны быть созданы:"
   ]
  },
  {
   "cell_type": "code",
   "execution_count": null,
   "id": "409b80ee-febd-42a6-be59-8c3625d92ec3",
   "metadata": {
    "tags": []
   },
   "outputs": [],
   "source": [
    "zookeeper-shell \"$ZOOKEEPER_HOST\":\"$ZOOKEEPER_PORT\" create /current_date `date \"+%Y-%m-%d\"`"
   ]
  },
  {
   "cell_type": "code",
   "execution_count": null,
   "id": "69ab1434-71ee-43a7-8361-7a60cd271364",
   "metadata": {
    "tags": []
   },
   "outputs": [],
   "source": [
    "zookeeper-shell \"$ZOOKEEPER_HOST\":\"$ZOOKEEPER_PORT\" get /current_date"
   ]
  },
  {
   "cell_type": "markdown",
   "id": "e4e9763e-a8e6-48d2-8efe-e9b29908961e",
   "metadata": {},
   "source": [
    "## Команда `set`"
   ]
  },
  {
   "cell_type": "code",
   "execution_count": null,
   "id": "72001148-b59b-47ba-8d29-bc61b5f95a57",
   "metadata": {
    "tags": []
   },
   "outputs": [],
   "source": [
    "zookeeper-shell \"$ZOOKEEPER_HOST\":\"$ZOOKEEPER_PORT\" set /current_date `date \"+%s\"`"
   ]
  },
  {
   "cell_type": "code",
   "execution_count": null,
   "id": "a614c4c3-4520-4c9b-bb4b-e862a624971d",
   "metadata": {
    "tags": []
   },
   "outputs": [],
   "source": [
    "zookeeper-shell \"$ZOOKEEPER_HOST\":\"$ZOOKEEPER_PORT\" get /current_date"
   ]
  },
  {
   "cell_type": "markdown",
   "id": "153f25f1-a3cf-4b66-9dcd-1a5abaa6ec07",
   "metadata": {
    "tags": []
   },
   "source": [
    "## Команда `delete`"
   ]
  },
  {
   "cell_type": "markdown",
   "id": "80513e77-9804-4b58-8a0c-491bc04a6462",
   "metadata": {},
   "source": [
    "Команда `delete` позволяет удалить узел:"
   ]
  },
  {
   "cell_type": "code",
   "execution_count": null,
   "id": "c9d3fec0-7c5c-4453-88f0-5efb2b81830d",
   "metadata": {
    "tags": []
   },
   "outputs": [],
   "source": [
    "zookeeper-shell \"$ZOOKEEPER_HOST\":\"$ZOOKEEPER_PORT\" delete /current_date"
   ]
  },
  {
   "cell_type": "markdown",
   "id": "cb24f982-7142-42aa-9494-a31ee2264691",
   "metadata": {},
   "source": [
    "## Команда `sync`"
   ]
  },
  {
   "cell_type": "markdown",
   "id": "c815e616-7b77-49ee-a2b1-8e3703851e77",
   "metadata": {
    "tags": []
   },
   "source": [
    "Команда `sync` позволяет принудительно запустить синхронизацию между лидером и репликами:"
   ]
  },
  {
   "cell_type": "code",
   "execution_count": null,
   "id": "2380c8fc-8427-490a-985a-6c52f53c7e65",
   "metadata": {
    "tags": []
   },
   "outputs": [],
   "source": [
    "zookeeper-shell \"$ZOOKEEPER_HOST\":\"$ZOOKEEPER_PORT\" sync /"
   ]
  },
  {
   "cell_type": "markdown",
   "id": "e7ff3c99-91a5-4e3e-8704-417ecdea8d30",
   "metadata": {},
   "source": [
    "## Задание"
   ]
  },
  {
   "cell_type": "markdown",
   "id": "6c52fe71-d989-4ef7-932c-439fd15124b0",
   "metadata": {},
   "source": [
    "Добавить в Apache Zookeeper информацию о фильме \"Титаник\" (1997) в двух форматах:\n",
    "\n",
    "1. `json`,\n",
    "1. каждое поле в отдельном узле.\n",
    "\n",
    "Схема данных:\n",
    "```\n",
    "| общая информация\n",
    "|---- название\n",
    "|---- год выхода\n",
    "| создатели\n",
    "|---- режиссер\n",
    "|---- главная мужская роль\n",
    "|---- главная женская роль\n",
    "| успех\n",
    "|---- заработок\n",
    "|-------- общие сборы по миру (в долларах)\n",
    "|-------- продажи на DVD (в долларах)\n",
    "| ---- рейтинг\n",
    "| -------- IMDB\n",
    "| -------- Кинопоиск\n",
    "| ---- награды\n",
    "| -------- Оскар (количество побед)\n",
    "| -------- Британская киноакадеми (количество побед)\n",
    "```\n",
    "Необходимо сохранить иерархическую структуру информации"
   ]
  },
  {
   "cell_type": "markdown",
   "id": "3e3422c7-b1dd-471e-bccf-68f6e64cb9ca",
   "metadata": {
    "tags": []
   },
   "source": [
    "# Базовые операции с Kafka"
   ]
  },
  {
   "cell_type": "markdown",
   "id": "d87994db-1a5a-4267-b239-9c5b1231ec21",
   "metadata": {},
   "source": [
    "## Создать топик"
   ]
  },
  {
   "cell_type": "markdown",
   "id": "e7fed493-7061-45ef-8128-d8b59cd990d1",
   "metadata": {},
   "source": [
    "При создании топика необходимо уделять внимание двум вещам:\n",
    "1. partitions - количество партиций в топике. Apache Kafka гарантирует порядок только в рамках одной партиций. Чем больше партиций, тем больше консьюмеров можно держать в одной консьюмер группе, а значит тем выше параллелизм и пропускная способность (throughput);\n",
    "1. replication factor (RF) - сколько копий одной партиции будет хранится в кластере.\n",
    "\n",
    "Базовые рекомендации:\n",
    "\n",
    "- RF == 3, т.е. 3 копии (реплики) одних и тех же данных будет хранится в кластере. Значение 3 выведено экспериментальным путем и позволяет обеспечеить высокую надежность даже на очень больших кластерах\n",
    "- partitions = K * N, где N - ожидаемое количество консьюмеров в консьюмер группе, а K (>= 1) - целочисленный коэффициент. Так количество партиций будет кратным количеству консьюмеров, а значит консьюмеры будут равномерно нагружены."
   ]
  },
  {
   "cell_type": "code",
   "execution_count": null,
   "id": "26457054-cfe7-4bcb-82f2-c049ef1a71eb",
   "metadata": {
    "tags": []
   },
   "outputs": [],
   "source": [
    "kafka-topics --bootstrap-server kafka1:9092,kafka2:9092,kafka3:9092 \\\n",
    "    --topic movies \\\n",
    "    --create \\\n",
    "    --partitions 2 \\\n",
    "    --replication-factor 3"
   ]
  },
  {
   "cell_type": "markdown",
   "id": "e3e95160-c2d6-4221-ae45-24f490980f4a",
   "metadata": {},
   "source": [
    "Количество партиций в топике может быть больше, чем количество брокеров:"
   ]
  },
  {
   "cell_type": "code",
   "execution_count": null,
   "id": "f7359aeb-7cc6-47e4-bcdb-ed2738abb815",
   "metadata": {
    "tags": []
   },
   "outputs": [],
   "source": [
    "kafka-topics --bootstrap-server kafka1:9092,kafka2:9092,kafka3:9092 \\\n",
    "    --topic movies_too_many_partitions \\\n",
    "    --create \\\n",
    "    --partitions 4 \\\n",
    "    --replication-factor 3"
   ]
  },
  {
   "cell_type": "markdown",
   "id": "2f84448a-e652-489e-b559-cf7ac176d8df",
   "metadata": {
    "tags": []
   },
   "source": [
    "Количество реплик партиции не может превышать количества брокеров:"
   ]
  },
  {
   "cell_type": "code",
   "execution_count": null,
   "id": "50f7b864-1571-4548-b629-61275d9ca35d",
   "metadata": {
    "tags": []
   },
   "outputs": [],
   "source": [
    "kafka-topics --bootstrap-server kafka1:9092,kafka2:9092,kafka3:9092, \\\n",
    "    --topic movies_too_many_replicas \\\n",
    "    --create \\\n",
    "    --partitions 4 \\\n",
    "    --replication-factor 4 || true"
   ]
  },
  {
   "cell_type": "markdown",
   "id": "d96548cf-86a2-47c2-a963-aa30db50a65a",
   "metadata": {},
   "source": [
    "При создании топика можно указать дополнительные опции при помощи ключа `--config`:"
   ]
  },
  {
   "cell_type": "code",
   "execution_count": null,
   "id": "76fbdae0-491b-4f94-8b5a-a8e16708dfdc",
   "metadata": {
    "tags": []
   },
   "outputs": [],
   "source": [
    "kafka-topics --bootstrap-server kafka1:9092,kafka2:9092,kafka3:9092 \\\n",
    "    --topic movies_cleanup_policy \\\n",
    "    --create \\\n",
    "    --partitions 4 \\\n",
    "    --replication-factor 3 \\\n",
    "    --config cleanup.policy=compact"
   ]
  },
  {
   "cell_type": "markdown",
   "id": "0593d564-78d7-4c52-8fa9-0b8202e768e3",
   "metadata": {},
   "source": [
    "Ниже приведен полный список дополнительных параметров:"
   ]
  },
  {
   "cell_type": "code",
   "execution_count": null,
   "id": "40d52b88-625c-4d84-955c-7700bab86a34",
   "metadata": {
    "tags": []
   },
   "outputs": [],
   "source": [
    "kafka-topics --help |& sed -n '/^\\s*--config/,/--bootstrap-server/p'"
   ]
  },
  {
   "cell_type": "markdown",
   "id": "feb455df-d9dd-46f7-b84e-9c83ce59f89f",
   "metadata": {
    "tags": []
   },
   "source": [
    "## Получить список топиков"
   ]
  },
  {
   "cell_type": "code",
   "execution_count": null,
   "id": "d9101aa7-0db5-4977-90f4-dab00411b175",
   "metadata": {
    "tags": []
   },
   "outputs": [],
   "source": [
    "kafka-topics --bootstrap-server \"$KAFKA_HOST\":\"$KAFKA_PORT\" \\\n",
    "    --list"
   ]
  },
  {
   "cell_type": "code",
   "execution_count": null,
   "id": "c249c4f4-c396-407d-b86d-e68b62d0bbd1",
   "metadata": {
    "tags": []
   },
   "outputs": [],
   "source": [
    "zookeeper-shell \"$ZOOKEEPER_HOST\":\"$ZOOKEEPER_PORT\" \\\n",
    "    ls -R /brokers/topics"
   ]
  },
  {
   "cell_type": "markdown",
   "id": "4a1dc2a8-8368-4282-96b6-03c42cf13370",
   "metadata": {
    "tags": []
   },
   "source": [
    "## Получить информацию о топике"
   ]
  },
  {
   "cell_type": "code",
   "execution_count": null,
   "id": "c069efce-35ba-4152-848d-30c6a30bcb6a",
   "metadata": {
    "tags": []
   },
   "outputs": [],
   "source": [
    "kafka-topics --bootstrap-server kafka1:9092,kafka2:9092,kafka3:9092 \\\n",
    "    --describe \\\n",
    "    --topic movies"
   ]
  },
  {
   "cell_type": "code",
   "execution_count": null,
   "id": "96fb0efb-6454-4094-8ff5-25246df0284d",
   "metadata": {
    "tags": []
   },
   "outputs": [],
   "source": [
    "zookeeper-shell \"$ZOOKEEPER_HOST\":\"$ZOOKEEPER_PORT\" \\\n",
    "    get /brokers/topics/movies \\\n",
    "    | tail -n 1 | json_pp"
   ]
  },
  {
   "cell_type": "code",
   "execution_count": null,
   "id": "01dbc7c9-92f4-4477-9f7a-741829ba695e",
   "metadata": {
    "tags": []
   },
   "outputs": [],
   "source": [
    "zookeeper-shell zoo2:2181 \\\n",
    "    get /brokers/topics/movies/partitions/0/state \\\n",
    "    | tail -n 1 | json_pp"
   ]
  },
  {
   "cell_type": "code",
   "execution_count": null,
   "id": "568298a7-34d8-4cae-bd97-b83577f7dd36",
   "metadata": {
    "tags": []
   },
   "outputs": [],
   "source": [
    "zookeeper-shell zoo2:2181 \\\n",
    "    get /brokers/topics/movies/partitions/1/state \\\n",
    "    | tail -n 1 | json_pp"
   ]
  },
  {
   "cell_type": "markdown",
   "id": "c8891d06-ab37-4e89-a6d6-db702932b3dc",
   "metadata": {
    "tags": []
   },
   "source": [
    "## Записать данные в топик"
   ]
  },
  {
   "cell_type": "markdown",
   "id": "40c1c1c3-1ad2-44fb-850f-5bfbe3d7218b",
   "metadata": {},
   "source": [
    "Утилита `kafka-console-producer` позволяет записать в топик данные со стандартного потока ввода. При этом все, что попадает в стандартный поток ввода определяется как значение, и это зачение целиком без ключа отправляется в kafka кластер. Если существует ключ, то необходимо указать дополнительные опции при запуске `kafka-console-producer`:"
   ]
  },
  {
   "cell_type": "code",
   "execution_count": null,
   "id": "24da4cfc-d60a-4462-ad03-a3897fb127fc",
   "metadata": {
    "tags": []
   },
   "outputs": [],
   "source": [
    "kafka-console-producer \\\n",
    "  --bootstrap-server \"$KAFKA_HOST\":\"$KAFKA_PORT\" \\\n",
    "  --topic movies \\\n",
    "  --property \"parse.key=true\" \\\n",
    "  --property \"key.separator=:\" \\\n",
    "<<EOF\n",
    "0:The Shawshank Redemption, 1994\n",
    "0:God Father, 1972\n",
    "0:The Dark Knight, 2008\n",
    "0:The Godfather Part II, 1974\n",
    "0:12 Angry Men, 1957\n",
    "1:Schindler's List, 1993\n",
    "1:The Lord of the Rings: The Return of the King, 2003\n",
    "1:Pulp Fiction, 1994\n",
    "1:The Lord of the Rings: The Fellowship of the Ring, 2001\n",
    "1:The Good, the Bad and the Ugly, 1966\n",
    "EOF"
   ]
  },
  {
   "cell_type": "markdown",
   "id": "18d571f1-2c9d-40da-8b74-9b44c903ece9",
   "metadata": {
    "tags": []
   },
   "source": [
    "## Прочитать данные из топика"
   ]
  },
  {
   "cell_type": "markdown",
   "id": "5cb58b31-6822-439a-b470-5bff8b3d8f9c",
   "metadata": {},
   "source": [
    "Утилита `kafka-console-consumer` позволяет прочитать данные из топика и отправить результат на стандартный поток вывода. При этом по умолчанию печаются только значения, которые находились в топике. Если необходимо напечатать так же ключ и партицию, в которой находилась запись, то необходимо указать дополнительные опции при старте `kafka-console-consumer`:"
   ]
  },
  {
   "cell_type": "code",
   "execution_count": null,
   "id": "478a6a70-098f-4051-85d9-fed0ff678da6",
   "metadata": {
    "tags": []
   },
   "outputs": [],
   "source": [
    "kafka-console-consumer \\\n",
    "    --bootstrap-server \"$KAFKA_HOST\":\"$KAFKA_PORT\" \\\n",
    "    --topic movies \\\n",
    "    --from-beginning \\\n",
    "    --timeout-ms 10000 \\\n",
    "    --property print.key=true \\\n",
    "    --property print.partition=true"
   ]
  },
  {
   "cell_type": "markdown",
   "id": "343ce8c6-da9f-4cce-b3e3-3ed4558eda7a",
   "metadata": {},
   "source": [
    "Обратите внимание, что сначала были отображены все записи одной партиции, а потом все записи второй партиции"
   ]
  },
  {
   "cell_type": "markdown",
   "id": "5dc1de3f-8bc5-4eb1-95aa-1b52981bae6a",
   "metadata": {
    "tags": []
   },
   "source": [
    "## Консьюмер группы"
   ]
  },
  {
   "cell_type": "markdown",
   "id": "cec121d6-05e8-4b08-b44a-fc1937c649dd",
   "metadata": {},
   "source": [
    "Каждый топик имеет одну и более партиций, при этом каждую партицию можно читать параллельно, увеличивая таким образом пропускную способность приложения.\n",
    "\n",
    "При параллельном чтение данных из топика, невозможно гарантировать FIFO порядок в рамках всего топика, Apache Kafka гарантирует порядок записей только в рамках одной партиции, поэтому необходимо вдумчиво подходить к разбиению топика на партиции. На практике редко бывает необходимо поддерживать FIFO порядок в пределах всего топика, но если такая ситуация возникает, то можно создать топик в котором будет всего лишь одна партиция. При этом сама партция может иметь RF (replication factor) больше единицы для повышения оказоустойчивости.\n",
    "\n",
    "Для параллельного чтения данных из топика необходимо запустить несколько инстанцев консьюмера, объединив их всех в одну консьюмер группу (consumer group). Для этих целей используется опция `group.id`: у всех консьюмеров в одной консьюмер группе должно быть одно и тоже же значение `group.id`"
   ]
  },
  {
   "cell_type": "markdown",
   "id": "64f12700-aba7-4618-85d7-b52fb54c0c2c",
   "metadata": {
    "tags": []
   },
   "source": [
    "Откройте [kafka-consumer-1.ipynb](./kafka-consumer-1.ipynb) и запустите консьюмера. Он автоматически завершится через 60 секунд"
   ]
  },
  {
   "cell_type": "markdown",
   "id": "92887e12-bebe-40ee-86fb-781f24dd9b8f",
   "metadata": {},
   "source": [
    "Откройте [kafka-consumer-2.ipynb](./kafka-consumer-2.ipynb) и запустите консьюмера. Он автоматически завершится через 60 секунд"
   ]
  },
  {
   "cell_type": "markdown",
   "id": "6800df2f-505f-4d0f-a757-7c98a7b7ba21",
   "metadata": {
    "tags": []
   },
   "source": [
    "## Запустить продюссера для двух консьюмеров"
   ]
  },
  {
   "cell_type": "markdown",
   "id": "c5cc49b0-d36e-4641-b188-d30c9c70a418",
   "metadata": {},
   "source": [
    "**ВНИМАНИЕ** убедитесь, что оба консьюмера из [kafka-consumer-1.ipynb](./kafka-consumer-1.ipynb) и [kafka-consumer-2.ipynb](./kafka-consumer-2.ipynb) запущены"
   ]
  },
  {
   "cell_type": "code",
   "execution_count": null,
   "id": "c4e132ec-f0ff-4779-b4e8-1515a3a29f9e",
   "metadata": {
    "tags": []
   },
   "outputs": [],
   "source": [
    "kafka-consumer-groups --bootstrap-server kafka1:9092,kafka2:9092 --list | grep -q consumer-group-1 &&\n",
    "kafka-consumer-groups --bootstrap-server kafka1:9092,kafka2:9092 --group consumer-group-1 --describe |\n",
    "  tail -n 2 |\n",
    "  awk '{print $7}' |\n",
    "  sort -u |\n",
    "  wc -l |\n",
    "  grep -q \"^2$\" || {\n",
    "    echo \"Пожалуйста, запустите консьюмеры\" &&\n",
    "    false\n",
    "  }"
   ]
  },
  {
   "cell_type": "markdown",
   "id": "7b282e25-5507-4307-a8de-90d819e24409",
   "metadata": {},
   "source": [
    "Если записать в топик новые данные, которые попадут в разные партиции:"
   ]
  },
  {
   "cell_type": "code",
   "execution_count": null,
   "id": "70280cb9-1992-4ac5-8958-c606e267cbeb",
   "metadata": {
    "tags": []
   },
   "outputs": [],
   "source": [
    "kafka-console-producer \\\n",
    "  --bootstrap-server kafka1:9092 \\\n",
    "  --topic movies \\\n",
    "  --property \"parse.key=true\" \\\n",
    "  --property \"key.separator=:\" \\\n",
    "<<EOF\n",
    "0:Операция \"Ы\" и другие приключения Шурика, 1965\n",
    "0:Место встречи изменить нельзя, 1979\n",
    "0:Семнадцать мнгновений весны, 1973\n",
    "0:Собачье сердце, 1988\n",
    "0:Джельтенмены удачи, 1971\n",
    "1:Тот самый Мюнхаузен, 1979\n",
    "1:Служебный роман, 1977\n",
    "1:Бриллиантовая рука, 1969\n",
    "1:Кавказская пленница, 1967\n",
    "1:12 стульев,1971\n",
    "EOF"
   ]
  },
  {
   "cell_type": "markdown",
   "id": "5d230db4-2363-415c-94fd-42a18bba4ea3",
   "metadata": {},
   "source": [
    "Можно заметить, что одна партиция была прочитана одним консьюмером, а вторая партиция была прочитана вторым консьюмером (необходимо переключиться на ноутбуки `kafka-consumer-1.ipynb` и `kafka-consumer-2.ipynb`)"
   ]
  },
  {
   "cell_type": "markdown",
   "id": "ba5f216b-7878-4ccc-b1ca-796535aff44a",
   "metadata": {
    "tags": []
   },
   "source": [
    "## Задание"
   ]
  },
  {
   "cell_type": "markdown",
   "id": "697bcc35-0fd9-449c-aaeb-652ebc3a947b",
   "metadata": {},
   "source": [
    "1. Создать новый топик `music`;\n",
    "1. При помощи сайта [birthdayjams.com](https://www.birthdayjams.com/) найти песни, которые были популярный в день вашего рождения в периоде с 0 до 15 лет;\n",
    "1. Отправить названия песен в топик `music`, при этом ключом записи будет год песни, например: *1999: Christina Aguilera, Genie In A Bottle*;\n",
    "1. Убедиться, что песни уходят в разные партиции топика `music`;\n",
    "1. **(*) ДОПОЛНИТЕЛЬНО**: запустить 2 или 3 консьюмера в одной консьюмер группе, чтобы получать данные в разных консьюмерах;\n",
    "1. **(*) ДОПОЛНИТЕЛЬНО**: повысить количество партиций топика `music` до 5 (удалить топик и создать снова) и посмотреть в какие партиции какие записи будут направлены."
   ]
  },
  {
   "cell_type": "code",
   "execution_count": null,
   "id": "094fa9a7-8fb7-4d3e-85f7-d2f4ca7d8847",
   "metadata": {},
   "outputs": [],
   "source": []
  }
 ],
 "metadata": {
  "kernelspec": {
   "display_name": "Bash",
   "language": "bash",
   "name": "bash"
  },
  "language_info": {
   "codemirror_mode": "shell",
   "file_extension": ".sh",
   "mimetype": "text/x-sh",
   "name": "bash"
  }
 },
 "nbformat": 4,
 "nbformat_minor": 5
}
