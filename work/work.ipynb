{
 "cells": [
  {
   "cell_type": "markdown",
   "id": "3e3422c7-b1dd-471e-bccf-68f6e64cb9ca",
   "metadata": {
    "tags": []
   },
   "source": [
    "# Базовые операции с Kafka"
   ]
  },
  {
   "cell_type": "markdown",
   "id": "40c981cc-8335-422f-92e2-bd9523eef345",
   "metadata": {},
   "source": [
    "Кластер Apache Kafka доступен через:"
   ]
  },
  {
   "cell_type": "code",
   "execution_count": null,
   "id": "845f74eb-9ad7-48f1-95d3-4a1bb34dad5a",
   "metadata": {
    "tags": []
   },
   "outputs": [],
   "source": [
    "echo \"$KAFKA_HOST\":\"$KAFKA_PORT\""
   ]
  },
  {
   "cell_type": "markdown",
   "id": "d87994db-1a5a-4267-b239-9c5b1231ec21",
   "metadata": {},
   "source": [
    "## Создать топик"
   ]
  },
  {
   "cell_type": "code",
   "execution_count": null,
   "id": "26457054-cfe7-4bcb-82f2-c049ef1a71eb",
   "metadata": {
    "tags": []
   },
   "outputs": [],
   "source": [
    "kafka-topics --bootstrap-server \"$KAFKA_HOST\":\"$KAFKA_PORT\" \\\n",
    "    --topic my-first-topic \\\n",
    "    --create \\\n",
    "    --partitions 1 \\\n",
    "    --replication-factor 1"
   ]
  },
  {
   "cell_type": "markdown",
   "id": "0a13d121-328b-4c7c-8d18-02d95467e5d4",
   "metadata": {
    "tags": []
   },
   "source": [
    "## Получить список топиков"
   ]
  },
  {
   "cell_type": "code",
   "execution_count": null,
   "id": "64db26bb-9ee1-4338-a630-a4c02264e00e",
   "metadata": {
    "tags": []
   },
   "outputs": [],
   "source": [
    "kafka-topics --bootstrap-server \"$KAFKA_HOST\":\"$KAFKA_PORT\" \\\n",
    "    --list"
   ]
  },
  {
   "cell_type": "markdown",
   "id": "c8891d06-ab37-4e89-a6d6-db702932b3dc",
   "metadata": {
    "tags": []
   },
   "source": [
    "## Записать данные в топик"
   ]
  },
  {
   "cell_type": "markdown",
   "id": "970264d4-6ab4-42f0-b4ac-a0897dc63856",
   "metadata": {},
   "source": [
    "В топик будет записано десять сообщений 'Hello, World!':"
   ]
  },
  {
   "cell_type": "code",
   "execution_count": null,
   "id": "45abb4e6-c7c6-4cda-aaeb-d81dc3dcae95",
   "metadata": {
    "tags": []
   },
   "outputs": [],
   "source": [
    "kafka-console-producer --bootstrap-server \"$KAFKA_HOST\":\"$KAFKA_PORT\" \\\n",
    "    --topic my-first-topic \\\n",
    "    <<<$(yes 'Hello, World!' 2>/dev/null | head -n 10)"
   ]
  },
  {
   "cell_type": "markdown",
   "id": "18d571f1-2c9d-40da-8b74-9b44c903ece9",
   "metadata": {
    "tags": []
   },
   "source": [
    "## Прочитать данные из топика"
   ]
  },
  {
   "cell_type": "code",
   "execution_count": null,
   "id": "478a6a70-098f-4051-85d9-fed0ff678da6",
   "metadata": {
    "tags": []
   },
   "outputs": [],
   "source": [
    "kafka-console-consumer --bootstrap-server \"$KAFKA_HOST\":\"$KAFKA_PORT\" \\\n",
    "    --topic my-first-topic \\\n",
    "    --from-beginning \\\n",
    "    --timeout-ms 10000"
   ]
  },
  {
   "cell_type": "markdown",
   "id": "abfaac9f-1ce5-4a16-84cd-0a0453ebf198",
   "metadata": {},
   "source": [
    "## Удалить топик"
   ]
  },
  {
   "cell_type": "code",
   "execution_count": null,
   "id": "ab6254c6-f853-49a9-9450-ce7cf2423ee2",
   "metadata": {
    "tags": []
   },
   "outputs": [],
   "source": [
    "kafka-topics --bootstrap-server \"$KAFKA_HOST\":\"$KAFKA_PORT\" \\\n",
    "    --topic my-first-topic \\\n",
    "    --delete"
   ]
  },
  {
   "cell_type": "code",
   "execution_count": null,
   "id": "40311ece-b7a5-4e7b-95c4-5c29073dd59b",
   "metadata": {
    "tags": []
   },
   "outputs": [],
   "source": [
    "kafka-topics --bootstrap-server \"$KAFKA_HOST\":\"$KAFKA_PORT\" \\\n",
    "    --list"
   ]
  },
  {
   "cell_type": "code",
   "execution_count": null,
   "id": "4053c167-6b12-4374-9242-00001fd1c5c1",
   "metadata": {},
   "outputs": [],
   "source": []
  }
 ],
 "metadata": {
  "kernelspec": {
   "display_name": "Bash",
   "language": "bash",
   "name": "bash"
  },
  "language_info": {
   "codemirror_mode": "shell",
   "file_extension": ".sh",
   "mimetype": "text/x-sh",
   "name": "bash"
  }
 },
 "nbformat": 4,
 "nbformat_minor": 5
}
