{
 "cells": [
  {
   "cell_type": "markdown",
   "id": "3e3422c7-b1dd-471e-bccf-68f6e64cb9ca",
   "metadata": {
    "tags": []
   },
   "source": [
    "# Kafka Streams и KSQLDB"
   ]
  },
  {
   "cell_type": "markdown",
   "id": "d2e041f7-d714-4315-8a88-9357548d51a4",
   "metadata": {
    "tags": []
   },
   "source": [
    "## Подготовка"
   ]
  },
  {
   "cell_type": "markdown",
   "id": "71c7de56-6916-41ce-a74a-10732b1a1ee3",
   "metadata": {
    "tags": []
   },
   "source": [
    "### Создать топик"
   ]
  },
  {
   "cell_type": "markdown",
   "id": "cf2cd240-850e-41b8-8aad-1968daf1cf16",
   "metadata": {},
   "source": [
    "Топик будет отслеживать местоположения грузовиков:"
   ]
  },
  {
   "cell_type": "code",
   "execution_count": null,
   "id": "385d6699-6e79-4540-9199-20eff32de042",
   "metadata": {
    "tags": []
   },
   "outputs": [],
   "source": [
    "kafka-topics --bootstrap-server \"$KAFKA_HOST\":\"$KAFKA_PORT\" \\\n",
    "    --create \\\n",
    "    --topic trucks-locations \\\n",
    "    --if-not-exists \\\n",
    "    --partitions 4 \\\n",
    "    --replication-factor 1"
   ]
  },
  {
   "cell_type": "markdown",
   "id": "f7fc103c-807f-4667-bc0d-d9656043c67c",
   "metadata": {},
   "source": [
    "### Создать схему"
   ]
  },
  {
   "cell_type": "markdown",
   "id": "38c197c3-a819-4908-af84-e827cc18469b",
   "metadata": {},
   "source": [
    "Схема содержит координаты грузовика:"
   ]
  },
  {
   "cell_type": "code",
   "execution_count": null,
   "id": "fe11dcfc-435b-4780-95a6-8326fcd02fa4",
   "metadata": {
    "tags": []
   },
   "outputs": [],
   "source": [
    "cat <<EOF | sed 's,\",\\\\\",g;1s,^,{\"schema\" : \",;$s,$,\"},' > /tmp/trucks-locations-schema.json\n",
    "{\n",
    "   \"fields\" : [\n",
    "      {\n",
    "         \"name\" : \"id\",\n",
    "         \"type\" : \"string\"\n",
    "      },\n",
    "      {\n",
    "         \"name\" : \"latitude\",\n",
    "         \"type\" : \"double\"\n",
    "      },\n",
    "      {\n",
    "         \"name\" : \"longitude\",\n",
    "         \"type\" : \"double\"\n",
    "      }\n",
    "   ],\n",
    "   \"name\" : \"TruckLocationEvent\",\n",
    "   \"namespace\" : \"com.github.neshkeev.kafka.avro.locaitons\",\n",
    "   \"type\" : \"record\"\n",
    "}\n",
    "EOF"
   ]
  },
  {
   "cell_type": "code",
   "execution_count": null,
   "id": "087dcc96-3613-4514-8d33-1c2eb573beab",
   "metadata": {
    "tags": []
   },
   "outputs": [],
   "source": [
    "curl -s http://schema-registry:8081/subjects/trucks-locations-value/versions \\\n",
    "    -X POST \\\n",
    "    -H 'Content-Type: application/vnd.schemaregistry.v1+json' \\\n",
    "    -d '@/tmp/trucks-locations-schema.json' | json_pp"
   ]
  },
  {
   "cell_type": "code",
   "execution_count": null,
   "id": "697fff7c-d049-4a89-8654-da59d1124714",
   "metadata": {
    "tags": []
   },
   "outputs": [],
   "source": [
    "curl -s http://schema-registry:8081/subjects | json_pp"
   ]
  },
  {
   "cell_type": "markdown",
   "id": "31200e30-683c-4f8c-8e91-476978661a25",
   "metadata": {
    "tags": []
   },
   "source": [
    "Функция `ksql-execute` абстрагирует логику выполнения `ksql` запросов:"
   ]
  },
  {
   "cell_type": "code",
   "execution_count": null,
   "id": "ea16630d-1d71-41ee-a4b2-93737a01d87b",
   "metadata": {
    "tags": []
   },
   "outputs": [],
   "source": [
    "function ksql-execute() {\n",
    "    local script=${1}\n",
    "\n",
    "    ksql --query-timeout 20000 \\\n",
    "        --file \"${script}\" \\\n",
    "        -- http://${KSQL_SERVER_HOST}:${KSQL_SERVER_PORT}\n",
    "}"
   ]
  },
  {
   "cell_type": "markdown",
   "id": "c5c04e2e-e780-4d82-b8c4-7f1690cc2eca",
   "metadata": {
    "tags": []
   },
   "source": [
    "## KSQL"
   ]
  },
  {
   "cell_type": "markdown",
   "id": "ce1effe0-d4f1-455a-8d09-0d0e8eb15e68",
   "metadata": {
    "tags": []
   },
   "source": [
    "**ksqlDB** - это база данных поверх Apache Kafka, которая позволяет создавать стриминговые приложения. Основными абстракциями ksqlDB являются:\n",
    "\n",
    "- Kafka stream (стрим) - абстракция над потенциально неограниченным потоком данных;\n",
    "- Kafka materialized view/table (материализованное представление/таблица) - абстракция текущего состояния."
   ]
  },
  {
   "cell_type": "markdown",
   "id": "750d546d-8590-4a8f-88c4-0d4a9c33c76c",
   "metadata": {},
   "source": [
    "**Kafka Stream** позволяет установить связь между схемой данных и топиком, следовательно, можно быть уверенным, что все сообщения, записанные в топик через стрим, будут соответствовать схеме данных.\n",
    "\n",
    "При создании стрима, создаются так же схема и топик, если их еще нет, причем формат названия схемы будет следующим: `ИМЯ_СТРИМА`-`value`, а название топика указывается в параметрах стрима."
   ]
  },
  {
   "cell_type": "markdown",
   "id": "3e03b939-a4ca-464a-a297-8285562064dd",
   "metadata": {},
   "source": [
    "Kafka materialized view позволяет отслеживать последние изменения в потоке данных и актуализировать текущее состояние."
   ]
  },
  {
   "cell_type": "markdown",
   "id": "ae7d63f2-c8d0-4801-b1f3-e06169882dc8",
   "metadata": {
    "tags": []
   },
   "source": [
    "### Создание стрима"
   ]
  },
  {
   "cell_type": "markdown",
   "id": "2c3ba743-bec9-4c9c-97c0-4446002d8141",
   "metadata": {},
   "source": [
    "При создании стрима **ksqlDB** автоматически создаст схему и топик для стрима при необходимости:"
   ]
  },
  {
   "cell_type": "code",
   "execution_count": null,
   "id": "c57c67f8-1b1c-4345-a448-8011374c7459",
   "metadata": {
    "tags": []
   },
   "outputs": [],
   "source": [
    "HOST=${KSQL_CLI_HOST} \\\n",
    "new_file /tmp/create-users-stream.cli <<EOF\n",
    "CREATE STREAM users (\n",
    "    id VARCHAR,\n",
    "    name INT\n",
    ") WITH (\n",
    "    kafka_topic='users',\n",
    "    value_format='avro',\n",
    "    partitions=2\n",
    ");\n",
    "EOF"
   ]
  },
  {
   "cell_type": "code",
   "execution_count": null,
   "id": "5ffdb4d5-84a8-469b-9406-332027b629b7",
   "metadata": {
    "tags": []
   },
   "outputs": [],
   "source": [
    "ksql-execute /tmp/create-users-stream.cli"
   ]
  },
  {
   "cell_type": "markdown",
   "id": "839548ed-d507-403d-9dd7-e2a8b556be3d",
   "metadata": {},
   "source": [
    "Появилась новая схема `users-value`:"
   ]
  },
  {
   "cell_type": "code",
   "execution_count": null,
   "id": "d8f570f2-3102-41f2-89d5-11eeb6efa06c",
   "metadata": {
    "tags": []
   },
   "outputs": [],
   "source": [
    "curl -s http://schema-registry:8081/subjects | json_pp"
   ]
  },
  {
   "cell_type": "markdown",
   "id": "5932b40d-c525-43ed-aa60-3c6bbf490cc5",
   "metadata": {},
   "source": [
    "Создался новый топик `users`:"
   ]
  },
  {
   "cell_type": "code",
   "execution_count": null,
   "id": "bc9bd7ec-1c99-4e83-95fb-d1f9cd3ee565",
   "metadata": {
    "tags": []
   },
   "outputs": [],
   "source": [
    "kafka-topics --bootstrap-server \"$KAFKA_HOST\":\"$KAFKA_PORT\" \\\n",
    "    --describe \\\n",
    "    --topic users"
   ]
  },
  {
   "cell_type": "markdown",
   "id": "930cb8e8-9e99-49c4-ba19-92a81da35ce7",
   "metadata": {},
   "source": [
    "Инструкция `CREATE STREAM` позволяет задать лишь небольшой набор конфигов нового топика (`partitions`, `replicas`), а поэтому дополнительную конфигурацию топика необходимо выполнять через `kafka-configs`:"
   ]
  },
  {
   "cell_type": "code",
   "execution_count": null,
   "id": "c3c7c2b7-6d53-4b84-a05a-8bb926c1a7b0",
   "metadata": {
    "tags": []
   },
   "outputs": [],
   "source": [
    "kafka-configs --bootstrap-server \"$KAFKA_HOST\":\"$KAFKA_PORT\" \\\n",
    "    --entity-type topics \\\n",
    "    --entity-name users \\\n",
    "    --alter \\\n",
    "    --add-config 'retention.ms=3600000'"
   ]
  },
  {
   "cell_type": "code",
   "execution_count": null,
   "id": "1150c55b-7f22-43f6-bd88-6e660e24ece8",
   "metadata": {
    "tags": []
   },
   "outputs": [],
   "source": [
    "kafka-topics --bootstrap-server \"$KAFKA_HOST\":\"$KAFKA_PORT\" \\\n",
    "    --describe \\\n",
    "    --topic users"
   ]
  },
  {
   "cell_type": "markdown",
   "id": "9251de31-64fd-4693-9801-c195c58dbeea",
   "metadata": {
    "tags": []
   },
   "source": [
    "### Создание стрима по схеме"
   ]
  },
  {
   "cell_type": "markdown",
   "id": "8b36d262-93de-42c2-b0f7-a76cf9cc4126",
   "metadata": {},
   "source": [
    "При наличии схемы можно указать ее идентификатор в конфигах стрима и исключить список колонок. ksqlDB самостоятельно определит колонки и их типы на базе указанной схемы.\n",
    "\n",
    "Для координат грузовиков актуальная версия схемы:"
   ]
  },
  {
   "cell_type": "code",
   "execution_count": null,
   "id": "6fd0f873-2833-4963-8615-b4ff78a19127",
   "metadata": {},
   "outputs": [],
   "source": [
    "curl -s http://schema-registry:8081/subjects/trucks-locations-value/versions"
   ]
  },
  {
   "cell_type": "markdown",
   "id": "37c4054c-fc86-4062-a6a2-2d78f0d6099a",
   "metadata": {},
   "source": [
    "Актуальная версия будет передана в качестве параметра для `value_schema_id` при создании стрима:"
   ]
  },
  {
   "cell_type": "code",
   "execution_count": null,
   "id": "971373cf-f844-48c5-9f4c-ee64eb3dace4",
   "metadata": {
    "tags": []
   },
   "outputs": [],
   "source": [
    "HOST=${KSQL_CLI_HOST} \\\n",
    "new_file /tmp/create-trucks-locations-stream.cli <<EOF\n",
    "CREATE STREAM trucks_locations WITH (\n",
    "    kafka_topic='trucks-locations',\n",
    "    value_format='AVRO',\n",
    "    value_schema_id=1,\n",
    "    partitions=4\n",
    ");\n",
    "EOF"
   ]
  },
  {
   "cell_type": "code",
   "execution_count": null,
   "id": "c288d1e0-2c27-4705-8f88-aa7393e2d323",
   "metadata": {
    "tags": []
   },
   "outputs": [],
   "source": [
    "ksql-execute /tmp/create-trucks-locations-stream.cli"
   ]
  },
  {
   "cell_type": "markdown",
   "id": "1b8a37e8-89a0-4dc9-be49-32e3c9231099",
   "metadata": {},
   "source": [
    "Если посмотреть детали стрима, то можно увидеть какие колонки были созданы по схеме:"
   ]
  },
  {
   "cell_type": "code",
   "execution_count": null,
   "id": "56482561-ff99-4f8a-88e9-693152edf849",
   "metadata": {
    "tags": []
   },
   "outputs": [],
   "source": [
    "HOST=${KSQL_CLI_HOST} \\\n",
    "new_file /tmp/describe-trucks-stream.cli <<EOF\n",
    "DESCRIBE trucks_locations;\n",
    "EOF"
   ]
  },
  {
   "cell_type": "code",
   "execution_count": null,
   "id": "4041c6df-1428-4f3b-9ec3-fc9296c001ac",
   "metadata": {
    "tags": []
   },
   "outputs": [],
   "source": [
    "ksql-execute /tmp/describe-trucks-stream.cli"
   ]
  },
  {
   "cell_type": "markdown",
   "id": "8c3a6a4b-e9e1-4074-9d9b-bcdc49b2edc0",
   "metadata": {},
   "source": [
    "При этом можно отметить, что новая схема не создалась:"
   ]
  },
  {
   "cell_type": "code",
   "execution_count": null,
   "id": "330d97ce-9ec2-47f6-a14d-ee4530349bc3",
   "metadata": {
    "tags": []
   },
   "outputs": [],
   "source": [
    "curl -s http://schema-registry:8081/subjects | json_pp"
   ]
  },
  {
   "cell_type": "markdown",
   "id": "549ac9e4-0ca3-454e-bdad-6b93801716c1",
   "metadata": {},
   "source": [
    "Новая версия схемы `trucks-locations-value` не появилась:"
   ]
  },
  {
   "cell_type": "code",
   "execution_count": null,
   "id": "8f39c86b-f6d3-4190-a8ab-b694a0e1fc86",
   "metadata": {
    "tags": []
   },
   "outputs": [],
   "source": [
    "curl -s http://schema-registry:8081/subjects/trucks-locations-value/versions"
   ]
  },
  {
   "cell_type": "markdown",
   "id": "a05aa94b-6885-4aff-9679-66067532f94a",
   "metadata": {},
   "source": [
    "### Регистрозависимость"
   ]
  },
  {
   "cell_type": "markdown",
   "id": "ec641a28-be29-4693-95a4-eb7d4b852cb9",
   "metadata": {},
   "source": [
    "Инструкции **ksqlDB** так же как и в реляционных базах данных являются регистронезависимыми, а значит можно выполнять запросы не обращая внимания на регистр. Но главной особенностью создания стрима на базе существующей схемы является тот факт, что колонки стрима становятся регистрозависимыми:"
   ]
  },
  {
   "cell_type": "code",
   "execution_count": null,
   "id": "19f78b39-5014-43cf-a0ec-0a132e0c6bd2",
   "metadata": {
    "tags": []
   },
   "outputs": [],
   "source": [
    "HOST=${KSQL_CLI_HOST} \\\n",
    "new_file /tmp/select-trucks-stream-bad.cli <<EOF\n",
    "SELECT id, latitude, longitude\n",
    "  FROM trucks_locations;\n",
    "EOF"
   ]
  },
  {
   "cell_type": "code",
   "execution_count": null,
   "id": "6403ff68-1c3f-4ac2-a834-ee35f800b1cf",
   "metadata": {
    "tags": []
   },
   "outputs": [],
   "source": [
    "ksql-execute /tmp/select-trucks-stream-bad.cli"
   ]
  },
  {
   "cell_type": "markdown",
   "id": "cc5eeb7b-2edf-4ad0-8c0e-47371bde30e1",
   "metadata": {
    "tags": []
   },
   "source": [
    "Необходимо взять имена колонок в квычки:"
   ]
  },
  {
   "cell_type": "code",
   "execution_count": null,
   "id": "8f8ea370-1a06-4c82-9bc3-8fa69f9f8d17",
   "metadata": {
    "tags": []
   },
   "outputs": [],
   "source": [
    "HOST=${KSQL_CLI_HOST} \\\n",
    "new_file /tmp/select-trucks-stream-good.cli <<EOF\n",
    "SELECT \"id\", \"latitude\", \"longitude\"\n",
    "  FROM trucks_locations;\n",
    "EOF"
   ]
  },
  {
   "cell_type": "code",
   "execution_count": null,
   "id": "e5834466-cc9d-40f7-abbc-1e184837152e",
   "metadata": {
    "tags": []
   },
   "outputs": [],
   "source": [
    "ksql-execute /tmp/select-trucks-stream-good.cli"
   ]
  },
  {
   "cell_type": "markdown",
   "id": "eced80d8-b295-48b6-8cbc-4544009e872a",
   "metadata": {
    "tags": []
   },
   "source": [
    "### Таблицы"
   ]
  },
  {
   "cell_type": "markdown",
   "id": "be666b4a-9de3-4781-af3b-b6fbaa10e6f6",
   "metadata": {},
   "source": [
    "Стрим `trucks_locations` представляет собой поток событий об изменении местоположения грузовиков. Для того, чтобы получить текущее положение грузовика, необходимо создать таблицу на базе стрима:"
   ]
  },
  {
   "cell_type": "code",
   "execution_count": null,
   "id": "07c688d4-d8ad-46e4-ab35-227fbcbca2ab",
   "metadata": {
    "tags": []
   },
   "outputs": [],
   "source": [
    "HOST=${KSQL_CLI_HOST} \\\n",
    "new_file /tmp/create-current-truck-locations-table.cli <<EOF\n",
    "CREATE TABLE current_trucks_locations AS\n",
    "  SELECT \"id\" as id,\n",
    "         LATEST_BY_OFFSET(\"latitude\") AS la,\n",
    "         LATEST_BY_OFFSET(\"longitude\") AS lo\n",
    "  FROM trucks_locations\n",
    "  GROUP BY \"id\"\n",
    "  EMIT CHANGES;\n",
    "EOF"
   ]
  },
  {
   "cell_type": "code",
   "execution_count": null,
   "id": "e542826f-508e-4e94-a9bc-92bce42ebfed",
   "metadata": {
    "tags": []
   },
   "outputs": [],
   "source": [
    "ksql-execute /tmp/create-current-truck-locations-table.cli"
   ]
  },
  {
   "cell_type": "markdown",
   "id": "cfcaabbb-a66f-43b4-9645-b1697cf6a7d4",
   "metadata": {},
   "source": [
    "Пояснения:\n",
    "- [`LATEST_BY_OFFSET`](https://docs.ksqldb.io/en/latest/developer-guide/ksqldb-reference/aggregate-functions/#latest_by_offset) - это функция аггрегации, которая выбирает последнее событие по оффсету в топике;\n",
    "- [`EMIT CHANGES`](https://docs.ksqldb.io/en/latest/developer-guide/ksqldb-reference/select-push-query/#emit) говорит о том, что данные в таблице будут автоматически обновляться по мере поступления новых событий в топик."
   ]
  },
  {
   "cell_type": "markdown",
   "id": "7eb83cf4-ed96-4c50-8bb9-0f5d9f416636",
   "metadata": {},
   "source": [
    "На базе таблиц можно создавать другие таблицы:"
   ]
  },
  {
   "cell_type": "code",
   "execution_count": null,
   "id": "39b70f5c-be24-4cd6-93a6-bf581d62679c",
   "metadata": {
    "tags": []
   },
   "outputs": [],
   "source": [
    "HOST=${KSQL_CLI_HOST} \\\n",
    "new_file /tmp/create-trucks-near-moscow-table.cli <<EOF\n",
    "CREATE OR REPLACE TABLE trucks_near_moscow AS\n",
    "  SELECT ROUND(GEO_DISTANCE(la, lo, 55.75, 37.50), -1) AS distance,\n",
    "         COLLECT_LIST(id) AS trucks,\n",
    "         COUNT(*) AS count\n",
    "  FROM current_trucks_locations\n",
    "  GROUP BY ROUND(GEO_DISTANCE(la, lo, 55.75, 37.50), -1);\n",
    "EOF"
   ]
  },
  {
   "cell_type": "code",
   "execution_count": null,
   "id": "c637f096-6920-47cb-b8f1-b04425d7f931",
   "metadata": {
    "tags": []
   },
   "outputs": [],
   "source": [
    "ksql-execute /tmp/create-trucks-near-moscow-table.cli"
   ]
  },
  {
   "cell_type": "markdown",
   "id": "a333f526-4b28-499f-9cb2-57f4002a3b27",
   "metadata": {},
   "source": [
    "### Запись событий"
   ]
  },
  {
   "cell_type": "markdown",
   "id": "0f861747-f015-4d75-bff3-373ade5e0c0b",
   "metadata": {},
   "source": [
    "Запись событий в стрим можно выполнить при помощи `INSERT` инструкции:"
   ]
  },
  {
   "cell_type": "code",
   "execution_count": null,
   "id": "e49b5d9e-e690-4025-bbee-7d5b27613913",
   "metadata": {
    "tags": []
   },
   "outputs": [],
   "source": [
    "HOST=${KSQL_CLI_HOST} \\\n",
    "new_file /tmp/insert-trucks-locations.cli <<EOF\n",
    "INSERT INTO trucks_locations (\"id\", \"latitude\", \"longitude\") VALUES ('c2309eec', 55.75, 37.51);\n",
    "INSERT INTO trucks_locations (\"id\", \"latitude\", \"longitude\") VALUES ('18f4ea86', 55.751, 37.507);\n",
    "INSERT INTO trucks_locations (\"id\", \"latitude\", \"longitude\") VALUES ('4ab5cbad', 55.767, 37.60);\n",
    "INSERT INTO trucks_locations (\"id\", \"latitude\", \"longitude\") VALUES ('8b6eae59', 55.1, 37.38);\n",
    "INSERT INTO trucks_locations (\"id\", \"latitude\", \"longitude\") VALUES ('4a7c7b41', 56.15, 38);\n",
    "INSERT INTO trucks_locations (\"id\", \"latitude\", \"longitude\") VALUES ('4ddad000', 53.85, 37.89);\n",
    "EOF"
   ]
  },
  {
   "cell_type": "code",
   "execution_count": null,
   "id": "beb3662f-3f9d-47e2-827d-0cb268c20380",
   "metadata": {
    "tags": []
   },
   "outputs": [],
   "source": [
    "ksql-execute /tmp/insert-trucks-locations.cli"
   ]
  },
  {
   "cell_type": "markdown",
   "id": "2e7b6b26-54f3-495c-8d44-eb67d183ca45",
   "metadata": {},
   "source": [
    "### Pull Запросы"
   ]
  },
  {
   "cell_type": "markdown",
   "id": "9e5e62bb-8fa3-4bd3-bad8-e748821b4be3",
   "metadata": {},
   "source": [
    "Pull запросы позволяют получить текущее состояние. Для каждого ключа вычисляется самое последнее состояние, и после этого запрос завершается. Этим они напоминают обычные `select` запросы в реляционных базах данных:"
   ]
  },
  {
   "cell_type": "code",
   "execution_count": null,
   "id": "b2144cb4-546f-4b1e-aa57-107c6f4d2737",
   "metadata": {
    "tags": []
   },
   "outputs": [],
   "source": [
    "HOST=${KSQL_CLI_HOST} \\\n",
    "new_file /tmp/get-trucks-10-km-moscow.cli <<EOF\n",
    "SELECT *\n",
    "  FROM trucks_near_moscow\n",
    " WHERE distance <= 10;\n",
    "EOF"
   ]
  },
  {
   "cell_type": "code",
   "execution_count": null,
   "id": "6eade516-705e-4b7a-81fe-308f6974d2dd",
   "metadata": {
    "tags": []
   },
   "outputs": [],
   "source": [
    "ksql-execute /tmp/get-trucks-10-km-moscow.cli"
   ]
  },
  {
   "cell_type": "markdown",
   "id": "c4513564-f968-41f7-b498-5fe3499c1716",
   "metadata": {
    "tags": []
   },
   "source": [
    "### Push Запросы"
   ]
  },
  {
   "cell_type": "markdown",
   "id": "feab60bc-19fd-43b8-88d6-94a4f734faf5",
   "metadata": {},
   "source": [
    "Push запросы позволяют в реальном времени получать сообщения об изменениях, а значит push запросы никогда не завершаются самостоятельно. Остановить запрос можно одним из двух вариантов:\n",
    "- остановить запрос принудительно (`CTRL + c`),\n",
    "- установить таймаут на выполнение запроса."
   ]
  },
  {
   "cell_type": "markdown",
   "id": "0c1bc2c5-4460-4a99-bf81-30428982676e",
   "metadata": {},
   "source": [
    "Выбрать грузовики, которые находятся в 15 километрах от Москвы:"
   ]
  },
  {
   "cell_type": "code",
   "execution_count": null,
   "id": "68749c4f-810e-4ab7-ad07-062869e1a499",
   "metadata": {
    "tags": []
   },
   "outputs": [],
   "source": [
    "HOST=${KSQL_CLI_HOST} \\\n",
    "new_file /tmp/get-trucks-15-km-moscow.cli <<EOF\n",
    "SELECT *\n",
    "  FROM trucks_locations\n",
    " WHERE GEO_DISTANCE(\"latitude\", \"longitude\", 55.75, 37.50) <= 15\n",
    "  EMIT CHANGES;\n",
    "EOF"
   ]
  },
  {
   "cell_type": "markdown",
   "id": "30301c30-d4c8-4a64-9e83-91717694a8f7",
   "metadata": {},
   "source": [
    "Таймаут на выполнение запроса через консольную утилиту `ksql` устанавливается через параметр `--query-timeout`. Например, следующий запрос завершится через 20 секунд:"
   ]
  },
  {
   "cell_type": "code",
   "execution_count": null,
   "id": "60d0dca7-2e08-4a89-9109-0b9c1b924464",
   "metadata": {
    "tags": []
   },
   "outputs": [],
   "source": [
    "ksql --query-timeout 20000 \\\n",
    "    --file /tmp/get-trucks-15-km-moscow.cli \\\n",
    "    -- http://${KSQL_SERVER_HOST}:${KSQL_SERVER_PORT}"
   ]
  },
  {
   "cell_type": "markdown",
   "id": "23b4a349-30c1-496a-83ad-ebac05c8e142",
   "metadata": {
    "tags": []
   },
   "source": [
    "### Задание"
   ]
  },
  {
   "cell_type": "markdown",
   "id": "443008ec-1525-46e5-a874-b4b54d1e041c",
   "metadata": {
    "tags": []
   },
   "source": [
    "1. Загрузить схему `products` в Schema Registry через REST API:\n",
    "```bash\n",
    "cat <<EOF > /tmp/product-value.json\n",
    "{\n",
    "    \"schema\": \"{ \\\n",
    "        \\\"type\\\": \\\"record\\\", \\\n",
    "        \\\"name\\\": \\\"Product\\\", \\\n",
    "        \\\"namespace\\\": \\\"com.github.neshkeev.kafka.avro\\\", \\\n",
    "        \\\"fields\\\":[ \\\n",
    "            { \\\n",
    "                \\\"name\\\":\\\"id\\\", \\\n",
    "                \\\"type\\\":\\\"string\\\" \\\n",
    "            }, \\\n",
    "            { \\\n",
    "                \\\"name\\\":\\\"name\\\", \\\n",
    "                \\\"type\\\":\\\"string\\\" \\\n",
    "            }, \\\n",
    "            { \\\n",
    "                \\\"name\\\":\\\"price\\\", \\\n",
    "                \\\"type\\\":\\\"double\\\" \\\n",
    "            } \\\n",
    "        ] \\\n",
    "    }\" \\\n",
    "}\n",
    "EOF\n",
    "```\n",
    "2. Подтвердить наличие схемы `products` любым из доступных вариантов;\n",
    "2. Создать стрим `products` и топик `products` на базе схемы `products`;\n",
    "2. Установить конфигурацию для топика `products`:\n",
    "    - `partitions=4`;\n",
    "    - `replication-factor=1`;\n",
    "    - [`retention.ms=1800000`](https://docs.confluent.io/platform/current/installation/configuration/topic-configs.html#retention-ms);\n",
    "    - [`compression-type=gzip`](https://docs.confluent.io/platform/current/installation/configuration/topic-configs.html#compression-type).\n",
    "2. Подтвердить установку конфигураций для топика;\n",
    "2. Вставить записи в стрим `products`:\n",
    "```sql\n",
    "INSERT INTO products (\"id\", \"name\", \"price\") VALUES ('$RANDOM', 'фен', 1337.51);\n",
    "INSERT INTO products (\"id\", \"name\", \"price\") VALUES ('$RANDOM', 'микроволновая печь', 7432.15);\n",
    "INSERT INTO products (\"id\", \"name\", \"price\") VALUES ('$RANDOM', 'стиральная машина', 23461.99);\n",
    "INSERT INTO products (\"id\", \"name\", \"price\") VALUES ('$RANDOM', 'фен', 999.99);\n",
    "INSERT INTO products (\"id\", \"name\", \"price\") VALUES ('$RANDOM', 'микроволновая печь', 5941.87);\n",
    "```\n",
    "7. Получить актуальные цены по каждому товару;\n",
    "7. Создать таблицу с актуальными ценами по каждому товару, данные в которой постоянно обновляются."
   ]
  },
  {
   "cell_type": "markdown",
   "id": "6b588ba5-9c5b-47f4-8efd-1b4c8c2fc23f",
   "metadata": {
    "tags": []
   },
   "source": [
    "## Kafka Streams"
   ]
  },
  {
   "cell_type": "markdown",
   "id": "8b8b22ac-d7a5-410e-84c8-9c0e68d248e2",
   "metadata": {},
   "source": [
    "**Kafka Streams** - это клиентская библиотека для обработки стримов и трансформации данных в топиках из java коде. Источниками и приениками данных являются топики в Apache Kafka кластере. При помощи Kafka Streams можно достичь тех же результатов, которые доступны в **ksqlDB**."
   ]
  },
  {
   "cell_type": "markdown",
   "id": "4e606126-dda3-46fa-b900-ea240aa47ee4",
   "metadata": {
    "tags": []
   },
   "source": [
    "Идеи Kafka Streams будет рассмотрены на примере приложения для прослушивания музыки:\n",
    "\n",
    "- есть набор песен,\n",
    "- пользователи могут прослушивать песни целиком или частично,\n",
    "- если длительность прослушивания песни была меньше 20 секунд, то считается, что воспроизведение песни было активировано случайно (пользователь не намеревался послушать эту песню)."
   ]
  },
  {
   "cell_type": "markdown",
   "id": "e4b2f29e-314d-411a-8966-43287c7222f5",
   "metadata": {
    "tags": []
   },
   "source": [
    "### Подготовка"
   ]
  },
  {
   "cell_type": "markdown",
   "id": "cb7cdac0-168b-451f-8935-be9f386b992f",
   "metadata": {},
   "source": [
    "#### Регистрация схем"
   ]
  },
  {
   "cell_type": "markdown",
   "id": "deab9149-0cae-4cc9-b974-f026f49a520a",
   "metadata": {},
   "source": [
    "Перед продолжением необходимо зарегистировать схемы для стримов:\n",
    "- песни,\n",
    "- воспроизведение песен.\n",
    "\n",
    "Схемы находятся в java проекте:"
   ]
  },
  {
   "cell_type": "code",
   "execution_count": null,
   "id": "6903d9b5-4fbf-42f3-996d-f07b6deeabad",
   "metadata": {},
   "outputs": [],
   "source": [
    "execute \\\n",
    "ls kafka-java-demo/src/main/avro"
   ]
  },
  {
   "cell_type": "markdown",
   "id": "5340eb9f-ad88-4059-ac14-5d1cac899d2e",
   "metadata": {},
   "source": [
    "Для регистрации схем можно использовать [`schema-registry-maven-plugin`](https://docs.confluent.io/platform/current/schema-registry/develop/maven-plugin.html#schema-registry-register):"
   ]
  },
  {
   "cell_type": "code",
   "execution_count": null,
   "id": "55bdb569-ef2e-4d7f-88e0-fd01fb344e35",
   "metadata": {
    "tags": []
   },
   "outputs": [],
   "source": [
    "mvn schema-registry:register > /tmp/register-schemas.log;\n",
    "    tail -n 10 /tmp/register-schemas.log"
   ]
  },
  {
   "cell_type": "markdown",
   "id": "276dd7ba-2d40-43f7-984c-7b6c3dbbacbd",
   "metadata": {},
   "source": [
    "Проверка схем в Schema Registry:"
   ]
  },
  {
   "cell_type": "code",
   "execution_count": null,
   "id": "79333aa2-aa6a-44dd-b09a-72a67980fb5c",
   "metadata": {
    "tags": []
   },
   "outputs": [],
   "source": [
    "curl -s http://schema-registry:8081/subjects |\n",
    "    json_pp |\n",
    "    grep '\\[\\|play\\|song\\|\\]'"
   ]
  },
  {
   "cell_type": "markdown",
   "id": "d87994db-1a5a-4267-b239-9c5b1231ec21",
   "metadata": {
    "tags": []
   },
   "source": [
    "#### Создание стримов"
   ]
  },
  {
   "cell_type": "markdown",
   "id": "97df4928-d1f8-49ed-8b79-f19c15f422ab",
   "metadata": {
    "tags": []
   },
   "source": [
    "Для генерации данных необходимо создать стримы:"
   ]
  },
  {
   "cell_type": "markdown",
   "id": "6e184704-2d4f-44ce-a45f-70492507bab8",
   "metadata": {
    "tags": []
   },
   "source": [
    "1. Функция `extract-schema-id` позволяет найти идентификатор схемы по имени схемы:"
   ]
  },
  {
   "cell_type": "code",
   "execution_count": null,
   "id": "406d910b-a4cf-42af-8aee-7e5944682684",
   "metadata": {
    "tags": []
   },
   "outputs": [],
   "source": [
    "function extract-schema-id() {\n",
    "    local schema_name=${1}\n",
    "\n",
    "    curl -s http://schema-registry:8081/subjects/${schema_name}/versions/latest |\n",
    "        json_pp |\n",
    "        sed -n '/\"id\"/s,.* \\([0-9]\\+\\)\\,,\\1,p'\n",
    "}"
   ]
  },
  {
   "cell_type": "markdown",
   "id": "83515770-6b40-48e1-9ff1-edaef57330f8",
   "metadata": {},
   "source": [
    "2. Подготовка скриптов для создания стримов:"
   ]
  },
  {
   "cell_type": "code",
   "execution_count": null,
   "id": "f3fcad44-8aef-415d-ad74-f6c1dbe75460",
   "metadata": {
    "tags": []
   },
   "outputs": [],
   "source": [
    "HOST=${KSQL_CLI_HOST} \\\n",
    "new_file /tmp/create-songs-streams.cli <<EOF\n",
    "CREATE STREAM songs WITH (\n",
    "    kafka_topic='songs',\n",
    "    value_format='AVRO',\n",
    "    value_schema_id=$(extract-schema-id song-value),\n",
    "    partitions=4\n",
    ");\n",
    "\n",
    "CREATE STREAM songs_count WITH (\n",
    "    kafka_topic='songs-count',\n",
    "    value_format='AVRO',\n",
    "    value_schema_id=$(extract-schema-id song-count-value),\n",
    "    partitions=4\n",
    ");\n",
    "\n",
    "CREATE STREAM play_events WITH (\n",
    "    kafka_topic='play-events',\n",
    "    value_format='AVRO',\n",
    "    value_schema_id=$(extract-schema-id play-event-value),\n",
    "    partitions=4\n",
    ");\n",
    "\n",
    "CREATE STREAM play_events_actual WITH (\n",
    "    kafka_topic='play-events-actual',\n",
    "    value_format='AVRO',\n",
    "    value_schema_id=$(extract-schema-id play-event-value),\n",
    "    partitions=4\n",
    ");\n",
    "\n",
    "CREATE STREAM play_events_accidental WITH (\n",
    "    kafka_topic='play-events-accidental',\n",
    "    value_format='AVRO',\n",
    "    value_schema_id=$(extract-schema-id play-event-value),\n",
    "    partitions=4\n",
    ");\n",
    "\n",
    "\n",
    "DESCRIBE songs;\n",
    "DESCRIBE songs_count;\n",
    "DESCRIBE play_events;\n",
    "DESCRIBE play_events_actual;\n",
    "DESCRIBE play_events_accidental;\n",
    "EOF"
   ]
  },
  {
   "cell_type": "markdown",
   "id": "307ec894-f941-42b9-8b9c-79ac5f2bc240",
   "metadata": {},
   "source": [
    "3. Исполнение скриптов для создания стримов:"
   ]
  },
  {
   "cell_type": "code",
   "execution_count": null,
   "id": "d6652531-08c6-40c7-8a15-95e52cc5f12b",
   "metadata": {
    "tags": []
   },
   "outputs": [],
   "source": [
    "ksql-execute /tmp/create-songs-streams.cli"
   ]
  },
  {
   "cell_type": "markdown",
   "id": "f0c21bed-4352-4634-b103-4b00cb46cae2",
   "metadata": {},
   "source": [
    "#### Генерация данных"
   ]
  },
  {
   "cell_type": "markdown",
   "id": "f63677e8-b257-43cc-90fc-d66905c5a70f",
   "metadata": {},
   "source": [
    "Записать данные о песнях:"
   ]
  },
  {
   "cell_type": "code",
   "execution_count": null,
   "id": "14bf4b91-f9ab-417a-9cd6-7bf371df7a02",
   "metadata": {
    "tags": []
   },
   "outputs": [],
   "source": [
    "HOST=${KSQL_CLI_HOST} \\\n",
    "new_file /tmp/insert-songs.cli <<EOF\n",
    "INSERT INTO songs(\"id\", \"name\", \"artist\", \"album\", \"genre\") VALUES (1,'Fresh Fruit For Rotting Vegetables','Dead Kennedys','Chemical Warfare','Punk');\n",
    "INSERT INTO songs(\"id\", \"name\", \"artist\", \"album\", \"genre\") VALUES (2,'We Are the League','Anti-Nowhere League','Animal','Punk');\n",
    "INSERT INTO songs(\"id\", \"name\", \"artist\", \"album\", \"genre\") VALUES (3,'Live In A Dive','Subhumans','All Gone Dead','Punk');\n",
    "INSERT INTO songs(\"id\", \"name\", \"artist\", \"album\", \"genre\") VALUES (4,'PSI','Wheres The Pope?','Fear Of God','Punk');\n",
    "INSERT INTO songs(\"id\", \"name\", \"artist\", \"album\", \"genre\") VALUES (5,'Totally Exploited','The Exploited','Punks Not Dead','Punk');\n",
    "INSERT INTO songs(\"id\", \"name\", \"artist\", \"album\", \"genre\") VALUES (6,'The Audacity Of Hype','Jello Biafra And The Guantanamo School Of Medicine','Three Strikes','Punk');\n",
    "INSERT INTO songs(\"id\", \"name\", \"artist\", \"album\", \"genre\") VALUES (7,'Licensed to Ill','The Beastie Boys','Fight For Your Right','Hip Hop');\n",
    "INSERT INTO songs(\"id\", \"name\", \"artist\", \"album\", \"genre\") VALUES (8,'De La Soul Is Dead','De La Soul','Oodles Of Os','Hip Hop');\n",
    "INSERT INTO songs(\"id\", \"name\", \"artist\", \"album\", \"genre\") VALUES (9,'Straight Outta Compton','N.W.A','Gangsta Gangsta','Hip Hop');\n",
    "INSERT INTO songs(\"id\", \"name\", \"artist\", \"album\", \"genre\") VALUES (10,'Fear Of A Black Planet','Public Enemy','911 Is A Joke','Hip Hop');\n",
    "INSERT INTO songs(\"id\", \"name\", \"artist\", \"album\", \"genre\") VALUES (11,'Curtain Call - The Hits','Eminem','Fack','Hip Hop');\n",
    "INSERT INTO songs(\"id\", \"name\", \"artist\", \"album\", \"genre\") VALUES (12,'21','Adele','Rolling in the Deep','Pop');\n",
    "INSERT INTO songs(\"id\", \"name\", \"artist\", \"album\", \"genre\") VALUES (13,'In The Lonely Hour','Sam Smith','Stay With Me','Pop');\n",
    "INSERT INTO songs(\"id\", \"name\", \"artist\", \"album\", \"genre\") VALUES (14,'The Calling','Hilltop Hoods','The Calling','Hip Hop');\n",
    "INSERT INTO songs(\"id\", \"name\", \"artist\", \"album\", \"genre\") VALUES (15,'x','Ed Sheeran','Thinking Out Loud','Pop');\n",
    "INSERT INTO songs(\"id\", \"name\", \"artist\", \"album\", \"genre\") VALUES (16,'V','Maroon 5','Sugar','Pop');\n",
    "INSERT INTO songs(\"id\", \"name\", \"artist\", \"album\", \"genre\") VALUES (17,'This Is What The Truth Feels Like','Gwen Stefani','Red Flag','Pop');\n",
    "INSERT INTO songs(\"id\", \"name\", \"artist\", \"album\", \"genre\") VALUES (18,'This Is Acting','Sia','Alive','Pop');\n",
    "INSERT INTO songs(\"id\", \"name\", \"artist\", \"album\", \"genre\") VALUES (19,'24K Magic','Bruno Mars','That is What I Like','Pop');\n",
    "INSERT INTO songs(\"id\", \"name\", \"artist\", \"album\", \"genre\") VALUES (20,'Black Sunday','Cypress Hill','Insane in the Brain','Hip Hop');\n",
    "INSERT INTO songs(\"id\", \"name\", \"artist\", \"album\", \"genre\") VALUES (21,'Aquemini','Outkast','Aquemini','Hip Hop');\n",
    "EOF"
   ]
  },
  {
   "cell_type": "code",
   "execution_count": null,
   "id": "4385ca9a-ea3a-431a-81ec-781f886377d9",
   "metadata": {
    "tags": []
   },
   "outputs": [],
   "source": [
    "ksql-execute /tmp/insert-songs.cli"
   ]
  },
  {
   "cell_type": "markdown",
   "id": "85388c91-57cc-4f2a-a113-02703e20420d",
   "metadata": {
    "tags": []
   },
   "source": [
    "Сгенерация событий с проигрыванием песен:"
   ]
  },
  {
   "cell_type": "code",
   "execution_count": null,
   "id": "7367567a-d512-4b89-9e44-6477034a61a0",
   "metadata": {
    "tags": []
   },
   "outputs": [],
   "source": [
    "HOST=${KSQL_CLI_HOST} \\\n",
    "new_file /tmp/insert-play-events.cli <<<$(\n",
    "for i in {1..100}; do\n",
    "    printf 'INSERT INTO play_events(\"id\", \"duration\") VALUES (%d, %d);\\n' $((RANDOM % 21)) $((RANDOM % 100))\n",
    "done\n",
    ")"
   ]
  },
  {
   "cell_type": "code",
   "execution_count": null,
   "id": "c7a88502-2486-44c4-9c3e-0d87879da9bc",
   "metadata": {
    "tags": []
   },
   "outputs": [],
   "source": [
    "ksql-execute /tmp/insert-play-events.cli"
   ]
  },
  {
   "cell_type": "markdown",
   "id": "25c86d57-93fd-4366-9873-13f9d7118dd4",
   "metadata": {},
   "source": [
    "### Основная задача"
   ]
  },
  {
   "cell_type": "markdown",
   "id": "5badd930-6ac5-4354-b2a4-e403ecd1e15e",
   "metadata": {},
   "source": [
    "Необходимо определить, является ли событие о воспроизведении песни намеренным или случайным. Случайное воспроизведение относится к прослушиваниям, которые заняли меньше 20 секунд."
   ]
  },
  {
   "cell_type": "markdown",
   "id": "fe288bfd-0a89-4ed1-83e4-af4b7818b377",
   "metadata": {
    "tags": []
   },
   "source": [
    "### Наивный подход к трансформации данных"
   ]
  },
  {
   "cell_type": "markdown",
   "id": "49e880dc-6fa8-42e3-870f-de654814273d",
   "metadata": {
    "tags": []
   },
   "source": [
    "Часто возникает необходимость преобразовать уже имеющиеся данные в топике и залить результат в другой топик. Очевидным выглядит алгоритм:\n",
    "1. прочитать данные из топика,\n",
    "1. выполнить преобразование данных,\n",
    "1. записать преобразованный результат в новый топик.\n",
    "\n",
    "Именно такой подход реализован в `com.github.neshkeev.kafka.streams.NaiveTransformations`:"
   ]
  },
  {
   "cell_type": "code",
   "execution_count": null,
   "id": "eabbfce2-7860-4587-9cd9-00038defe684",
   "metadata": {},
   "outputs": [],
   "source": [
    "docker compose cp /kafka-exercises/kafka-java-demo/src/main/java/com/github/neshkeev/kafka/streams/NaiveTransformations.java manager:/home/jovyan/work"
   ]
  },
  {
   "cell_type": "markdown",
   "id": "e8e67661-f0c3-4450-9a33-5c57500ef410",
   "metadata": {},
   "source": [
    "[NaiveTransformations.java](NaiveTransformations.java)"
   ]
  },
  {
   "cell_type": "code",
   "execution_count": null,
   "id": "d628ff46-7de9-47fd-a752-e0c049b53b29",
   "metadata": {
    "tags": []
   },
   "outputs": [],
   "source": [
    "mvn clean compile \\\n",
    "    exec:java -Dexec.mainClass='com.github.neshkeev.kafka.streams.NaiveTransformations' \\\n",
    "        > /tmp/naive-transformation.log ;\n",
    "    tail /tmp/naive-transformation.log"
   ]
  },
  {
   "cell_type": "markdown",
   "id": "d9430848-afc0-4a08-b9a5-563b9b7433f1",
   "metadata": {},
   "source": [
    "Указанный подход хотя и решает поставленную задачу, но сильно ограничен в применении: если в будущем нужна будет более сложная трансформация или во взаимодействии будет участвовать больше топиков, то модификация такого класса будет сильно затруднена.\n",
    "\n",
    "Также можно заметить, что в классе очень много служебного кода, который занимается подготовкой консьюмера и продюссера, а реальный алгоритм умещается лишь в одном тернарном операторе, который выбирает один или другой топик для записи."
   ]
  },
  {
   "cell_type": "markdown",
   "id": "4c9dc455-34c7-4a75-b76c-b0520a45fac6",
   "metadata": {},
   "source": [
    "### Трансформация данных через Kafka Streams"
   ]
  },
  {
   "cell_type": "markdown",
   "id": "b1a1d300-83c1-4b32-9434-58737b455e75",
   "metadata": {},
   "source": [
    "**Kafka Streams** - это клиентская библиотека, которая содержит множество стандартных алгоритмов (`map`, `filter` и т.д.), что значительно облегчает код и позволяет программисту сфокусироваться только на бизнес-логике."
   ]
  },
  {
   "cell_type": "markdown",
   "id": "1b640fbc-e8b7-43a5-b6b2-19e3b5d52b3b",
   "metadata": {
    "tags": []
   },
   "source": [
    "Приложение на базе Kafka Streams состоит из трёх частей:\n",
    "\n",
    "- топология ([`org.apache.kafka.streams.Topology`](https://kafka.apache.org/23/javadoc/org/apache/kafka/streams/Topology.html)) - указывает какие трансформации участвуют в работе приложения. Представляется в виде графа;\n",
    "- конфигурация ([`org.apache.kafka.streams.StreamsConfig.*`](https://kafka.apache.org/23/javadoc/org/apache/kafka/streams/StreamsConfig.html)) - конфигурация приложения (`bootstrap.servers` и т.д.) аналогична конфигурации для `Producer` и `Consumer`;\n",
    "- клиент ([`org.apache.kafka.streams.KafkaStreams`](https://kafka.apache.org/23/javadoc/org/apache/kafka/streams/KafkaStreams.html)) - клиентский класс, который позволяет запускать трансформации."
   ]
  },
  {
   "cell_type": "markdown",
   "id": "281067b7-f7ba-47dd-ac71-9750e31038d7",
   "metadata": {},
   "source": [
    "В свою очередь топология строится на двух концепциях:\n",
    "\n",
    "- стримы ([`org.apache.kafka.streams.kstream.KStream`](https://kafka.apache.org/23/javadoc/org/apache/kafka/streams/kstream/KStream.html)) - абстракция над потенциально неограниченным потоком данных\n",
    "- таблицы - абстракция над текущим состоянием. Таблицы бывают двух типов:\n",
    "    - неизменяемая таблица ([`org.apache.kafka.streams.kstream.GlobalKTable`](https://kafka.apache.org/23/javadoc/org/apache/kafka/streams/kstream/GlobalKTable.html)) - применяется для хранения данных, которые не меняются в процессе жизни приложения. Можно использовать, например, для справочной информации;\n",
    "    - таблица с текущим состоянием ([`org.apache.kafka.streams.kstream.KTable`](https://kafka.apache.org/23/javadoc/org/apache/kafka/streams/kstream/KTable.html)) - применяется для отслеживания текущего состояния по ключу.\n",
    "\n",
    "**Kafka Streams** позволяет реализовать логику аналогичную **ksqlDB** запросам на уровне java кода и встроить ее в java приложение."
   ]
  },
  {
   "cell_type": "code",
   "execution_count": null,
   "id": "cf76ef99-76ed-477f-9789-47e8f1552b09",
   "metadata": {},
   "outputs": [],
   "source": [
    "docker compose cp /kafka-exercises/kafka-java-demo/src/main/java/com/github/neshkeev/kafka/streams/ActualAccidentalPlayEvents.java manager:/home/jovyan/work"
   ]
  },
  {
   "cell_type": "markdown",
   "id": "1b7f4600-5e7c-4513-a1af-09c59bea4b10",
   "metadata": {},
   "source": [
    "[ActualAccidentalPlayEvents.java](ActualAccidentalPlayEvents.java)"
   ]
  },
  {
   "cell_type": "code",
   "execution_count": null,
   "id": "c1c3f017-0e7d-4ceb-b7da-9f1533aa82e1",
   "metadata": {
    "tags": []
   },
   "outputs": [],
   "source": [
    "mvn clean compile \\\n",
    "    exec:java \\\n",
    "        -Dexec.mainClass='com.github.neshkeev.kafka.streams.ActualAccidentalPlayEvents' \\\n",
    "        -Dexec.args='30' \\\n",
    "        > /tmp/streams-transformation.log ;\n",
    "    tail /tmp/streams-transformation.log"
   ]
  },
  {
   "cell_type": "code",
   "execution_count": null,
   "id": "f2a78165-c53f-443f-86fa-4a33c45bce94",
   "metadata": {
    "tags": []
   },
   "outputs": [],
   "source": [
    "HOST=${KSQL_CLI_HOST} \\\n",
    "new_file /tmp/play-events-actual.cli <<EOF\n",
    "SELECT sum(\"duration\") as total, \"id\" as id\n",
    "  FROM play_events_actual\n",
    " GROUP BY \"id\"\n",
    "  EMIT CHANGES;\n",
    "EOF"
   ]
  },
  {
   "cell_type": "code",
   "execution_count": null,
   "id": "a1de7c4d-1462-46a2-9385-417bab341976",
   "metadata": {
    "tags": []
   },
   "outputs": [],
   "source": [
    "ksql-execute /tmp/play-events-actual.cli"
   ]
  },
  {
   "cell_type": "code",
   "execution_count": null,
   "id": "ce355fa0-5f8e-48aa-9ffa-bb16935ffcc2",
   "metadata": {
    "tags": []
   },
   "outputs": [],
   "source": [
    "HOST=${KSQL_CLI_HOST} \\\n",
    "new_file /tmp/play-events-accidental.cli <<EOF\n",
    "SELECT sum(\"duration\") as total, \"id\" as id\n",
    "  FROM play_events_accidental\n",
    " GROUP BY \"id\"\n",
    "  EMIT CHANGES;\n",
    "EOF"
   ]
  },
  {
   "cell_type": "code",
   "execution_count": null,
   "id": "d1147c52-9fa4-4072-8cea-9b8c11084fb2",
   "metadata": {
    "tags": []
   },
   "outputs": [],
   "source": [
    "ksql-execute /tmp/play-events-accidental.cli"
   ]
  },
  {
   "cell_type": "markdown",
   "id": "332f5639-0f95-4fd6-b229-c0c3e3b87753",
   "metadata": {
    "tags": []
   },
   "source": [
    "### Соединение (join)"
   ]
  },
  {
   "cell_type": "code",
   "execution_count": null,
   "id": "abe7a866-1a0f-4992-8b2e-d94a604b9ef5",
   "metadata": {},
   "outputs": [],
   "source": [
    "docker compose cp /kafka-exercises/kafka-java-demo/src/main/java/com/github/neshkeev/kafka/streams/GetSongsPlayCount.java manager:/home/jovyan/work"
   ]
  },
  {
   "cell_type": "markdown",
   "id": "6fc4d247-a3a5-486a-851b-a255043dd1eb",
   "metadata": {},
   "source": [
    "[GetSongsPlayCount.java](GetSongsPlayCount.java)"
   ]
  },
  {
   "cell_type": "code",
   "execution_count": null,
   "id": "cba9acc3-77ae-44d3-98a5-ce766c9123da",
   "metadata": {
    "tags": []
   },
   "outputs": [],
   "source": [
    "mvn clean compile \\\n",
    "    exec:java \\\n",
    "        -Dexec.mainClass='com.github.neshkeev.kafka.streams.GetSongsPlayCount' \\\n",
    "        -Dexec.args='30' \\\n",
    "        > /tmp/songs-count-streams.log ;\n",
    "    cat /tmp/songs-count-streams.log"
   ]
  },
  {
   "cell_type": "code",
   "execution_count": null,
   "id": "0766aa08-f482-4864-8816-f9f58bd1b378",
   "metadata": {
    "tags": []
   },
   "outputs": [],
   "source": [
    "HOST=${KSQL_CLI_HOST} \\\n",
    "new_file /tmp/songs-count.cli <<EOF\n",
    "SELECT *\n",
    "  FROM songs_count;\n",
    "EOF"
   ]
  },
  {
   "cell_type": "code",
   "execution_count": null,
   "id": "9c41a58e-c678-4b25-a79b-bbec8368cf82",
   "metadata": {
    "tags": []
   },
   "outputs": [],
   "source": [
    "ksql-execute /tmp/songs-count.cli"
   ]
  },
  {
   "cell_type": "markdown",
   "id": "4a7b3231-9ae2-45fe-9536-aac597770cb5",
   "metadata": {
    "tags": []
   },
   "source": [
    "### Задание"
   ]
  },
  {
   "cell_type": "markdown",
   "id": "802899e9-4fed-47ce-b974-2ab12b7161ef",
   "metadata": {},
   "source": [
    "При помощи **kafka streams**:\n",
    "\n",
    "1. сделать join между двумя стримами на базе топиков `song` и `play-events`;\n",
    "1. найти какие композиции чаще всего включали случайно (топик `play-events-accidental`);\n",
    "1. получить песни с одинаковой продолжительностью из топике `play-events-actual`;\n",
    "1. на базе строковых столбцов в топике `songs` реализовать алгоритм [`word count`](https://en.wikipedia.org/wiki/Word_count): посчитать сколько раз каждое слово встречается в тексте;\n",
    "1. реализовать предыдущие задачи при помощи запросов **ksqlDB**."
   ]
  },
  {
   "cell_type": "code",
   "execution_count": null,
   "id": "c3afe2bc-187d-4df4-968e-4edc1e21b13c",
   "metadata": {},
   "outputs": [],
   "source": []
  }
 ],
 "metadata": {
  "kernelspec": {
   "display_name": "Bash",
   "language": "bash",
   "name": "bash"
  },
  "language_info": {
   "codemirror_mode": "shell",
   "file_extension": ".sh",
   "mimetype": "text/x-sh",
   "name": "bash"
  }
 },
 "nbformat": 4,
 "nbformat_minor": 5
}
