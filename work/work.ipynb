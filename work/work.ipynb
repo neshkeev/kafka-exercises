{
 "cells": [
  {
   "cell_type": "markdown",
   "id": "3e3422c7-b1dd-471e-bccf-68f6e64cb9ca",
   "metadata": {
    "tags": []
   },
   "source": [
    "# Аутентификация"
   ]
  },
  {
   "cell_type": "markdown",
   "id": "8d374656-b84d-4ea3-850d-0d6c03ff89de",
   "metadata": {
    "tags": []
   },
   "source": [
    "## Подготовка"
   ]
  },
  {
   "cell_type": "markdown",
   "id": "d87994db-1a5a-4267-b239-9c5b1231ec21",
   "metadata": {
    "tags": []
   },
   "source": [
    "### Создание топика"
   ]
  },
  {
   "cell_type": "code",
   "execution_count": null,
   "id": "26457054-cfe7-4bcb-82f2-c049ef1a71eb",
   "metadata": {
    "tags": []
   },
   "outputs": [],
   "source": [
    "kafka-topics --bootstrap-server \"$KAFKA_HOST\":\"$KAFKA_PORT\" \\\n",
    "    --topic my-listeners-demo-topic \\\n",
    "    --create \\\n",
    "    --partitions 1 \\\n",
    "    --replication-factor 1"
   ]
  },
  {
   "cell_type": "markdown",
   "id": "0a13d121-328b-4c7c-8d18-02d95467e5d4",
   "metadata": {
    "tags": []
   },
   "source": [
    "### Получение списка топиков"
   ]
  },
  {
   "cell_type": "code",
   "execution_count": null,
   "id": "64db26bb-9ee1-4338-a630-a4c02264e00e",
   "metadata": {
    "tags": []
   },
   "outputs": [],
   "source": [
    "kafka-topics --bootstrap-server \"$KAFKA_HOST\":\"$KAFKA_PORT\" \\\n",
    "    --list"
   ]
  },
  {
   "cell_type": "markdown",
   "id": "c8891d06-ab37-4e89-a6d6-db702932b3dc",
   "metadata": {
    "tags": []
   },
   "source": [
    "### Записать данные в топик"
   ]
  },
  {
   "cell_type": "code",
   "execution_count": null,
   "id": "45abb4e6-c7c6-4cda-aaeb-d81dc3dcae95",
   "metadata": {
    "tags": []
   },
   "outputs": [],
   "source": [
    "kafka-console-producer --bootstrap-server \"$KAFKA_HOST\":\"$KAFKA_PORT\" \\\n",
    "    --topic my-listeners-demo-topic \\\n",
    "    <<<$(yes 'Hello, World!' 2>/dev/null | head -n 10)"
   ]
  },
  {
   "cell_type": "markdown",
   "id": "18d571f1-2c9d-40da-8b74-9b44c903ece9",
   "metadata": {
    "tags": []
   },
   "source": [
    "## Чтение топика с аутентификацией и без"
   ]
  },
  {
   "cell_type": "markdown",
   "id": "f5fff53b-c83b-4cbe-ba49-33e3a535e8fb",
   "metadata": {},
   "source": [
    "Каждый брокер в текущем кластере открывает 4 порта:\n",
    "- 9092 - для клиентских запросов без аутентификации\n",
    "- 19092 - для клиентских запросов с [SASL](https://ru.wikipedia.org/wiki/Simple_Authentication_and_Security_Layer) аутентифкацией\n",
    "- 29092 - для общения брокеров друг с другом (репликация партиций топиков)\n",
    "- 39092 - для общения брокеров с `zookeeper`"
   ]
  },
  {
   "cell_type": "markdown",
   "id": "f59892ad-2373-4106-95fb-fa4033bcb7bc",
   "metadata": {
    "tags": []
   },
   "source": [
    "### Чтение из топика без аутентификации"
   ]
  },
  {
   "cell_type": "markdown",
   "id": "e402631f-d9d7-4bcd-b8a1-29e244fa45f9",
   "metadata": {},
   "source": [
    "По порту `9092` чтение данных доступно без ограничений:"
   ]
  },
  {
   "cell_type": "code",
   "execution_count": null,
   "id": "478a6a70-098f-4051-85d9-fed0ff678da6",
   "metadata": {
    "tags": []
   },
   "outputs": [],
   "source": [
    "kafka-console-consumer --bootstrap-server \"$KAFKA_HOST\":9092 \\\n",
    "    --topic my-listeners-demo-topic \\\n",
    "    --from-beginning \\\n",
    "    --timeout-ms 10000"
   ]
  },
  {
   "cell_type": "markdown",
   "id": "f5b91688-4627-4087-946d-7f3af9f1382d",
   "metadata": {},
   "source": [
    "### Чтение из топика c SASL аутентификацией"
   ]
  },
  {
   "cell_type": "markdown",
   "id": "d7d1ed25-13c2-4abf-adbc-7cfa4c90d2ff",
   "metadata": {},
   "source": [
    "Чтение данных по порту `19092` требует аутентификации:"
   ]
  },
  {
   "cell_type": "code",
   "execution_count": null,
   "id": "1afbf4f6-a9a4-4594-b76c-8deccca146c5",
   "metadata": {
    "tags": []
   },
   "outputs": [],
   "source": [
    "kafka-console-consumer --bootstrap-server \"$KAFKA_HOST\":19092 \\\n",
    "    --topic my-listeners-demo-topic \\\n",
    "    --from-beginning \\\n",
    "    --timeout-ms 5000"
   ]
  },
  {
   "cell_type": "markdown",
   "id": "a1d36c6f-e4b0-43ce-ade2-d3734cc9aa53",
   "metadata": {
    "tags": []
   },
   "source": [
    "Можно заметить:\n",
    "\n",
    "- на печать несколько раз выводилось сообщение `disconnected`. Брокер `kafka1` не пропускал запросы к порту `19092`, т.к. клиент не прошел аутентификацию;\n",
    "- ни одного сообщения из топика не было прочитано: `Processed a total of 0 messages`."
   ]
  },
  {
   "cell_type": "markdown",
   "id": "87958ca8-c83f-4ad1-b8dd-2cf79ecfd929",
   "metadata": {
    "tags": []
   },
   "source": [
    "Чтобы выполнять запросы на `kafka1:19092`, необходимо выполнить аутентификацию. В данном случае настроена [`JAAS`](https://docs.oracle.com/javase/8/docs/technotes/guides/security/jaas/JAASRefGuide.html) аутентификация `SASL_PLAINTEXT`, что означает:\n",
    "\n",
    "- `SASL` - клиент должен предоставить `username` и `password`;\n",
    "- `PLAINTEXT` - все сообщения будут передаваться и храниться в открытом виде (без шифрования)."
   ]
  },
  {
   "cell_type": "markdown",
   "id": "6c52978e-15b7-4cfa-ad38-debffe43f3f8",
   "metadata": {
    "tags": []
   },
   "source": [
    "Для аутентификации необходимо:\n",
    "\n",
    "1. создать файл `/tmp/auth.properties` с конфигурацией консьюмера:\n",
    "    - указать какой протокол аутентификации установлен на брокере (`SASL_PLAINTEXT`);\n",
    "    - указать какой механизм `SASL` установлен для клиентских подключений;\n",
    "    - указать `jaas` конфигурацию с `username` и `password`.\n",
    "2. указать файл `/tmp/auth.properties` в ключе `--consumer.config`."
   ]
  },
  {
   "cell_type": "code",
   "execution_count": null,
   "id": "1f9149a1-ae8a-44f3-9a45-283d66ad3edf",
   "metadata": {
    "tags": []
   },
   "outputs": [],
   "source": [
    "HOST=${KAFKA_HOST} \\\n",
    "new_file /tmp/auth.properties <<EOF\n",
    "security.protocol=SASL_PLAINTEXT\n",
    "sasl.mechanism=PLAIN\n",
    "sasl.jaas.config=org.apache.kafka.common.security.plain.PlainLoginModule required username=\"alice\" password=\"alice\";\n",
    "EOF\n",
    "\n",
    "HOST=${KAFKA_HOST} execute \\\n",
    "cat /tmp/auth.properties"
   ]
  },
  {
   "cell_type": "markdown",
   "id": "3fce1895-f4b4-4fa2-9c4e-1c6e18dbdbca",
   "metadata": {},
   "source": [
    "После аутентификации чтение сообщений становится доступным:"
   ]
  },
  {
   "cell_type": "code",
   "execution_count": null,
   "id": "f9e96d15-2031-42b9-bf78-bddf70364721",
   "metadata": {
    "tags": []
   },
   "outputs": [],
   "source": [
    "kafka-console-consumer --bootstrap-server \"$KAFKA_HOST\":19092 \\\n",
    "    --topic my-listeners-demo-topic \\\n",
    "    --from-beginning \\\n",
    "    --timeout-ms 10000 \\\n",
    "    --consumer.config /tmp/auth.properties"
   ]
  },
  {
   "cell_type": "markdown",
   "id": "f213ae32-b718-48e7-b24c-23ec1ad26124",
   "metadata": {
    "tags": []
   },
   "source": [
    "### Запись в топик с аутентификацией"
   ]
  },
  {
   "cell_type": "markdown",
   "id": "e90da453-b9d7-4e9e-9bf4-4276acd0ed51",
   "metadata": {
    "tags": []
   },
   "source": [
    "Для записи в топик необходимо указать файл с аутентификацией через `--producer.config` ключ:"
   ]
  },
  {
   "cell_type": "code",
   "execution_count": null,
   "id": "5ecebe7e-78de-42ec-b717-60593395e52a",
   "metadata": {
    "tags": []
   },
   "outputs": [],
   "source": [
    "kafka-console-producer --bootstrap-server \"$KAFKA_HOST\":19092 \\\n",
    "    --producer.config /tmp/auth.properties \\\n",
    "    --topic my-listeners-demo-topic \\\n",
    "    <<<$(yes 'Привет, мир!' 2>/dev/null | head -n 5)"
   ]
  },
  {
   "cell_type": "code",
   "execution_count": null,
   "id": "e62334b9-67d1-44a2-941c-2340a6581431",
   "metadata": {
    "tags": []
   },
   "outputs": [],
   "source": [
    "kafka-console-consumer --bootstrap-server \"$KAFKA_HOST\":19092 \\\n",
    "    --topic my-listeners-demo-topic \\\n",
    "    --from-beginning \\\n",
    "    --timeout-ms 10000 \\\n",
    "    --consumer.config /tmp/auth.properties"
   ]
  },
  {
   "cell_type": "markdown",
   "id": "c50d8886-2df2-4fbd-8d88-25269ddb891e",
   "metadata": {
    "tags": []
   },
   "source": [
    "При проектировании кластера необходимо в самом начале подумать об безопасности кластера. Apache Kafka [позволяет](https://kafka.apache.org/documentation/#security) установить более строгие требования к аутентификации, авторизации и шифрованию. Apache Kafka позволяет сменить схему аутентификации и шифрования в будущем, но это будет сопряжено с трудностями бизнес характера."
   ]
  },
  {
   "cell_type": "markdown",
   "id": "f0b9802a-9e88-4f35-903a-c68e0bbe9a29",
   "metadata": {
    "tags": []
   },
   "source": [
    "### Выводы"
   ]
  },
  {
   "cell_type": "markdown",
   "id": "e6def987-bd5d-4e37-b88d-9484bdff419d",
   "metadata": {
    "tags": []
   },
   "source": [
    "1. Настройка безопасности в Apache Kafka является опциональной;\n",
    "1. Apache Kafka позволяет очень точно настраивать обработку траффика в кластере;\n",
    "1. Каждый тип трафика направляется на свой собственный порт;\n",
    "1. Каждый порт может выставлять требования по аутентификации, авторизации и шифрованию."
   ]
  },
  {
   "cell_type": "markdown",
   "id": "175d4011-9937-4181-bdb4-753eb92ee7ba",
   "metadata": {
    "tags": []
   },
   "source": [
    "### Задания"
   ]
  },
  {
   "cell_type": "markdown",
   "id": "fd2ca1a6-9cae-42ba-9bd8-fd55cb3d2b63",
   "metadata": {
    "tags": []
   },
   "source": [
    "1. Для чего нужно выделять два и более порта для чтения и записи данных в Apache Kafka?\n",
    "1. Внести изменения в конфигурацию кластера, чтобы можно было выполнять логин со своим пользователем, `username` которого является вашим именем, например, `nikita`;\n",
    "1. Запустить консольный консьюмер, указав своего пользователя и его пароль в параметрах аутентификации;\n",
    "1. Запустить консольный продюсер, указав своего пользователя и его пароль в параметрах аутентификации;\n",
    "1. Настроить `SASL_PLAINTEXT` на порту `29092`."
   ]
  },
  {
   "cell_type": "markdown",
   "id": "465a793b-5856-4eab-bb5a-093241cd564f",
   "metadata": {
    "tags": []
   },
   "source": [
    "## Авторизация ACL"
   ]
  },
  {
   "cell_type": "markdown",
   "id": "62a1ffbb-ca61-43c1-b0bf-893c0c1e799e",
   "metadata": {
    "tags": []
   },
   "source": [
    "_Авторизация_ - процесс проверки (подтверждения) прав при попытке выполнения определенных действий"
   ]
  },
  {
   "cell_type": "markdown",
   "id": "e3a0a190-535d-4271-bb27-bb5a7d5ac824",
   "metadata": {},
   "source": [
    "Авторизация в Apache Kafka выполняется на базе ACL - Access Ccontrol List. Администратор должен явно написать какой пользователь какие имеет права при работе с конкретным объектом. Управлять списком прав доступа можно при помощи [`kafka-acl`](https://docs.confluent.io/kafka/operations-tools/kafka-tools.html#kafka-acls)."
   ]
  },
  {
   "cell_type": "markdown",
   "id": "28453b67-6bdd-4566-8f19-2abb5ef93938",
   "metadata": {
    "tags": []
   },
   "source": [
    "### Настройка доступа к топику"
   ]
  },
  {
   "cell_type": "markdown",
   "id": "6a6eca0b-831c-4dc3-a499-baf667dc5c56",
   "metadata": {
    "tags": []
   },
   "source": [
    "Если к топику применяется авторизация на базе ACL, то топик становится недоступным для всех, кто находится вне ACL топика:"
   ]
  },
  {
   "cell_type": "markdown",
   "id": "6f65fc7a-057b-4c83-81f4-7854160336ae",
   "metadata": {
    "tags": []
   },
   "source": [
    "#### Создать топик"
   ]
  },
  {
   "cell_type": "code",
   "execution_count": null,
   "id": "ba37efa8-8b6e-4cdf-a0c8-e1c8b8bff7a6",
   "metadata": {
    "tags": []
   },
   "outputs": [],
   "source": [
    "kafka-topics --bootstrap-server \"$KAFKA_HOST\":\"$KAFKA_PORT\" \\\n",
    "    --topic my-acl-demo-topic \\\n",
    "    --create \\\n",
    "    --partitions 1 \\\n",
    "    --replication-factor 1"
   ]
  },
  {
   "cell_type": "markdown",
   "id": "ac7a1668-e9fd-4c0e-bb34-b2377fac9350",
   "metadata": {
    "tags": []
   },
   "source": [
    "#### Запись данных в топик"
   ]
  },
  {
   "cell_type": "markdown",
   "id": "5b47d4b0-556d-4960-8414-f98e5c888f0e",
   "metadata": {
    "tags": []
   },
   "source": [
    "На текущий момент топик никак не защищен, а поэтому в него можно писать данные:"
   ]
  },
  {
   "cell_type": "code",
   "execution_count": null,
   "id": "9907d100-3506-4841-a373-7e032ee7a40e",
   "metadata": {
    "tags": []
   },
   "outputs": [],
   "source": [
    "kafka-console-producer --bootstrap-server \"$KAFKA_HOST\":\"$KAFKA_PORT\" \\\n",
    "    --topic my-acl-demo-topic \\\n",
    "<<EOF\n",
    "Отправка пред настройкой ACL\n",
    "EOF"
   ]
  },
  {
   "cell_type": "markdown",
   "id": "a377073e-2e64-4234-8f29-949385d0268c",
   "metadata": {
    "tags": []
   },
   "source": [
    "#### Чтение данных"
   ]
  },
  {
   "cell_type": "markdown",
   "id": "56cfab9e-3254-49dd-9e50-2f6be23948c0",
   "metadata": {
    "tags": []
   },
   "source": [
    "На текущий момент топик никак не защищен, а поэтому из него можно читать данные:"
   ]
  },
  {
   "cell_type": "code",
   "execution_count": null,
   "id": "6ef0d5ab-7d16-4543-8aed-69ab9e0b3969",
   "metadata": {
    "tags": []
   },
   "outputs": [],
   "source": [
    "kafka-console-consumer --bootstrap-server \"$KAFKA_HOST\":\"$KAFKA_PORT\" \\\n",
    "    --topic my-acl-demo-topic \\\n",
    "    --from-beginning \\\n",
    "    --timeout-ms 10000"
   ]
  },
  {
   "cell_type": "markdown",
   "id": "6408f3ac-209c-450c-a4e7-25938ae46f27",
   "metadata": {
    "tags": []
   },
   "source": [
    "#### Настройка ACL"
   ]
  },
  {
   "cell_type": "markdown",
   "id": "499c663c-b1f3-4dda-ab62-a246b3473fc7",
   "metadata": {
    "tags": []
   },
   "source": [
    "После настройки ACL возможность писать и читать данные из топика становится недоступной:"
   ]
  },
  {
   "cell_type": "code",
   "execution_count": null,
   "id": "b5d65499-a4e0-4d12-8fa5-1b2bd5d40335",
   "metadata": {
    "tags": []
   },
   "outputs": [],
   "source": [
    "kafka-acls --bootstrap-server \"$KAFKA_HOST\":\"$KAFKA_PORT\" \\\n",
    "  --add \\\n",
    "  --allow-principal User:alice \\\n",
    "  --operation read \\\n",
    "  --operation write \\\n",
    "  --operation alter \\\n",
    "  --operation delete \\\n",
    "  --topic my-acl-demo-topic"
   ]
  },
  {
   "cell_type": "markdown",
   "id": "3a98084c-b03a-49ed-9ca2-05388bacc7d0",
   "metadata": {},
   "source": [
    "Получение ACL списка для топика:"
   ]
  },
  {
   "cell_type": "code",
   "execution_count": null,
   "id": "222b6eec-de17-4e29-8eb3-1c866a15c40c",
   "metadata": {
    "tags": []
   },
   "outputs": [],
   "source": [
    "kafka-acls --bootstrap-server \"$KAFKA_HOST\":\"$KAFKA_PORT\" \\\n",
    "    --list \\\n",
    "    --topic my-acl-demo-topic"
   ]
  },
  {
   "cell_type": "markdown",
   "id": "27a782a1-6db8-42c0-b5b8-71599d581c4a",
   "metadata": {
    "tags": []
   },
   "source": [
    "Тут можно отметить:\n",
    "\n",
    "1. имя пользователя (`User:alice`) должно быть известно изначально (файл `/etc/kafka/kafka_jaas.conf`);\n",
    "1. параметр `--operation` можно повторять столько раз, сколько прав нужно выдать."
   ]
  },
  {
   "cell_type": "markdown",
   "id": "03745055-e058-48be-9562-e5e6516441cf",
   "metadata": {},
   "source": [
    "Текущая конфигурация аутентификации:"
   ]
  },
  {
   "cell_type": "code",
   "execution_count": null,
   "id": "3266c137-1ff0-41f9-9fdf-7d89a32f70ec",
   "metadata": {
    "tags": []
   },
   "outputs": [],
   "source": [
    "HOST=$KAFKA_HOST execute \\\n",
    "cat /etc/kafka/kafka_jaas.conf"
   ]
  },
  {
   "cell_type": "markdown",
   "id": "03514cd4-a39e-4d68-9a2d-779fb57f2d34",
   "metadata": {
    "tags": []
   },
   "source": [
    "#### Запись в топик c ACL"
   ]
  },
  {
   "cell_type": "markdown",
   "id": "8742676a-5326-4981-a943-603728138c1b",
   "metadata": {},
   "source": [
    "После настройки ACL на топике, из топика невозможно ни читать, ни писать в него, если не выполнить авторизацию, т.е. указать имя пользователя из ACL:"
   ]
  },
  {
   "cell_type": "markdown",
   "id": "71e4fdf8-d0ad-4cf0-9d6e-b96a3e683f13",
   "metadata": {
    "tags": []
   },
   "source": [
    "1. Нельзя записать даже на незащищенном порту (9092)"
   ]
  },
  {
   "cell_type": "code",
   "execution_count": null,
   "id": "d901ec1c-d507-4e93-98e5-4efb68965e6b",
   "metadata": {
    "tags": []
   },
   "outputs": [],
   "source": [
    "kafka-console-producer --bootstrap-server \"$KAFKA_HOST\":9092 \\\n",
    "    --topic my-acl-demo-topic \\\n",
    "<<EOF\n",
    "Невозможно записать по открытому порту\n",
    "EOF"
   ]
  },
  {
   "cell_type": "markdown",
   "id": "f329beaa-0ce6-4cf2-8cba-54b6e8a5aae7",
   "metadata": {
    "tags": []
   },
   "source": [
    "2. Нельзя записать, если не указан пользователь из ACL:"
   ]
  },
  {
   "cell_type": "code",
   "execution_count": null,
   "id": "04d6a271-81dd-4b46-a92b-13262df33a3a",
   "metadata": {
    "tags": []
   },
   "outputs": [],
   "source": [
    "HOST=$KAFKA_HOST \\\n",
    "new_file /tmp/admin.properties <<EOF\n",
    "security.protocol=SASL_PLAINTEXT\n",
    "sasl.mechanism=PLAIN\n",
    "sasl.jaas.config=org.apache.kafka.common.security.plain.PlainLoginModule required username=\"admin\" password=\"admin\";\n",
    "EOF"
   ]
  },
  {
   "cell_type": "code",
   "execution_count": null,
   "id": "7546f49f-40e0-4058-a5d1-7bfdd1f841c0",
   "metadata": {
    "tags": []
   },
   "outputs": [],
   "source": [
    "kafka-console-producer --bootstrap-server \"$KAFKA_HOST\":19092 \\\n",
    "    --producer.config /tmp/admin.properties \\\n",
    "    --topic my-acl-demo-topic \\\n",
    "<<EOF\n",
    "У admin так же нет прав на запись\n",
    "EOF"
   ]
  },
  {
   "cell_type": "markdown",
   "id": "12583466-c5bf-40e6-b4cd-6d4c3cf11b24",
   "metadata": {},
   "source": [
    "3. Успешная запись под пользователем `alice`, который находится в ACL списке"
   ]
  },
  {
   "cell_type": "code",
   "execution_count": null,
   "id": "56318c02-91f0-45c6-85ef-1b0d69362d45",
   "metadata": {
    "tags": []
   },
   "outputs": [],
   "source": [
    "HOST=$KAFKA_HOST \\\n",
    "new_file /tmp/alice.properties <<EOF\n",
    "security.protocol=SASL_PLAINTEXT\n",
    "sasl.mechanism=PLAIN\n",
    "sasl.jaas.config=org.apache.kafka.common.security.plain.PlainLoginModule required username=\"alice\" password=\"alice\";\n",
    "EOF"
   ]
  },
  {
   "cell_type": "code",
   "execution_count": null,
   "id": "b689ffe6-45be-451d-97e1-dae8d2d2a4e8",
   "metadata": {
    "tags": []
   },
   "outputs": [],
   "source": [
    "kafka-console-producer --bootstrap-server \"$KAFKA_HOST\":19092 \\\n",
    "    --producer.config /tmp/alice.properties \\\n",
    "    --topic my-acl-demo-topic  \\\n",
    "<<EOF\n",
    "alice находится в ACL\n",
    "alice может писать в топик my-acl-demo-topic\n",
    "EOF"
   ]
  },
  {
   "cell_type": "markdown",
   "id": "1298668f-6c3b-4ef8-8d86-5098e995aba7",
   "metadata": {
    "tags": []
   },
   "source": [
    "#### Чтение из топика c ACL"
   ]
  },
  {
   "cell_type": "markdown",
   "id": "ea5792fe-78d8-47b6-8ca1-4de0a46906e3",
   "metadata": {
    "tags": []
   },
   "source": [
    "1. Ошибка авторизации при чтении данных по незащищенному порту (9092)"
   ]
  },
  {
   "cell_type": "code",
   "execution_count": null,
   "id": "9f745731-dc89-42a3-be7b-b8d95da87571",
   "metadata": {
    "tags": []
   },
   "outputs": [],
   "source": [
    "kafka-console-consumer --bootstrap-server \"$KAFKA_HOST\":9092 \\\n",
    "    --topic my-acl-demo-topic \\\n",
    "    --from-beginning \\\n",
    "    --timeout-ms 10000"
   ]
  },
  {
   "cell_type": "markdown",
   "id": "96451b49-3370-496c-aeeb-4baf7289a475",
   "metadata": {
    "tags": []
   },
   "source": [
    "2. Пользователи не из ACL спсика не могут читать сообщения из защищенного топика:"
   ]
  },
  {
   "cell_type": "code",
   "execution_count": null,
   "id": "af51f55e-6411-4440-a57a-a2ca37a1305f",
   "metadata": {
    "tags": []
   },
   "outputs": [],
   "source": [
    "HOST=$KAFKA_HOST execute \\\n",
    "cat /tmp/admin.properties"
   ]
  },
  {
   "cell_type": "code",
   "execution_count": null,
   "id": "5e855c7f-6706-488b-b5bc-c91641f61402",
   "metadata": {
    "tags": []
   },
   "outputs": [],
   "source": [
    "kafka-console-consumer --bootstrap-server \"$KAFKA_HOST\":19092 \\\n",
    "    --topic my-acl-demo-topic \\\n",
    "    --from-beginning \\\n",
    "    --timeout-ms 10000 \\\n",
    "    --consumer.config /tmp/admin.properties"
   ]
  },
  {
   "cell_type": "markdown",
   "id": "6103e51a-f5b7-4cb7-9fe4-e89883e06cee",
   "metadata": {
    "tags": []
   },
   "source": [
    "3. Успешное чтение для пользователя из ACL списка:"
   ]
  },
  {
   "cell_type": "code",
   "execution_count": null,
   "id": "92871f7b-398e-40c8-9f61-cec9f979b7dc",
   "metadata": {
    "tags": []
   },
   "outputs": [],
   "source": [
    "HOST=$KAFKA_HOST execute \\\n",
    "cat /tmp/alice.properties"
   ]
  },
  {
   "cell_type": "code",
   "execution_count": null,
   "id": "7edbb3d9-3cb0-470d-b6da-079f5b3f1a4c",
   "metadata": {
    "tags": []
   },
   "outputs": [],
   "source": [
    "kafka-console-consumer --bootstrap-server \"$KAFKA_HOST\":19092 \\\n",
    "    --topic my-acl-demo-topic \\\n",
    "    --from-beginning \\\n",
    "    --timeout-ms 10000 \\\n",
    "    --consumer.config /tmp/alice.properties"
   ]
  },
  {
   "cell_type": "markdown",
   "id": "331e5b5a-d7be-4407-af09-a0a50deb0878",
   "metadata": {
    "tags": []
   },
   "source": [
    "### Выводы"
   ]
  },
  {
   "cell_type": "markdown",
   "id": "50649c6c-7c31-4cb9-8713-7f5f31eeefed",
   "metadata": {},
   "source": [
    "1. Авторизация настраивается при помощи ACL - Access Control Lists;\n",
    "1. Авторизация настраивается для конкретного пользователя на конкретный топик для выполнения конкретных действий;\n",
    "1. Если к топику применены настройки авторизации, то только пользователи из ACL списка могут получать доступ к топику;\n",
    "1. Перед авторизацией обязательно необходимо выполнить аутентификацию, чтобы проверить права пользователя."
   ]
  },
  {
   "cell_type": "markdown",
   "id": "2bcdbccf-c472-45f6-ac45-43cd673023d7",
   "metadata": {
    "tags": []
   },
   "source": [
    "### Задание"
   ]
  },
  {
   "cell_type": "markdown",
   "id": "2019ad74-9953-467e-9a9f-6e50a6381971",
   "metadata": {},
   "source": [
    "1. Назначить права доступа на чтение топика `my-acl-demo-topic` своему пользователю;\n",
    "1. Убедиться, что читать из топика можно, а записывать нельзя;\n",
    "1. Выдать права на запись в топик `my-acl-demo-topic`;\n",
    "1. Убедиться, что есть доступ на запись данных:\n",
    "    - найти своего пользователя в ACL при помощи `kafka-acl`;\n",
    "    - прочитать данные из топика `my-acl-demo-topic` при помощи `kafka-console-consumer`."
   ]
  },
  {
   "cell_type": "markdown",
   "id": "abfaac9f-1ce5-4a16-84cd-0a0453ebf198",
   "metadata": {
    "tags": []
   },
   "source": [
    "## Удалить топик"
   ]
  },
  {
   "cell_type": "code",
   "execution_count": null,
   "id": "6829d727-23d3-4921-8997-46db4d884ed3",
   "metadata": {
    "tags": []
   },
   "outputs": [],
   "source": [
    "kafka-topics --bootstrap-server \"$KAFKA_HOST\":19092 \\\n",
    "    --topic my-acl-demo-topic \\\n",
    "    --delete \\\n",
    "    --command-config /tmp/alice.properties"
   ]
  },
  {
   "cell_type": "code",
   "execution_count": null,
   "id": "40311ece-b7a5-4e7b-95c4-5c29073dd59b",
   "metadata": {
    "tags": []
   },
   "outputs": [],
   "source": [
    "kafka-topics --bootstrap-server \"$KAFKA_HOST\":19092 \\\n",
    "    --list \\\n",
    "    --command-config /tmp/alice.properties"
   ]
  },
  {
   "cell_type": "code",
   "execution_count": null,
   "id": "66f87988-854b-43a4-aebd-f368108fc71c",
   "metadata": {},
   "outputs": [],
   "source": []
  }
 ],
 "metadata": {
  "kernelspec": {
   "display_name": "Bash",
   "language": "bash",
   "name": "bash"
  },
  "language_info": {
   "codemirror_mode": "shell",
   "file_extension": ".sh",
   "mimetype": "text/x-sh",
   "name": "bash"
  }
 },
 "nbformat": 4,
 "nbformat_minor": 5
}
