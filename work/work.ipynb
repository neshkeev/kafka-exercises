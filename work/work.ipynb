{
 "cells": [
  {
   "cell_type": "markdown",
   "id": "3e3422c7-b1dd-471e-bccf-68f6e64cb9ca",
   "metadata": {
    "tags": []
   },
   "source": [
    "# Базовые операции с Kafka Consumer"
   ]
  },
  {
   "cell_type": "markdown",
   "id": "3b60ba6c-0260-4f12-a096-ae0740f3ad02",
   "metadata": {
    "tags": []
   },
   "source": [
    "## Подготовка"
   ]
  },
  {
   "cell_type": "markdown",
   "id": "d87994db-1a5a-4267-b239-9c5b1231ec21",
   "metadata": {
    "tags": []
   },
   "source": [
    "### Создать топик"
   ]
  },
  {
   "cell_type": "markdown",
   "id": "e7fed493-7061-45ef-8128-d8b59cd990d1",
   "metadata": {},
   "source": [
    "При создании топика необходимо настроить два параметра:\n",
    "1. `partitions` - количество партиций в топике. Apache Kafka гарантирует порядок только в рамках одной партиций. Чем больше партиций, тем больше консьюмеров можно держать в одной консьюмер группе, а значит тем выше параллелизм и пропускная способность (throughput);\n",
    "1. `replication factor (RF)` - число копий одной партиции для хранения в кластере Apache Kafka.\n",
    "\n",
    "Базовые рекомендации:\n",
    "\n",
    "- `RF == 3`, т.е. 3 копии (реплики) одних и тех же данных будет хранится в кластере. Значение `3` выведено экспериментальным путем и позволяет обеспечеить надежность даже на очень больших кластерах\n",
    "- `partitions = K * N`, где `N` - ожидаемое количество консьюмеров в консьюмер группе, а `K (>= 1)` - целочисленный коэффициент. Так количество партиций будет кратным количеству консьюмеров, а значит консьюмеры будут равномерно нагружены."
   ]
  },
  {
   "cell_type": "markdown",
   "id": "e91f39ca-3ace-4760-94a6-0c5a3931c59a",
   "metadata": {},
   "source": [
    "Топик `movies` будет состоять из двух партиций, по три копии каждая:"
   ]
  },
  {
   "cell_type": "code",
   "execution_count": null,
   "id": "26457054-cfe7-4bcb-82f2-c049ef1a71eb",
   "metadata": {
    "tags": []
   },
   "outputs": [],
   "source": [
    "kafka-topics --bootstrap-server \"$KAFKA_HOST\":\"$KAFKA_PORT\" \\\n",
    "  --topic movies \\\n",
    "  --create \\\n",
    "  --partitions 2 \\\n",
    "  --replication-factor 3"
   ]
  },
  {
   "cell_type": "markdown",
   "id": "feb455df-d9dd-46f7-b84e-9c83ce59f89f",
   "metadata": {
    "tags": []
   },
   "source": [
    "### Получить список топиков"
   ]
  },
  {
   "cell_type": "code",
   "execution_count": null,
   "id": "d9101aa7-0db5-4977-90f4-dab00411b175",
   "metadata": {
    "tags": []
   },
   "outputs": [],
   "source": [
    "kafka-topics --bootstrap-server \"$KAFKA_HOST\":\"$KAFKA_PORT\" \\\n",
    "    --list"
   ]
  },
  {
   "cell_type": "code",
   "execution_count": null,
   "id": "80dc1752-6df7-4217-9222-c8890ea22160",
   "metadata": {
    "tags": []
   },
   "outputs": [],
   "source": [
    "log_file=$(HOST=$KAFKA_HOST execute ls /tmp/kraft-combined-logs/__cluster_metadata-0/ | grep '\\.log$')\n",
    "\n",
    "kafka-metadata-shell \\\n",
    "    --snapshot /tmp/kraft-combined-logs/__cluster_metadata-0/$log_file \\\n",
    "    ls /topics \\\n",
    "    2> /dev/null"
   ]
  },
  {
   "cell_type": "code",
   "execution_count": null,
   "id": "c069efce-35ba-4152-848d-30c6a30bcb6a",
   "metadata": {
    "tags": []
   },
   "outputs": [],
   "source": [
    "kafka-topics --bootstrap-server \"$KAFKA_HOST\":\"$KAFKA_PORT\" \\\n",
    "    --describe \\\n",
    "    --topic movies"
   ]
  },
  {
   "cell_type": "markdown",
   "id": "c8891d06-ab37-4e89-a6d6-db702932b3dc",
   "metadata": {
    "tags": []
   },
   "source": [
    "### Записать данные в топик"
   ]
  },
  {
   "cell_type": "markdown",
   "id": "40c1c1c3-1ad2-44fb-850f-5bfbe3d7218b",
   "metadata": {},
   "source": [
    "Утилита `kafka-console-producer` позволяет записат в топик данные со стандартного потока ввода. При этом все, что попадает в стандартный поток ввода (`stdin`) определяется как значение, и это зачение целиком без ключа отправляется в Apache Kafka кластер. Если существует ключ, то необходимо указать дополнительные опции при запуске `kafka-console-producer`:"
   ]
  },
  {
   "cell_type": "code",
   "execution_count": null,
   "id": "24da4cfc-d60a-4462-ad03-a3897fb127fc",
   "metadata": {
    "tags": []
   },
   "outputs": [],
   "source": [
    "kafka-console-producer \\\n",
    "    --bootstrap-server \"$KAFKA_HOST\":\"$KAFKA_PORT\" \\\n",
    "    --topic movies \\\n",
    "    --property \"parse.key=true\" \\\n",
    "    --property \"key.separator=:\" \\\n",
    "<<EOF\n",
    "0:The Shawshank Redemption, 1994\n",
    "0:God Father, 1972\n",
    "0:The Dark Knight, 2008\n",
    "0:The Godfather Part II, 1974\n",
    "0:12 Angry Men, 1957\n",
    "1:Schindler's List, 1993\n",
    "1:The Lord of the Rings: The Return of the King, 2003\n",
    "1:Pulp Fiction, 1994\n",
    "1:The Lord of the Rings: The Fellowship of the Ring, 2001\n",
    "1:The Good, the Bad and the Ugly, 1966\n",
    "EOF"
   ]
  },
  {
   "cell_type": "markdown",
   "id": "18d571f1-2c9d-40da-8b74-9b44c903ece9",
   "metadata": {
    "tags": []
   },
   "source": [
    "### Прочитать данные из топика"
   ]
  },
  {
   "cell_type": "markdown",
   "id": "5cb58b31-6822-439a-b470-5bff8b3d8f9c",
   "metadata": {},
   "source": [
    "Утилита `kafka-console-consumer` позволяет прочитать данные из топика, и отправить результаты на стандартный поток вывода (stdout). При этом по умолчанию печаются только значения, которые находились в топике. Если необходимо напечатать также ключ и партицию, в которой находилась запись, то необходимо указать дополнительные опции при старте `kafka-console-consumer`:"
   ]
  },
  {
   "cell_type": "code",
   "execution_count": null,
   "id": "478a6a70-098f-4051-85d9-fed0ff678da6",
   "metadata": {
    "tags": []
   },
   "outputs": [],
   "source": [
    "kafka-console-consumer \\\n",
    "    --bootstrap-server \"$KAFKA_HOST\":\"$KAFKA_PORT\" \\\n",
    "    --topic movies \\\n",
    "    --from-beginning \\\n",
    "    --timeout-ms 10000 \\\n",
    "    --property print.key=true \\\n",
    "    --property print.partition=true"
   ]
  },
  {
   "cell_type": "markdown",
   "id": "343ce8c6-da9f-4cce-b3e3-3ed4558eda7a",
   "metadata": {},
   "source": [
    "Обратите внимание, что сначала были отображены все записи одной партиции, а потом все записи второй партиции"
   ]
  },
  {
   "cell_type": "markdown",
   "id": "954387a8-6c1e-4e15-9d2e-505d8cb7ade9",
   "metadata": {
    "tags": []
   },
   "source": [
    "## Конфигурация консьюмеров"
   ]
  },
  {
   "cell_type": "markdown",
   "id": "38c90ca0-00db-4ff9-9076-fb43b95ac321",
   "metadata": {
    "tags": []
   },
   "source": [
    "Консьюмер имеет много [параметров конфигурации](https://docs.confluent.io/platform/current/installation/configuration/consumer-configs.html), но на практике наиболее часто используют следующие:\n",
    "|<div style=\"width:250px\">Имя</div>|Описание|<div style=\"width:200px\">Значение по умолчанию</div>|Допустимые значения|\n",
    "|---|--------|---------------------|---------|\n",
    "|[`group.id`](https://docs.confluent.io/platform/current/installation/configuration/consumer-configs.html#group-id)|Идентификатор группы, в которую будет входить консьюмер. Консьюмер группа создается \"на лету\" как только consumer coordinator получает новое значение `group.id` | `null` | цифро-буквенная последовательность |\n",
    "|[`auto.offset.reset`](https://docs.confluent.io/platform/current/installation/configuration/consumer-configs.html#auto.offset.reset)|Откуда начинать читать данные из топика, когда новый консьюмер подключается: `earliest` - с самого начала; `latest` - только новые (игноририровать имеющиеся записи)|`latest`|`latest`\\|`earliest`|\n",
    "|[`enable-auto-commit`](https://docs.confluent.io/platform/current/installation/configuration/consumer-configs.html#enable-auto-commit)|Если значение `true`, то консьюмер будет сам автоматически отправлять брокеру информацию об обработанных событиях. |`true`|`true`\\|`false`|\n",
    "|[`max-poll-records`](https://docs.confluent.io/platform/current/installation/configuration/consumer-configs.html#max-poll-records)|Максимальное число записей, которое вернет брокер за одно обращение. |`500`|`[1,..]`|\n",
    "|[`max-poll-interval-ms`](https://docs.confluent.io/platform/current/installation/configuration/consumer-configs.html#max-poll-interval-ms)|Максимальное время на обработку батча. Если консьюмер не вызовет `poll()` до истечения этого срока, то консьюмер признается мертвым, consumer group coordinator запустит перебалансировку партиций среди оставщихся живых консьюмеров в консьюмер группе |`300_000`(5 минут)|`[1,..]`|"
   ]
  },
  {
   "cell_type": "markdown",
   "id": "799b5f80-7ad0-4977-8994-e3695c5ea1ab",
   "metadata": {
    "tags": []
   },
   "source": [
    "Функция `run_consumer_with_config` позволяет запустить консольный консьюмер с указанной конфигурацией:"
   ]
  },
  {
   "cell_type": "code",
   "execution_count": null,
   "id": "4d7f6376-00bb-4d31-8ea1-5ff6c0a56070",
   "metadata": {
    "tags": []
   },
   "outputs": [],
   "source": [
    "function run_consumer_with_config() {\n",
    "    local consumer_config=${1:-/tmp/consumer.properties}\n",
    "    local HOST=$KAFKA_HOST\n",
    "\n",
    "    execute \"[ -f ${consumer_config} ]\" || {\n",
    "        execute touch ${consumer_config}\n",
    "    }\n",
    "\n",
    "    kafka-console-consumer \\\n",
    "        --bootstrap-server \"$KAFKA_HOST\":\"$KAFKA_PORT\" \\\n",
    "        --topic movies \\\n",
    "        --from-beginning \\\n",
    "        --timeout-ms 10000 \\\n",
    "        --property print.key=true \\\n",
    "        --property print.partition=true \\\n",
    "        --consumer.config ${consumer_config}\n",
    "}"
   ]
  },
  {
   "cell_type": "markdown",
   "id": "521fbeaf-c92a-480e-a60e-e483c079a105",
   "metadata": {},
   "source": [
    "Консьюмер группа позволяет запоминать какие записи уже были обработаны. Таким образом, только необработанные записи будут прочитаны при перезапуске консьюмер группы:"
   ]
  },
  {
   "cell_type": "code",
   "execution_count": null,
   "id": "d9bf1b17-b66b-47f9-81a6-403ce9e33ae9",
   "metadata": {
    "tags": []
   },
   "outputs": [],
   "source": [
    "HOST=$KAFKA_HOST \\\n",
    "new_file /tmp/consumer-my-explicit-group-id.properties <<EOF\n",
    "group.id=my-explicit-group-id\n",
    "max-poll-records=100\n",
    "max-poll-interval-ms=1000\n",
    "EOF\n",
    "\n",
    "HOST=$KAFKA_HOST execute \\\n",
    "cat /tmp/consumer-my-explicit-group-id.properties"
   ]
  },
  {
   "cell_type": "code",
   "execution_count": null,
   "id": "5e78d3f5-2963-4e95-b83f-e5377a60386b",
   "metadata": {
    "tags": []
   },
   "outputs": [],
   "source": [
    "run_consumer_with_config /tmp/consumer-my-explicit-group-id.properties"
   ]
  },
  {
   "cell_type": "markdown",
   "id": "ce45a081-57f5-4bda-9d3e-e3fb56825943",
   "metadata": {
    "tags": []
   },
   "source": [
    "К сожалению, консольный консьюмер не позволяет полностью задать любую конфигурацию, поэтому из трех конфигов, был применен только один: `group.id=my-explicit-group-id`."
   ]
  },
  {
   "cell_type": "markdown",
   "id": "95e04824-758c-4864-b751-2c250390a355",
   "metadata": {},
   "source": [
    "Проверить наличие консьюмер группы можно при помощи консольной утилиты:"
   ]
  },
  {
   "cell_type": "code",
   "execution_count": null,
   "id": "0b4cb387-01f5-4a88-9848-7dc240dac86d",
   "metadata": {
    "tags": []
   },
   "outputs": [],
   "source": [
    "kafka-consumer-groups --bootstrap-server \"${KAFKA_HOST}\":\"${KAFKA_PORT}\" \\\n",
    "    --group my-explicit-group-id \\\n",
    "    --describe \\\n",
    "    --members"
   ]
  },
  {
   "cell_type": "markdown",
   "id": "f7a67c84-3261-4610-b3ec-d28efab73e94",
   "metadata": {},
   "source": [
    "Если запустить консьюмер с той же конфигурацией, то ни одной записи не будет получено:"
   ]
  },
  {
   "cell_type": "code",
   "execution_count": null,
   "id": "1309d9ec-981e-4a17-b372-250e32fbb630",
   "metadata": {
    "tags": []
   },
   "outputs": [],
   "source": [
    "run_consumer_with_config /tmp/consumer-my-explicit-group-id.properties"
   ]
  },
  {
   "cell_type": "markdown",
   "id": "b68e900a-9eda-4a38-8911-9ab65d0a3144",
   "metadata": {},
   "source": [
    "Если отправить новые сообщения в топик `movies` и запустить снова консьюмер с той же конфигурацией, то будут получены только новые записи:"
   ]
  },
  {
   "cell_type": "code",
   "execution_count": null,
   "id": "a15662c5-c142-454b-a6a1-d910c12ae628",
   "metadata": {
    "tags": []
   },
   "outputs": [],
   "source": [
    "kafka-console-producer \\\n",
    "  --bootstrap-server \"$KAFKA_HOST\":\"$KAFKA_PORT\" \\\n",
    "  --topic movies \\\n",
    "  --property \"parse.key=true\" \\\n",
    "  --property \"key.separator=:\" \\\n",
    "<<EOF\n",
    "0:Lock, Stock and Two Smoking Barrels, 1998\n",
    "1:Forrest Gump, 1994\n",
    "EOF"
   ]
  },
  {
   "cell_type": "code",
   "execution_count": null,
   "id": "07d34fa1-447f-42d4-9f32-d13c3cfad6ce",
   "metadata": {
    "tags": []
   },
   "outputs": [],
   "source": [
    "run_consumer_with_config /tmp/consumer-my-explicit-group-id.properties"
   ]
  },
  {
   "cell_type": "markdown",
   "id": "771f2bb8-ef80-4575-bbe2-d7f737d29bd6",
   "metadata": {
    "tags": []
   },
   "source": [
    "### Задание"
   ]
  },
  {
   "cell_type": "markdown",
   "id": "9ea86c59-b297-42f8-970e-59b4c64701e2",
   "metadata": {},
   "source": [
    "1. Создать новую консьюмер группу для топика `movies`, названием которой будет ваше имя;\n",
    "1. Добавить два консьюмера в новую консьюмер группу (можно использовать [`kafka-consumer-1.ipynb`](kafka-consumer-1.ipynb) и [`kafka-consumer-2.ipynb`](kafka-consumer-2.ipynb) для параллельного запуска консьюмеров);\n",
    "1. Убедиться, что консьюмер группа состоит из двух консьюмеров;\n",
    "1. Убедиться, что после перезапуска консьюмеров, старые записи не не обрабатываются заново."
   ]
  },
  {
   "cell_type": "markdown",
   "id": "5dc1de3f-8bc5-4eb1-95aa-1b52981bae6a",
   "metadata": {
    "tags": []
   },
   "source": [
    "## Консьюмер группы"
   ]
  },
  {
   "cell_type": "markdown",
   "id": "cec121d6-05e8-4b08-b44a-fc1937c649dd",
   "metadata": {},
   "source": [
    "Каждый топик имеет одну и более партиций, при этом каждую партицию можно читать параллельно, увеличивая таким образом пропускную способность приложения.\n",
    "\n",
    "При параллельном чтении данных из топика, невозможно гарантировать `FIFO` порядок в рамках всего топика, Apache Kafka гарантирует порядок записей только в рамках одной партиции, поэтому необходимо ответственно подходить к разбиению топика на партиции. На практике редко бывает необходимо поддерживать FIFO порядок в пределах всего топика, но если такая ситуация возникает, то можно создать топик, в котором будет всего лишь одна партиция. При этом сама партция может иметь `RF` (`Replication Factor`) больше единицы для повышения оказоустойчивости.\n",
    "\n",
    "Для параллельного чтения данных из топика необходимо запустить несколько инстанцев консьюмера, объединив их всех в одну консьюмер группу (consumer group). Для этих целей используется опция `group.id`: у всех консьюмеров в одной консьюмер группе должно быть одно и тоже же значение `group.id`"
   ]
  },
  {
   "cell_type": "markdown",
   "id": "6800df2f-505f-4d0f-a757-7c98a7b7ba21",
   "metadata": {
    "tags": []
   },
   "source": [
    "### Объединение нескольких консьюмеров в одну консьюмер группу"
   ]
  },
  {
   "cell_type": "markdown",
   "id": "64f12700-aba7-4618-85d7-b52fb54c0c2c",
   "metadata": {
    "tags": []
   },
   "source": [
    "Откройте [kafka-consumer-1.ipynb](./kafka-consumer-1.ipynb) и запустите консьюмера. Он автоматически завершится через 60 секунд"
   ]
  },
  {
   "cell_type": "markdown",
   "id": "92887e12-bebe-40ee-86fb-781f24dd9b8f",
   "metadata": {},
   "source": [
    "Откройте [kafka-consumer-2.ipynb](./kafka-consumer-2.ipynb) и запустите консьюмера. Он автоматически завершится через 60 секунд"
   ]
  },
  {
   "cell_type": "markdown",
   "id": "f4c5b850-c3ed-4bdf-9bcd-88306634dd64",
   "metadata": {},
   "source": [
    "Откройте [kafka-consumer-3.ipynb](./kafka-consumer-3.ipynb) и запустите консьюмера. Он автоматически завершится через 60 секунд"
   ]
  },
  {
   "cell_type": "markdown",
   "id": "c5cc49b0-d36e-4641-b188-d30c9c70a418",
   "metadata": {},
   "source": [
    "**ВНИМАНИЕ** убедитесь, что все три консьюмера из [kafka-consumer-1.ipynb](./kafka-consumer-1.ipynb), [kafka-consumer-2.ipynb](./kafka-consumer-2.ipynb) и [kafka-consumer-3.ipynb](./kafka-consumer-3.ipynb) запущены"
   ]
  },
  {
   "cell_type": "code",
   "execution_count": null,
   "id": "c4e132ec-f0ff-4779-b4e8-1515a3a29f9e",
   "metadata": {
    "tags": []
   },
   "outputs": [],
   "source": [
    "kafka-consumer-groups --bootstrap-server kafka1:9092,kafka2:9092 --list | grep -q consumer-group-1 &&\n",
    "kafka-consumer-groups --bootstrap-server kafka1:9092,kafka2:9092 --group consumer-group-1 --describe --members |\n",
    "  grep '^consumer-group-1' | \\\n",
    "  awk '{print $2}' | \\\n",
    "  sort -u | wc -l | \\\n",
    "  grep -q '^3' || {\n",
    "    echo \"Пожалуйста, запустите консьюмеры\" &&\n",
    "    false\n",
    "  }"
   ]
  },
  {
   "cell_type": "code",
   "execution_count": null,
   "id": "bef1f11f-d772-4d7c-9df1-1b35746e0730",
   "metadata": {
    "tags": []
   },
   "outputs": [],
   "source": [
    "kafka-consumer-groups --bootstrap-server kafka1:9092,kafka2:9092 \\\n",
    "    --group consumer-group-1 \\\n",
    "    --describe \\\n",
    "    --members"
   ]
  },
  {
   "cell_type": "code",
   "execution_count": null,
   "id": "70280cb9-1992-4ac5-8958-c606e267cbeb",
   "metadata": {
    "tags": []
   },
   "outputs": [],
   "source": [
    "kafka-console-producer \\\n",
    "  --bootstrap-server kafka1:9092 \\\n",
    "  --topic movies \\\n",
    "  --property \"parse.key=true\" \\\n",
    "  --property \"key.separator=:\" \\\n",
    "<<EOF\n",
    "0:Операция \"Ы\" и другие приключения Шурика, 1965\n",
    "0:Место встречи изменить нельзя, 1979\n",
    "0:Семнадцать мнгновений весны, 1973\n",
    "0:Собачье сердце, 1988\n",
    "0:Джельтенмены удачи, 1971\n",
    "1:Тот самый Мюнхаузен, 1979\n",
    "1:Служебный роман, 1977\n",
    "1:Бриллиантовая рука, 1969\n",
    "1:Кавказская пленница, 1967\n",
    "1:12 стульев,1971\n",
    "EOF"
   ]
  },
  {
   "cell_type": "markdown",
   "id": "bbcf162f-f870-4e1b-8636-9905a2abab76",
   "metadata": {
    "tags": []
   },
   "source": [
    "Обратите внимание, что\n",
    "\n",
    "- топик `movies` имеет всего две партиции,\n",
    "- при загрузке данных в Kafka, у всех записей было лишь два уникальных ключа: `0` и `1`,\n",
    "- консьюмер группа `consumer-group-1` состоит из трёх консьюмеров,\n",
    "- только два консьюмера получили данные и вывели их на экран."
   ]
  },
  {
   "cell_type": "markdown",
   "id": "6e0031a6-1fe7-4fe4-b433-8a26d841b6d9",
   "metadata": {
    "tags": []
   },
   "source": [
    "### Выводы"
   ]
  },
  {
   "cell_type": "markdown",
   "id": "2bdaf615-f691-47e3-8f26-b35bd286880f",
   "metadata": {
    "tags": []
   },
   "source": [
    "1. Один консьюмер в консьюмер группе _может_ обрабатывать одну или больше партиций;\n",
    "1. Количество консьюмеров в консьюмер группе должно быть делителем количества партиций в топике, иначе будет неравномерная нагрузка на консьюмеры;\n",
    "1. Если количество консьюмеров в консьюмер группе больше числа партиций, то консьюмеры будут простаивать."
   ]
  },
  {
   "cell_type": "markdown",
   "id": "ba5f216b-7878-4ccc-b1ca-796535aff44a",
   "metadata": {
    "tags": []
   },
   "source": [
    "### Задание"
   ]
  },
  {
   "cell_type": "markdown",
   "id": "697bcc35-0fd9-449c-aaeb-652ebc3a947b",
   "metadata": {},
   "source": [
    "1. Создать новый топик `music`;\n",
    "1. При помощи сайта [birthdayjams.com](https://www.birthdayjams.com/) найти песни, которые были популярны в день вашего рождения в периоде с 0 до 15 лет;\n",
    "1. Отправить названия песен в топик `music`, при этом ключом записи будет год песни, например: *1999:Christina Aguilera, Genie In A Bottle*;\n",
    "1. Убедиться, что песни уходят в разные партиции топика `music`;\n",
    "1. **(*) ДОПОЛНИТЕЛЬНО**: запустить 2 или 3 консьюмера в одной консьюмер группе, чтобы получать данные в разных консьюмерах;\n",
    "1. **(*) ДОПОЛНИТЕЛЬНО**: повысить количество партиций топика `music` до 5 (удалить топик и создать заново) и посмотреть, в какие консьюмеры какие записи будут направлены."
   ]
  },
  {
   "cell_type": "markdown",
   "id": "025d0cd4-a4fb-4ac2-b302-4b0aaf530b7c",
   "metadata": {
    "tags": []
   },
   "source": [
    "## Координатор консьюмер групп"
   ]
  },
  {
   "cell_type": "markdown",
   "id": "4f3ecc17-3bdb-4e71-877a-7d0fc0b008d2",
   "metadata": {},
   "source": [
    "Консьюмер группа объединяет несколько консьюмеров, которые могут читать данные из топика параллельно. Каждый консьюмер в консьюмер группе получает одну или более партиций для чтения, но два консьюмера не могут читать одну партицию одновременно. При этом:\n",
    "\n",
    "- если число партиций больше, чем число консьюмеров, то один консьюмер может читать данные из нескольких партиций;\n",
    "- если число консьюмеров больше, чем число партиций, то консьюмеры, которые не получили партиции на обработку, будут находится в ждущем (`IDLE`) режиме.\n",
    "\n",
    "Если один из консьюмеров прекращает свою работу, то его партиции перераспределяются между другими консьюмерами. Процесс распределения партиций между консьюмерами назвается _балансировка_ (rebalabcing) и занимается им один из брокеров Kafka кластера. Этот брокер называется **Координатором Консьюмер Группы (Consumer Group Coordinator)**."
   ]
  },
  {
   "cell_type": "markdown",
   "id": "fbae46c5-f8b3-4a3a-b5ef-0ae1a0dbc54f",
   "metadata": {
    "tags": []
   },
   "source": [
    "Для каждой консьюмер группы consumer group coordinator может быть различным, чтобы его узнать, можно выполнить следующую команду:"
   ]
  },
  {
   "cell_type": "code",
   "execution_count": null,
   "id": "ad23ef66-7328-4bc4-a54a-b460ec1f0a33",
   "metadata": {
    "tags": []
   },
   "outputs": [],
   "source": [
    "kafka-consumer-groups --bootstrap-server \"${KAFKA_HOST}\":\"${KAFKA_PORT}\" \\\n",
    "    --group my-explicit-group-id \\\n",
    "    --describe \\\n",
    "    --state"
   ]
  },
  {
   "cell_type": "markdown",
   "id": "e143ef29-b019-416d-91f3-a7c2b8739d2c",
   "metadata": {
    "tags": []
   },
   "source": [
    "Колонка **`COORDINATOR`** показывает, какой консьюмер является consumer group coordinator для указанной консьюмер группы."
   ]
  },
  {
   "cell_type": "markdown",
   "id": "101b7233-93c9-4d3d-b9ff-6c98252846ef",
   "metadata": {
    "tags": []
   },
   "source": [
    "### Перебалансировка"
   ]
  },
  {
   "cell_type": "markdown",
   "id": "1e3cdaf8-d156-4f4a-9fbe-f06ca3ba8303",
   "metadata": {},
   "source": [
    "Чтобы запустить консьюмер группу нет никакой необходимости синхронизировать запуск каждого консьюмера, чтобы он произошел в одно время со всеми остальными консьюмерами в консьюмер группе.\n",
    "\n",
    "Когда появляется первый консьюмер в консьюмер группе, Kafka выбирает одного из брокеров в качестве consumer group coordinator и он назначает чтение всех партиций топика первому консьюмеру.\n",
    "\n",
    "По мере запуска новых консьюмеров в консьюмер группе (по `group.id`) consumer group coordinator будет перераспределять партиции между всеми участниками консьюмер группы равномерно.\n",
    "\n",
    "Если какой-либо коньсьюмер в консьюмер группе завершает свою работу, то его партиции перераспределяются между остальными участниками консьюмер группы.\n",
    "\n",
    "Процесс перераспределения партиций между участниками консьюмер группы называется **перебалансировка** (**rebalabcing**)."
   ]
  },
  {
   "cell_type": "markdown",
   "id": "176ad911-4488-4c98-a6fc-3c028c15c50e",
   "metadata": {},
   "source": [
    "Для продолжения запустите [kafka-consumer-group-coordinator-1.ipynb](kafka-consumer-group-coordinator-1.ipynb)"
   ]
  },
  {
   "cell_type": "markdown",
   "id": "102ecec8-9850-4cad-b831-4c74061849b6",
   "metadata": {},
   "source": [
    "Дополнительная проверка запуска консьюмер группы:"
   ]
  },
  {
   "cell_type": "code",
   "execution_count": null,
   "id": "3733014b-dd5b-4f54-8d85-7a8ba4133459",
   "metadata": {
    "tags": []
   },
   "outputs": [],
   "source": [
    "kafka-consumer-groups --bootstrap-server \"${KAFKA_HOST}\":\"${KAFKA_PORT}\" \\\n",
    "    --group my-consumer-group-coodinator-demo-group-id \\\n",
    "    --describe | awk '/console-consumer/{print $7}' | sort -u | wc -l | grep -q '^1$' || {\n",
    "        echo \"Пожалуйста, запустите kafka-consumer-group-coordinator-1.ipynb\" >&2\n",
    "        false\n",
    "    }"
   ]
  },
  {
   "cell_type": "markdown",
   "id": "c6b39496-979b-444b-8f23-c0b169a5534b",
   "metadata": {},
   "source": [
    "Координатором для `my-consumer-group-coodinator-demo-group-id` выступает:"
   ]
  },
  {
   "cell_type": "code",
   "execution_count": null,
   "id": "499c240d-a89c-4606-8c11-e1cd10b7b189",
   "metadata": {
    "tags": []
   },
   "outputs": [],
   "source": [
    "kafka-consumer-groups --bootstrap-server \"${KAFKA_HOST}\":\"${KAFKA_PORT}\" \\\n",
    "    --group my-consumer-group-coodinator-demo-group-id \\\n",
    "    --describe \\\n",
    "    --state"
   ]
  },
  {
   "cell_type": "markdown",
   "id": "1c1cc468-34b1-403f-8e60-17e2d13cd7fc",
   "metadata": {},
   "source": [
    "Для продолжения запустите [kafka-consumer-group-coordinator-2.ipynb](kafka-consumer-group-coordinator-2.ipynb), [kafka-consumer-group-coordinator-3.ipynb](kafka-consumer-group-coordinator-3.ipynb)"
   ]
  },
  {
   "cell_type": "markdown",
   "id": "fbaa9704-2bb8-426a-938e-1eb9219f7c67",
   "metadata": {},
   "source": [
    "Необходимо запустить команду ниже несколько раз до тех пор, пока не появится сообщение:\n",
    "\n",
    "> Consumer group 'my-consumer-group-coodinator-demo-group-id' is rebalancing"
   ]
  },
  {
   "cell_type": "code",
   "execution_count": null,
   "id": "3de4eaa4-107d-4680-8883-ec068cd03d71",
   "metadata": {
    "tags": []
   },
   "outputs": [],
   "source": [
    "kafka-consumer-groups --bootstrap-server \"${KAFKA_HOST}\":\"${KAFKA_PORT}\" \\\n",
    "    --group my-consumer-group-coodinator-demo-group-id \\\n",
    "    --describe \\\n",
    "    --members"
   ]
  },
  {
   "cell_type": "markdown",
   "id": "efdfd4c2-84d6-47af-8dec-e85bb62dc08f",
   "metadata": {
    "tags": []
   },
   "source": [
    "Сообщение:\n",
    "\n",
    "> Consumer group 'my-consumer-group-coodinator-demo-group-id' is rebalancing\n",
    "\n",
    "говорит о том, координатор консьюмер группы `my-consumer-group-coodinator-demo-group-id` обнаружил, что какой-то из консьюмеров перестал выходить на связь, поэтому координатор запустил процесс перебалансировки, чтобы перераспределелить партиции топика `movies` между живыми участниками группы `my-consumer-group-coodinator-demo-group-id`"
   ]
  },
  {
   "cell_type": "markdown",
   "id": "17eb5015-f817-4218-aaac-f97a380c045a",
   "metadata": {
    "tags": []
   },
   "source": [
    "## Работа консьюмеров при сбоях кластера"
   ]
  },
  {
   "cell_type": "markdown",
   "id": "8ae29ba7-6a6f-42bf-bd8a-75268f72bbe4",
   "metadata": {},
   "source": [
    "Текущая топология кластера Kafka:\n",
    "- KRaft,\n",
    "- три брокера,\n",
    "- один контроллер.\n",
    "\n",
    "Сбои кластера можно эмулировать при помощи `docker compose pause`. Пожалуйста, остановите `kafka3`:"
   ]
  },
  {
   "cell_type": "code",
   "execution_count": null,
   "id": "d5eedd5f-9fe1-41cc-9492-de28525e36f0",
   "metadata": {
    "tags": []
   },
   "outputs": [],
   "source": [
    "docker compose pause kafka3\n",
    "docker compose ps kafka3"
   ]
  },
  {
   "cell_type": "markdown",
   "id": "ff40c491-33d7-4bed-ba07-b80372fd4837",
   "metadata": {
    "tags": []
   },
   "source": [
    "Функция `run_consumer` запускает нового консьюмера:"
   ]
  },
  {
   "cell_type": "code",
   "execution_count": null,
   "id": "235955a1-8ec0-49f3-927f-dc9269eb31e3",
   "metadata": {
    "tags": []
   },
   "outputs": [],
   "source": [
    "function run_consumer() {\n",
    "    kafka-console-consumer \\\n",
    "        --bootstrap-server \"$KAFKA_HOST\":\"$KAFKA_PORT\" \\\n",
    "        --topic movies \\\n",
    "        --from-beginning \\\n",
    "        --timeout-ms 20000 \\\n",
    "        --property print.key=true \\\n",
    "        --property print.partition=true\n",
    "}"
   ]
  },
  {
   "cell_type": "markdown",
   "id": "7d062b22-a842-4370-9e5f-5a81093eff78",
   "metadata": {},
   "source": [
    "Функция `check_if_broker_stoppped` проверяет остановлен ли брокер:"
   ]
  },
  {
   "cell_type": "code",
   "execution_count": null,
   "id": "a5a66f00-bff4-49e9-b1f3-8e1684dd3a68",
   "metadata": {
    "tags": []
   },
   "outputs": [],
   "source": [
    "function check_if_broker_stoppped() {\n",
    "    local broker_no=${1}\n",
    "\n",
    "    [ -z \"${broker_no}\" ] && {\n",
    "        echo \"Пожалуйста, укажите номер брокера для проверки\" >&2\n",
    "        return 1\n",
    "    }\n",
    "\n",
    "    HOST=$KAFKA_HOST\n",
    "    local log_file=$(execute ls /tmp/kraft-combined-logs/__cluster_metadata-0 | grep '\\.log$')\n",
    "\n",
    "    kafka-metadata-shell --snapshot /tmp/kraft-combined-logs/__cluster_metadata-0/$log_file cat /brokers/${broker_no}/isFenced 2> /dev/null |\n",
    "        grep -q \"true\" || {\n",
    "            echo \"Брокер 'kafka$((broker_no - 200))' все еще активен, пожалуйста, остановите 'kafka$((broker_no - 200))' брокер: 'docker compose pause kafka$((broker_no - 200))'\" >&2\n",
    "            false\n",
    "        }\n",
    "}"
   ]
  },
  {
   "cell_type": "code",
   "execution_count": null,
   "id": "200e8671-db73-4d3a-ab0d-29703e3af2d8",
   "metadata": {
    "tags": []
   },
   "outputs": [],
   "source": [
    "check_if_broker_stoppped 203"
   ]
  },
  {
   "cell_type": "code",
   "execution_count": null,
   "id": "f60ce7a2-dc4a-4dfd-9d5d-6c01bd23af66",
   "metadata": {
    "tags": []
   },
   "outputs": [],
   "source": [
    "run_consumer"
   ]
  },
  {
   "cell_type": "markdown",
   "id": "57210f4b-01b2-4613-905b-0001904c4d4a",
   "metadata": {},
   "source": [
    "Сбой одного узла в кластере не влияет на процесс чтения: консьюмер читает данные из лидер реплик, которыми сейчас являются:"
   ]
  },
  {
   "cell_type": "code",
   "execution_count": null,
   "id": "b743ae1d-03c9-41d6-a23a-6606c672b052",
   "metadata": {
    "tags": []
   },
   "outputs": [],
   "source": [
    "kafka-topics --bootstrap-server ${KAFKA_HOST}:${KAFKA_PORT} \\\n",
    "    --describe \\\n",
    "    --topic movies"
   ]
  },
  {
   "cell_type": "markdown",
   "id": "0d6be045-a48a-40df-a578-eff55321ecdd",
   "metadata": {},
   "source": [
    "Что будет, если `kafka2` брокер упадет (`docker compose pause kafka2`)?"
   ]
  },
  {
   "cell_type": "code",
   "execution_count": null,
   "id": "b6468991-579d-42d4-b254-b952478c1b9d",
   "metadata": {
    "tags": []
   },
   "outputs": [],
   "source": [
    "docker compose pause kafka2\n",
    "docker compose ps kafka2"
   ]
  },
  {
   "cell_type": "code",
   "execution_count": null,
   "id": "318141a5-9fef-447f-864b-495dd6dddfe2",
   "metadata": {
    "tags": []
   },
   "outputs": [],
   "source": [
    "check_if_broker_stoppped 202"
   ]
  },
  {
   "cell_type": "code",
   "execution_count": null,
   "id": "9586c8ba-831a-49ef-a19d-efdf65ec2a46",
   "metadata": {
    "tags": []
   },
   "outputs": [],
   "source": [
    "run_consumer"
   ]
  },
  {
   "cell_type": "markdown",
   "id": "8d73f754-267b-4533-973d-a31b15cf0ee3",
   "metadata": {
    "tags": []
   },
   "source": [
    "Сбой даже двух узлов в кластере не влияет на процесс чтения: консьюмер читает данные из лидер реплик, которыми сейчас являются:"
   ]
  },
  {
   "cell_type": "code",
   "execution_count": null,
   "id": "4c65ab47-978a-4f31-9df4-dbf265e9bd2e",
   "metadata": {
    "tags": []
   },
   "outputs": [],
   "source": [
    "kafka-topics --bootstrap-server ${KAFKA_HOST}:${KAFKA_PORT} \\\n",
    "    --describe \\\n",
    "    --topic movies"
   ]
  },
  {
   "cell_type": "markdown",
   "id": "fb5159ee-0b19-47dc-9ea9-5649f864c101",
   "metadata": {
    "tags": []
   },
   "source": [
    "Можно заметить:\n",
    "\n",
    "1. `Replication Factor` топика `movies` равен 3;\n",
    "1. изначально каждая реплика находилась на одном брокере эксклюзивно. В случае, если бы две реплики находились на одном брокере, то выход из строя одного брокера, сократил бы количество живых реплик на 2;\n",
    "1. сейчас обе лидер реплики находятся на брокере `kafka1`, т.е кластер Apache Kafka автоматически выбрал лидером реплику, которая находится на брокере `kafka1`."
   ]
  },
  {
   "cell_type": "markdown",
   "id": "c3d25135-7f89-474a-b96e-629cf7f64796",
   "metadata": {},
   "source": [
    "Что произойдет, если брокер `kafka1` так же выйдет из строя? Пожалуйста, остановите `kafka1`:"
   ]
  },
  {
   "cell_type": "code",
   "execution_count": null,
   "id": "25dbf9ca-a9be-4538-ab52-6ef1c0226a0e",
   "metadata": {
    "tags": []
   },
   "outputs": [],
   "source": [
    "docker compose pause kafka1\n",
    "docker compose ps kafka1"
   ]
  },
  {
   "cell_type": "code",
   "execution_count": null,
   "id": "79168b91-34df-45b5-a587-ffa7d9065bc1",
   "metadata": {
    "tags": []
   },
   "outputs": [],
   "source": [
    "ssh-keyscan kafka1 > /dev/null 2>/dev/null && {\n",
    "    echo 'Брокер `kafka1` все еще активен, пожалуйста остановите его: `docker compose pause kafka1`' >&2\n",
    "    false\n",
    "} || true"
   ]
  },
  {
   "cell_type": "code",
   "execution_count": null,
   "id": "01e88cab-c23f-4720-ba4e-504d8f4e67ae",
   "metadata": {
    "tags": []
   },
   "outputs": [],
   "source": [
    "run_consumer || true"
   ]
  },
  {
   "cell_type": "markdown",
   "id": "c16837d3-f6ed-462e-9eb1-fc62732b4e7d",
   "metadata": {},
   "source": [
    "Ошибка сигнализирует, что брокер `kafka1` недоступен, а значит невозможно не только получить данные, но и даже войти в него, чтобы запустить консьюмер."
   ]
  },
  {
   "cell_type": "markdown",
   "id": "5619994c-6985-4b78-beb1-3775c65c28fd",
   "metadata": {},
   "source": [
    "Восстановите брокеры:"
   ]
  },
  {
   "cell_type": "code",
   "execution_count": null,
   "id": "0b0d94af-39d9-4568-b333-efc3ea272977",
   "metadata": {
    "tags": []
   },
   "outputs": [],
   "source": [
    "docker compose unpause kafka1 kafka2 kafka3\n",
    "docker compose ps kafka1 kafka2 kafka3"
   ]
  },
  {
   "cell_type": "markdown",
   "id": "a8424aef-1986-4fe4-9943-ac4cb6f47239",
   "metadata": {},
   "source": [
    "Необходимо дождаться, когда брокеры восстановятся:"
   ]
  },
  {
   "cell_type": "code",
   "execution_count": null,
   "id": "d0210bb0-c1d4-4ac4-81c8-a3ff19986114",
   "metadata": {
    "tags": []
   },
   "outputs": [],
   "source": [
    "log_file=$(HOST=$KAFKA_HOST execute ls /tmp/kraft-combined-logs/__cluster_metadata-0 | grep '\\.log$')\n",
    "\n",
    "kafka-metadata-shell --snapshot /tmp/kraft-combined-logs/__cluster_metadata-0/$log_file cat /brokers/{201,202,203}/isFenced 2> /dev/null |\n",
    "    sort -u |\n",
    "    grep -q -v \"true\" && {\n",
    "        echo 'Все брокеры восстановили свою работу. Можно продолжать'\n",
    "    } || {\n",
    "        echo 'Не все брокеры восстановили свою работу. Пожалуйста, запустите `docker compose unpause kafka1 kafka2 kafka3`' >&2\n",
    "        false\n",
    "    }"
   ]
  },
  {
   "cell_type": "markdown",
   "id": "87ed9a70-b16d-4104-a875-57025d9df7f4",
   "metadata": {},
   "source": [
    "Лидер реплики сейчас находятся на:"
   ]
  },
  {
   "cell_type": "code",
   "execution_count": null,
   "id": "f386110d-8681-4c49-821f-bc8f8035ec2a",
   "metadata": {
    "tags": []
   },
   "outputs": [],
   "source": [
    "kafka-topics --bootstrap-server ${KAFKA_HOST}:${KAFKA_PORT} \\\n",
    "    --describe \\\n",
    "    --topic movies"
   ]
  },
  {
   "cell_type": "markdown",
   "id": "d8bb6d91-5f70-43ef-bb01-757968aa7386",
   "metadata": {},
   "source": [
    "### Изменение брокера для лидер партиции"
   ]
  },
  {
   "cell_type": "markdown",
   "id": "e1b4bb7d-aa86-42cb-b6d8-49c86003c527",
   "metadata": {},
   "source": [
    "Если лидер реплики обеих партиций находятся на одном брокере (например, `kafka1`), то брокер будет испытвать избыточную нагрузку при операциях чтения и записи. Для равноменого распределения нагрузки, можно перенести лидера одной из партиций на другой брокер:"
   ]
  },
  {
   "cell_type": "code",
   "execution_count": null,
   "id": "33aafd3d-a230-42b4-b306-a3f1e1c5a378",
   "metadata": {
    "tags": []
   },
   "outputs": [],
   "source": [
    "kafka-leader-election --bootstrap-server ${KAFKA_HOST}:${KAFKA_PORT} \\\n",
    "    --election-type PREFERRED \\\n",
    "    --topic movies \\\n",
    "    --partition 1"
   ]
  },
  {
   "cell_type": "code",
   "execution_count": null,
   "id": "86202202-a106-4141-a363-75bb63eee529",
   "metadata": {
    "tags": []
   },
   "outputs": [],
   "source": [
    "kafka-topics --bootstrap-server ${KAFKA_HOST}:${KAFKA_PORT} \\\n",
    "    --describe \\\n",
    "    --topic movies"
   ]
  },
  {
   "cell_type": "markdown",
   "id": "fce71326-886b-4a22-abc6-3c6b71088ebe",
   "metadata": {
    "tags": []
   },
   "source": [
    "### Выводы"
   ]
  },
  {
   "cell_type": "markdown",
   "id": "32225d6a-ea8e-4a05-b109-1442b517ce3e",
   "metadata": {
    "tags": []
   },
   "source": [
    "- консьюмер группе для работы достаточно всего одной живой реплики;\n",
    "- кластер Apache Kafka автоматически выбирает новую лидер реплику, если лидер реплика находилась на брокере, который вышел из строя."
   ]
  },
  {
   "cell_type": "markdown",
   "id": "856a432f-e61c-455a-b4b5-9729797f2e34",
   "metadata": {
    "tags": []
   },
   "source": [
    "### Задание"
   ]
  },
  {
   "cell_type": "markdown",
   "id": "85bccd48-8627-4f2b-b7f6-6c25f391afb0",
   "metadata": {},
   "source": [
    "1. Увеличить количество брокеров до пяти (нужно отредактировать `docker-compose.yml`);\n",
    "1. Проверить, что кластер состоит из пяти брокеров;\n",
    "1. Найти брокер, на котором находится лидер реплика партиции 1 топика `movies`;\n",
    "1. Остановить брокер на котором находится лидер реплика партиции 1 топика `movies`;\n",
    "1. Найти брокер, на котором находится лидер реплика партиции 1 топика `movies` в данный момент;\n",
    "1. Восстановить работу остановленного брокера;\n",
    "1. Остановить все три брокера, на котором находятся реплики партиции `0` топика `movies`;\n",
    "1. Запустить консольный консьюмер (`run_consumer`), доступны ли данные? Почему?"
   ]
  },
  {
   "cell_type": "code",
   "execution_count": null,
   "id": "7ec9daa8-38c4-4a19-a410-606f46148d4c",
   "metadata": {},
   "outputs": [],
   "source": []
  }
 ],
 "metadata": {
  "kernelspec": {
   "display_name": "Bash",
   "language": "bash",
   "name": "bash"
  },
  "language_info": {
   "codemirror_mode": "shell",
   "file_extension": ".sh",
   "mimetype": "text/x-sh",
   "name": "bash"
  }
 },
 "nbformat": 4,
 "nbformat_minor": 5
}
