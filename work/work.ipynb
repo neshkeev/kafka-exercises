{
 "cells": [
  {
   "cell_type": "markdown",
   "id": "3e3422c7-b1dd-471e-bccf-68f6e64cb9ca",
   "metadata": {
    "tags": []
   },
   "source": [
    "# Kafka Connect"
   ]
  },
  {
   "cell_type": "markdown",
   "id": "bd993f67-1479-4029-9959-a40db79533b6",
   "metadata": {},
   "source": [
    "Kafka Connect - это стандартный способ расширения возможностей Kafka для работы с источниками и приемниками данных.\n",
    "\n",
    "Всех клиентов Apache Kafka можно отнести либо к категории консьюмеров, либо к категории продюсеров, и по большей части вся работа с Apache Kafka сводится к загрузке данных в топики или выгрузке данных из топиков во внешние системы: базы данных, файловые системы, объектные хранилища и т.д. Kafka Connect инкапсулирует лучше практики работы со стандартными источниками и приемниками с целью избавить программистов от процесса разработки и отладки своих продюсеров и консьюмеров: можно взять готовое решение и использовать его, сокращая таким образом TTM (time-to-market)."
   ]
  },
  {
   "cell_type": "markdown",
   "id": "7b473d1f-37d0-4a02-bcfb-8019b2c61713",
   "metadata": {},
   "source": [
    "Компания Confluent поддерживает репозиторий [Confluent Hub](https://www.confluent.io/hub/) с богатым выбором Production Ready коннекторов, которые можно свободно использовать в промышленном окружении."
   ]
  },
  {
   "cell_type": "markdown",
   "id": "141cadc4-0660-4619-8a2c-e1c132c1d987",
   "metadata": {},
   "source": [
    "Любой проект может развенуть свой сервис Kafka Connect, который представляет собой отдельно запущенный сервер, на котором находятся jar файлы с разными типами коннекторов, доступных для внедрения. Также Kafka Connect предлагает удобный REST API интерфейс для управления запущенными коннекторами."
   ]
  },
  {
   "cell_type": "markdown",
   "id": "aa02f2dd-9802-48eb-8619-cafb7e4429da",
   "metadata": {
    "tags": []
   },
   "source": [
    "## Получение списка доступных коннекторов"
   ]
  },
  {
   "cell_type": "markdown",
   "id": "c3c5f93c-606c-4962-8ffb-1920acb28c2f",
   "metadata": {},
   "source": [
    "Проверить список доступных плагинов можно при помощи REST API:"
   ]
  },
  {
   "cell_type": "code",
   "execution_count": null,
   "id": "2605c95c-14ed-4ad8-adcd-cdac1c876606",
   "metadata": {
    "tags": []
   },
   "outputs": [],
   "source": [
    "curl -s http://connect:8083/connector-plugins | json_pp"
   ]
  },
  {
   "cell_type": "markdown",
   "id": "c68327eb-5db9-452f-9b49-478c4467947d",
   "metadata": {
    "tags": []
   },
   "source": [
    "## Установка новых коннекторов"
   ]
  },
  {
   "cell_type": "markdown",
   "id": "1488bc13-9249-498d-8a35-b3ea42d3b6b2",
   "metadata": {},
   "source": [
    "Коннекторы представляют собой jar файлы, которые можно запустить со специальной конфигурацией. Коннекторы можно положить на сервер Kafka Connect через:\n",
    "- копирование jar файла на сервер,\n",
    "- утилиту [confluent-hub](https://docs.confluent.io/platform/current/connect/confluent-hub/command-reference/index.html).\n",
    "\n",
    "Утилита [confluent-hub](https://docs.confluent.io/platform/current/connect/confluent-hub/command-reference/index.html) позволяет скачать коннектор с Confluent Hub и автоматически положить его файлы в корректные директории"
   ]
  },
  {
   "cell_type": "markdown",
   "id": "ef63b591-abb4-48e3-9e57-24fe233738a8",
   "metadata": {
    "tags": []
   },
   "source": [
    "Для примера будет использоваться [JDBC Connector](https://www.confluent.io/hub/confluentinc/kafka-connect-jdbc):"
   ]
  },
  {
   "cell_type": "code",
   "execution_count": null,
   "id": "a49ad77b-31f8-4a3e-a3d4-247f8956062e",
   "metadata": {
    "tags": []
   },
   "outputs": [],
   "source": [
    "confluent-hub install --no-prompt confluentinc/kafka-connect-jdbc:10.7.3"
   ]
  },
  {
   "cell_type": "markdown",
   "id": "a1b9effd-efb1-4c9f-a286-a388a3ab2e9e",
   "metadata": {},
   "source": [
    "После установки плагина необходимо перезапустить Kafka Connect сервер:"
   ]
  },
  {
   "cell_type": "code",
   "execution_count": null,
   "id": "e8174651-dbf4-44b4-98b1-7a36c54dac2a",
   "metadata": {
    "tags": []
   },
   "outputs": [],
   "source": [
    "docker compose restart connect"
   ]
  },
  {
   "cell_type": "markdown",
   "id": "d2f325b0-3b12-4b0e-b96c-70ffa6de7a80",
   "metadata": {
    "tags": []
   },
   "source": [
    "Сервису Kafka Connect необходимо время чтобы запуститься:"
   ]
  },
  {
   "cell_type": "code",
   "execution_count": null,
   "id": "226fbb2c-fbb5-4249-b1d8-4a5e49bb195e",
   "metadata": {
    "tags": []
   },
   "outputs": [],
   "source": [
    "docker compose ps connect | grep -q healthy || {\n",
    "    echo 'Kafka Connect еще не запустился. Пожалуйста, подождите' >&2\n",
    "    false\n",
    "} && {\n",
    "    echo 'Kafka Connect доступен для работы!'\n",
    "}"
   ]
  },
  {
   "cell_type": "markdown",
   "id": "608d02df-55c6-44d4-bd47-7792ff5e1530",
   "metadata": {},
   "source": [
    "Убедиться, что плагин установлен:"
   ]
  },
  {
   "cell_type": "code",
   "execution_count": null,
   "id": "46424f84-6079-449b-9d75-f6c3328956df",
   "metadata": {
    "tags": []
   },
   "outputs": [],
   "source": [
    "curl -s http://connect:8083/connector-plugins | json_pp"
   ]
  },
  {
   "cell_type": "markdown",
   "id": "a41112c6-358c-4df4-b6ef-d6ce3fb896f6",
   "metadata": {
    "tags": []
   },
   "source": [
    "Можно заметить, что установилось два коннектора:\n",
    "\n",
    "- sink - приемник данных, т.е. выгружает данные из топика во внешнюю систему (база данных в данном случае);\n",
    "- source - источник данных, т.е. загружает данные из внешней системы в топик в Apache Kafka."
   ]
  },
  {
   "cell_type": "markdown",
   "id": "39e85339-d80d-41e6-a40d-7f6264dedccf",
   "metadata": {},
   "source": [
    "## Подготовка"
   ]
  },
  {
   "cell_type": "markdown",
   "id": "8a04ffd7-4023-4878-a1d0-cc58d0327336",
   "metadata": {},
   "source": [
    "Коннектор будет забирать данные из таблицы `products`:"
   ]
  },
  {
   "cell_type": "code",
   "execution_count": null,
   "id": "823ccd39-678e-47b3-8268-5a25c96c9203",
   "metadata": {
    "tags": []
   },
   "outputs": [],
   "source": [
    "psql -U postgres -d postgres <<EOF\n",
    "CREATE TABLE IF NOT EXISTS products(\n",
    "    id INT PRIMARY KEY,\n",
    "    name VARCHAR(255),\n",
    "    price INT\n",
    ");\n",
    "\n",
    "\\d products\n",
    "EOF"
   ]
  },
  {
   "cell_type": "code",
   "execution_count": null,
   "id": "3b9f95b9-7c53-4885-91d3-307b34fedd3a",
   "metadata": {
    "tags": []
   },
   "outputs": [],
   "source": [
    "psql -U postgres -d postgres <<EOF\n",
    "insert into products values(1, 'Cheese', 5);\n",
    "insert into products values(2, 'Milk', 3);\n",
    "insert into products values(3, 'Meat', 7);\n",
    "insert into products values(4, 'Eggs', 4);\n",
    "EOF"
   ]
  },
  {
   "cell_type": "code",
   "execution_count": null,
   "id": "33cfefd8-47f3-441b-b2ad-7fe3cc9e1101",
   "metadata": {
    "tags": []
   },
   "outputs": [],
   "source": [
    "psql -U postgres -d postgres <<EOF\n",
    "select * from products\n",
    "EOF"
   ]
  },
  {
   "cell_type": "markdown",
   "id": "db6d168c-75fb-4af1-a8f0-576f638b6676",
   "metadata": {
    "tags": []
   },
   "source": [
    "## Создание коннектора-продюсера (source)"
   ]
  },
  {
   "cell_type": "markdown",
   "id": "8d0e4a5b-ef0a-44b4-83e0-37dd43d98228",
   "metadata": {
    "tags": []
   },
   "source": [
    "### Конфигурация коннектора"
   ]
  },
  {
   "cell_type": "code",
   "execution_count": null,
   "id": "704129b2-16f1-41fe-b1d5-3fdd718118e3",
   "metadata": {
    "tags": []
   },
   "outputs": [],
   "source": [
    "cat > /tmp/postgres-source-connector-1.json <<EOF\n",
    "{\n",
    "  \"name\": \"jdbc-source-connector-1\", \n",
    "  \"config\": \n",
    "    {\"connector.class\": \"JdbcSource\", \n",
    "     \"tasks.max\": 1,\n",
    "     \"topic.prefix\": \"connect-jdbc-1-\",\n",
    "     \"connection.url\": \"jdbc:postgresql://postgres:5432/postgres\",\n",
    "     \"mode\": \"incrementing\", \n",
    "     \"incrementing.column.name\":\"id\",\n",
    "     \"value.converter\": \"org.apache.kafka.connect.json.JsonConverter\",\n",
    "     \"value.converter.schemas.enable\":\"true\", \n",
    "     \"table.whitelist\" : \"public.products\",\n",
    "     \"connection.user\": \"postgres\", \n",
    "     \"connection.password\" : \"postgres\"\n",
    "    }\n",
    "}    \n",
    "EOF"
   ]
  },
  {
   "cell_type": "markdown",
   "id": "13d1f6a2-395d-4206-b5b7-963f54ae6a23",
   "metadata": {},
   "source": [
    "### Запуск коннектора"
   ]
  },
  {
   "cell_type": "code",
   "execution_count": null,
   "id": "1977058c-7e37-4fb0-86ee-b2254d28d216",
   "metadata": {
    "tags": []
   },
   "outputs": [],
   "source": [
    "curl -s http://connect:8083/connectors \\\n",
    "    -X POST \\\n",
    "    -H 'Content-Type: application/json' \\\n",
    "    -d '@/tmp/postgres-source-connector-1.json' | json_pp"
   ]
  },
  {
   "cell_type": "markdown",
   "id": "b0c5842e-eaa5-4cb2-9535-35b33a74a6e7",
   "metadata": {
    "tags": []
   },
   "source": [
    "### Проверка статуса коннектора"
   ]
  },
  {
   "cell_type": "code",
   "execution_count": null,
   "id": "39c9be9b-73e8-4797-82b3-b9e94b7fdbac",
   "metadata": {
    "tags": []
   },
   "outputs": [],
   "source": [
    "curl -s http://connect:8083/connectors/jdbc-source-connector-1/status | json_pp"
   ]
  },
  {
   "cell_type": "markdown",
   "id": "c34c04c7-6c76-42c0-8ac6-487d09ac0814",
   "metadata": {},
   "source": [
    "### Проверка работы коннектора"
   ]
  },
  {
   "cell_type": "code",
   "execution_count": null,
   "id": "af22ef6a-676b-48eb-af38-5b034ef58235",
   "metadata": {
    "tags": []
   },
   "outputs": [],
   "source": [
    "kafka-console-consumer \\\n",
    "    --bootstrap-server \"$KAFKA_HOST\":\"$KAFKA_PORT\" \\\n",
    "    --topic connect-jdbc-1-products \\\n",
    "    --from-beginning \\\n",
    "    --timeout-ms 10000 |\n",
    "    while read line ; do json_pp <<<\"$line\" ; done"
   ]
  },
  {
   "cell_type": "markdown",
   "id": "a608cbd6-fe83-4dc2-98ef-a914dbccadff",
   "metadata": {
    "tags": []
   },
   "source": [
    "## Cоздание коннектора-продюсера с преобразованием полей (SMT)"
   ]
  },
  {
   "cell_type": "markdown",
   "id": "8d42bbfa-654b-47fa-8646-e1569f731791",
   "metadata": {},
   "source": [
    "Иногда бывает необхоимо преобразовать данные перед загрузкой или выгрузкой из Apache Kafka. Для этих целей подходит [SMT - Single Message Transformer](https://docs.confluent.io/platform/current/connect/transforms/overview.html). При помощи SMT можно настроить:\n",
    "- преобразование данных,\n",
    "- удаление колонок,\n",
    "- приведение типов,\n",
    "- и т.д."
   ]
  },
  {
   "cell_type": "code",
   "execution_count": null,
   "id": "b7fb3497-0762-4362-82fa-cafba8fe4372",
   "metadata": {
    "tags": []
   },
   "outputs": [],
   "source": [
    "cat > /tmp/postgres-source-connector-2.json <<EOF\n",
    "{\n",
    "  \"name\": \"jdbc-source-connector-2\",\n",
    "  \"config\":\n",
    "    {\"connector.class\": \"JdbcSource\",\n",
    "     \"tasks.max\": 1,\n",
    "     \"topic.prefix\": \"connect-jdbc-2-\",\n",
    "     \"connection.url\": \"jdbc:postgresql://postgres:5432/postgres\",\n",
    "     \"mode\": \"incrementing\",\n",
    "     \"incrementing.column.name\":\"id\",\n",
    "     \"value.converter\": \"org.apache.kafka.connect.json.JsonConverter\",\n",
    "     \"value.converter.schemas.enable\":\"true\",\n",
    "     \"table.whitelist\" : \"public.products\",\n",
    "     \"connection.user\": \"postgres\",\n",
    "     \"connection.password\" : \"postgres\",\n",
    "     \"transforms\" : \"createKey,extractInt,RenameField\",\n",
    "     \"transforms.createKey.type\":\"org.apache.kafka.connect.transforms.ValueToKey\",\n",
    "     \"transforms.createKey.fields\":\"id\",\n",
    "     \"transforms.extractInt.type\":\"org.apache.kafka.connect.transforms.ExtractField\\$Key\",\n",
    "     \"transforms.extractInt.field\":\"id\",\n",
    "     \"transforms.RenameField.type\" : \"org.apache.kafka.connect.transforms.ReplaceField\\$Value\",\n",
    "     \"transforms.RenameField.renames\" : \"name:code\"\n",
    "    }\n",
    "}\n",
    "EOF"
   ]
  },
  {
   "cell_type": "code",
   "execution_count": null,
   "id": "2a031276-7cd9-4c57-9619-3461c8e36f57",
   "metadata": {
    "tags": []
   },
   "outputs": [],
   "source": [
    "curl -s http://connect:8083/connectors \\\n",
    "    -X POST \\\n",
    "    -H 'Content-Type: application/json' \\\n",
    "    -d '@/tmp/postgres-source-connector-2.json' | json_pp"
   ]
  },
  {
   "cell_type": "code",
   "execution_count": null,
   "id": "21f9a057-0232-45f6-80fc-25eea4f067c8",
   "metadata": {
    "tags": []
   },
   "outputs": [],
   "source": [
    "kafka-console-consumer \\\n",
    "    --bootstrap-server \"$KAFKA_HOST\":\"$KAFKA_PORT\" \\\n",
    "    --topic connect-jdbc-2-products \\\n",
    "    --property print.key=true \\\n",
    "    --from-beginning \\\n",
    "    --timeout-ms 10000"
   ]
  },
  {
   "cell_type": "markdown",
   "id": "06988664-b0f6-4ba2-96c4-8705148721db",
   "metadata": {},
   "source": [
    "Можно заметить, что у сообщений появился ключ"
   ]
  },
  {
   "cell_type": "markdown",
   "id": "9e7d7f8e-ebde-49ff-91e4-9709883a5998",
   "metadata": {
    "tags": []
   },
   "source": [
    "## Создание коннектора-консьюмера (sink)"
   ]
  },
  {
   "cell_type": "markdown",
   "id": "a644259e-8d9e-4078-8fc3-274cad1327c3",
   "metadata": {
    "tags": []
   },
   "source": [
    "Коннекторы могут так же выгружать данные из Kafka во внешние системы, например, в базу данных:"
   ]
  },
  {
   "cell_type": "code",
   "execution_count": null,
   "id": "08812d44-d2a5-49c9-ac17-7de19d82997e",
   "metadata": {
    "tags": []
   },
   "outputs": [],
   "source": [
    "cat > /tmp/postgres-sink-connector-1.json <<EOF\n",
    "{\n",
    "  \"name\": \"jdbc-sink-connector\",\n",
    "  \"config\": {\n",
    "    \"connector.class\": \"io.confluent.connect.jdbc.JdbcSinkConnector\",\n",
    "    \"tasks.max\": \"1\",\n",
    "    \"topics\": \"customers\",\n",
    "    \"connection.url\": \"jdbc:postgresql://postgres:5432/postgres\",\n",
    "    \"connection.user\": \"postgres\",\n",
    "    \"connection.password\": \"postgres\",\n",
    "    \"connection.ds.pool.size\": 5,\n",
    "    \"auto.create\": \"true\",\n",
    "    \"insert.mode.databaselevel\": true,\n",
    "    \"value.converter\": \"io.confluent.connect.avro.AvroConverter\",\n",
    "    \"value.converter.schema.registry.url\": \"http://schema-registry:8081\"\n",
    "  }\n",
    "}\n",
    "EOF"
   ]
  },
  {
   "cell_type": "code",
   "execution_count": null,
   "id": "3a2fdb33-88b3-459e-96fd-60d065f18884",
   "metadata": {
    "tags": []
   },
   "outputs": [],
   "source": [
    "curl -s http://connect:8083/connectors \\\n",
    "    -X POST \\\n",
    "    -H 'Content-Type: application/json' \\\n",
    "    -d '@/tmp/postgres-sink-connector-1.json' | json_pp"
   ]
  },
  {
   "cell_type": "markdown",
   "id": "60a66936-4015-42d1-baf4-0af56390da27",
   "metadata": {},
   "source": [
    "Для работы коннектора необходимо отправить сообщения в топик в формате `AVRO`, это можно сделать при помощи `kafka-avro-console-producer`:"
   ]
  },
  {
   "cell_type": "markdown",
   "id": "bffa8d1a-9bb0-467d-a149-49539c1fe54e",
   "metadata": {},
   "source": [
    "Подготовка схемы:"
   ]
  },
  {
   "cell_type": "code",
   "execution_count": null,
   "id": "4528add4-a795-4422-947e-835bdc5cc712",
   "metadata": {
    "tags": []
   },
   "outputs": [],
   "source": [
    "cat <<EOF > /tmp/customer.avsc\n",
    "{\n",
    "   \"fields\" : [\n",
    "      {\n",
    "         \"name\" : \"id\",\n",
    "         \"type\" : \"int\"\n",
    "      },\n",
    "      {\n",
    "         \"name\" : \"name\",\n",
    "         \"type\" : \"string\"\n",
    "      }\n",
    "   ],\n",
    "   \"name\" : \"customer\",\n",
    "   \"type\" : \"record\"\n",
    "}\n",
    "EOF"
   ]
  },
  {
   "cell_type": "markdown",
   "id": "368f3646-5d9e-4626-950b-0d604efe1ef8",
   "metadata": {},
   "source": [
    "Отравка данных:"
   ]
  },
  {
   "cell_type": "code",
   "execution_count": null,
   "id": "89b95c4e-2849-45f3-8685-9cf93361cfc8",
   "metadata": {
    "tags": []
   },
   "outputs": [],
   "source": [
    "kafka-avro-console-producer \\\n",
    "    --bootstrap-server kafka:9092 \\\n",
    "    --topic customers  \\\n",
    "    --property schema.registry.url=http://schema-registry:8081 \\\n",
    "    --property value.schema=\"$(cat /tmp/customer.avsc | single_line | escape_double_qoutes | skip_ws)\" \\\n",
    "<<EOF\n",
    "{\"id\": $RANDOM, \"name\": \"Jane Doe\"}\n",
    "{\"id\": $RANDOM, \"name\": \"John Smith\"}\n",
    "{\"id\": $RANDOM, \"name\": \"Ann Black\"}\n",
    "EOF"
   ]
  },
  {
   "cell_type": "markdown",
   "id": "0c2d729f-650a-4fea-9066-d7ac6ac2b49d",
   "metadata": {
    "tags": []
   },
   "source": [
    "Проверка, что сообщения доставлены:"
   ]
  },
  {
   "cell_type": "code",
   "execution_count": null,
   "id": "943ccea2-2e45-4dd8-827c-435b03aaf544",
   "metadata": {
    "tags": []
   },
   "outputs": [],
   "source": [
    "kafka-avro-console-consumer \\\n",
    "    --bootstrap-server \"$KAFKA_HOST\":\"$KAFKA_PORT\" \\\n",
    "    --enable-systest-events false \\\n",
    "    --topic customers \\\n",
    "    --timeout-ms 10000 \\\n",
    "    --from-beginning"
   ]
  },
  {
   "cell_type": "markdown",
   "id": "1476aae8-f98f-4192-a5af-9653f68de689",
   "metadata": {},
   "source": [
    "Проверка работы коннектора: данные должны попасть в базу данных в таблицу `customers`:"
   ]
  },
  {
   "cell_type": "code",
   "execution_count": null,
   "id": "1d3e701c-d250-4414-a6e4-2fc5aa905722",
   "metadata": {
    "tags": []
   },
   "outputs": [],
   "source": [
    "psql -U postgres -d postgres <<EOF\n",
    "SELECT *\n",
    "  FROM customers\n",
    "EOF"
   ]
  },
  {
   "cell_type": "markdown",
   "id": "1e46fac4-9d67-4210-851c-696a5d682731",
   "metadata": {},
   "source": [
    "Таблица `consumers` была создана автоматически, но у нее абсолютно нет никакой мета-информации, например, отсутствует первичный ключ:"
   ]
  },
  {
   "cell_type": "code",
   "execution_count": null,
   "id": "087e2a3e-6875-4ea4-92e7-a29b36ae98ad",
   "metadata": {
    "tags": []
   },
   "outputs": [],
   "source": [
    "psql -U postgres -d postgres <<EOF\n",
    "\\d customers\n",
    "EOF"
   ]
  },
  {
   "cell_type": "markdown",
   "id": "68a48e82-e3cb-4547-bd9f-b5de534193cc",
   "metadata": {
    "tags": []
   },
   "source": [
    "## Создание коннектор-консьюмера (sink) с трансформациями"
   ]
  },
  {
   "cell_type": "markdown",
   "id": "891d6762-f868-4ab6-b37c-c39dc8e48f50",
   "metadata": {
    "tags": []
   },
   "source": [
    "При чтении данных можно добавлять метаданные, например, указать какое поле будет первичным ключом:"
   ]
  },
  {
   "cell_type": "code",
   "execution_count": null,
   "id": "f5d92048-8cd6-4f8c-8bde-6d4c3f665631",
   "metadata": {
    "tags": []
   },
   "outputs": [],
   "source": [
    "cat > /tmp/postgres-sink-connector-2.json <<EOF\n",
    "{\n",
    "  \"name\": \"jdbc-sink-connector-2\",\n",
    "  \"config\": {\n",
    "    \"connector.class\": \"io.confluent.connect.jdbc.JdbcSinkConnector\",\n",
    "    \"tasks.max\": \"1\",\n",
    "    \"topics\": \"customers\",\n",
    "    \"connection.url\": \"jdbc:postgresql://postgres:5432/postgres\",\n",
    "    \"connection.user\": \"postgres\",\n",
    "    \"connection.password\": \"postgres\",\n",
    "    \"connection.ds.pool.size\": 5,\n",
    "    \"auto.create\": \"true\",\n",
    "    \"table.name.format\": \"kafka_\\${topic}\",\n",
    "    \"insert.mode.databaselevel\": true,\n",
    "    \"value.converter\": \"io.confluent.connect.avro.AvroConverter\",\n",
    "    \"value.converter.schema.registry.url\": \"http://schema-registry:8081\",\n",
    "    \"pk.mode\" : \"record_value\",\n",
    "    \"pk.fields\": \"id\"\n",
    "  }\n",
    "}\n",
    "EOF"
   ]
  },
  {
   "cell_type": "code",
   "execution_count": null,
   "id": "9a0b702b-fddd-45fa-a2da-07dca5744e3f",
   "metadata": {
    "tags": []
   },
   "outputs": [],
   "source": [
    "curl -s http://connect:8083/connectors \\\n",
    "    -X POST \\\n",
    "    -H 'Content-Type: application/json' \\\n",
    "    -d '@/tmp/postgres-sink-connector-2.json' | json_pp"
   ]
  },
  {
   "cell_type": "code",
   "execution_count": null,
   "id": "7df954da-c17a-468f-9442-b0f9b4aed583",
   "metadata": {
    "tags": []
   },
   "outputs": [],
   "source": [
    "kafka-avro-console-producer \\\n",
    "    --bootstrap-server kafka:9092 \\\n",
    "    --topic customers  \\\n",
    "    --property schema.registry.url=http://schema-registry:8081 \\\n",
    "    --property value.schema=\"$(cat /tmp/customer.avsc | single_line | escape_double_qoutes | skip_ws)\" <<EOF\n",
    "{\"id\": $RANDOM, \"name\": \"Василий Тёркин\"}\n",
    "{\"id\": $RANDOM, \"name\": \"Барон Мюнхаузен\"}\n",
    "EOF"
   ]
  },
  {
   "cell_type": "code",
   "execution_count": null,
   "id": "5e2ac6db-17ad-401e-9176-1ceed254554d",
   "metadata": {
    "tags": []
   },
   "outputs": [],
   "source": [
    "psql -U postgres -d postgres <<EOF\n",
    "SELECT *\n",
    "  FROM kafka_customers\n",
    "EOF"
   ]
  },
  {
   "cell_type": "code",
   "execution_count": null,
   "id": "8dd93915-adbb-4495-b63c-df881827508f",
   "metadata": {
    "tags": []
   },
   "outputs": [],
   "source": [
    "psql -U postgres -d postgres <<EOF\n",
    "\\d kafka_customers\n",
    "EOF"
   ]
  },
  {
   "cell_type": "markdown",
   "id": "dc99814d-8d87-45af-a3c4-b3f79723d2e5",
   "metadata": {
    "tags": []
   },
   "source": [
    "Можно заметить, что создалась таблица `kafka_customers` с первичным ключом."
   ]
  },
  {
   "cell_type": "markdown",
   "id": "4f1da834-5e19-4e1b-85a7-830f78731eb0",
   "metadata": {
    "tags": []
   },
   "source": [
    "## Управление состоянием коннектора"
   ]
  },
  {
   "cell_type": "markdown",
   "id": "df565519-b6a8-4e2a-a65d-6dc97db761c4",
   "metadata": {
    "tags": []
   },
   "source": [
    "### Приостановка коннкетора"
   ]
  },
  {
   "cell_type": "markdown",
   "id": "25425375-2076-47d4-9d80-8a4bf7cb8333",
   "metadata": {},
   "source": [
    "Коннектор можно поставить на паузу:"
   ]
  },
  {
   "cell_type": "code",
   "execution_count": null,
   "id": "6430e522-ab87-459e-8273-5439253439ed",
   "metadata": {
    "tags": []
   },
   "outputs": [],
   "source": [
    "curl -v -X PUT http://connect:8083/connectors/jdbc-source-connector-1/pause"
   ]
  },
  {
   "cell_type": "markdown",
   "id": "bf7ba861-53de-4655-ac43-315fa7d96d34",
   "metadata": {},
   "source": [
    "Убедиться, что коннектор приостановлен:"
   ]
  },
  {
   "cell_type": "code",
   "execution_count": null,
   "id": "cec56eaa-c37a-4dd8-8245-2701a06f85b0",
   "metadata": {
    "tags": []
   },
   "outputs": [],
   "source": [
    "curl -s -X GET http://connect:8083/connectors/jdbc-source-connector-1/status | json_pp"
   ]
  },
  {
   "cell_type": "markdown",
   "id": "c2902a40-535e-43d0-9200-8390c9eab45f",
   "metadata": {},
   "source": [
    "### Возобновление работы коннектора"
   ]
  },
  {
   "cell_type": "code",
   "execution_count": null,
   "id": "75404494-8ffb-4ade-b90c-6c23b3345063",
   "metadata": {
    "tags": []
   },
   "outputs": [],
   "source": [
    "curl -v -X PUT http://connect:8083/connectors/jdbc-source-connector-1/resume"
   ]
  },
  {
   "cell_type": "code",
   "execution_count": null,
   "id": "aa2e97c1-0d87-48fa-a8ca-8bd8e5205a6e",
   "metadata": {
    "tags": []
   },
   "outputs": [],
   "source": [
    "curl -s -X GET http://connect:8083/connectors/jdbc-source-connector-1/status | json_pp"
   ]
  },
  {
   "cell_type": "markdown",
   "id": "04280f2b-0e83-4646-8461-82f3828878cb",
   "metadata": {},
   "source": [
    "### Выводы"
   ]
  },
  {
   "cell_type": "markdown",
   "id": "dad0bfe0-7046-489c-9bea-e119645498d2",
   "metadata": {},
   "source": [
    "1. Kafka Connect упрощает реализацию стандартных сценариев при работе с Apache Kafka:\n",
    "    - загрузить в топик данные из внешней системы,\n",
    "    - выгрузить данные из топика во внешнюю систему.\n",
    "1. Kafka Connect предлагает REST API для работы с коннекторами;\n",
    "1. Коннекторы являются jar файлами, которые можно запускать с разными конфигурациями;\n",
    "1. Во время работы коннектора можно выполнять SMT - Single Message Transformer для редактирования данных."
   ]
  },
  {
   "cell_type": "markdown",
   "id": "1ada65f9-47da-4c14-b2d0-585201c87c2c",
   "metadata": {},
   "source": [
    "### Задание"
   ]
  },
  {
   "cell_type": "markdown",
   "id": "bcfa2aa5-00bb-4d35-8cd7-e6bf95aaf268",
   "metadata": {},
   "source": [
    "1. Создать таблицу `movies`\n",
    "```sql\n",
    "CREATE TABLE IF NOT EXISTS movies(\n",
    "    id INT PRIMARY KEY,\n",
    "    name VARCHAR(255),\n",
    "    rank INT,\n",
    "    released_year INT,\n",
    "    rating NUMERIC(3, 1),\n",
    "    personal_raiting NUMERIC(3, 1)\n",
    ");\n",
    "```\n",
    "1. Наполнить таблицу данными из [Кинопоиск TOP 250](https://www.kinopoisk.ru/lists/movies/top250). Количество фильмов выбрать самостоятельно.\n",
    "\n",
    "```sql\n",
    "INSERT INTO movies VALUES (1, 'Зелёная миля', 1, 1999, 9.1, 7.0);\n",
    "```\n",
    "1. Создать source коннектор, который:\n",
    "    - [скроет](https://docs.confluent.io/platform/current/connect/transforms/maskfield.html) поле `personal_raiting`;\n",
    "    - сделает id ключом сообщения.\n",
    "1. Создать sink коннектор, который:\n",
    "    - создаст таблицу `sink_movies`;\n",
    "    - укажет, что `id` - это первичный ключ таблицы `sink_movies`."
   ]
  },
  {
   "cell_type": "markdown",
   "id": "db420d57-b461-472d-bac2-37c5e321e54a",
   "metadata": {},
   "source": [
    "## Change Data Capture - Debezium"
   ]
  },
  {
   "cell_type": "markdown",
   "id": "77ac3536-5e07-459c-9f56-058a5d2dbdec",
   "metadata": {},
   "source": [
    "### Мотивация"
   ]
  },
  {
   "cell_type": "markdown",
   "id": "c42fd8f2-d628-4101-8d3d-3771d9677519",
   "metadata": {},
   "source": [
    "Данные в системах постоянно меняются, а анализ данных выполняется после того, как ETL процесс перенесет текущее состояние данных в аналитическую систему, где можно будет их обработать в удобной форме. Аналитикам приходится ждать, когда новые данные появятся в системе, а время, затрачиваемое на ETL, пропорционально объему данных в исходной базе данных и неизбежно только возрастает. Также аналитики часто работают с устаревшим состоянием, но это допущение не всегда применимо на практике.\n",
    "\n",
    "Для ускорения обработки новых данных применяется подход под названием *Change Data Capture (CDC)*. CDC - это процесс непрерывного отслеживания и захвата изменений в данных. Так на любое изменение данных генерируется событие, в котором, обычно, содержится информация о том, как данные выглядят после изменений. Аналитики могут получать информацию об изменениях в реальном времени, что повышает скорость реакции бизнеса."
   ]
  },
  {
   "cell_type": "markdown",
   "id": "ff1fdda4-6382-4882-be3c-a1b9b27c3309",
   "metadata": {},
   "source": [
    "Лидером в области CDC является продукт с открытм кодом [Debezium](https://debezium.io/), который развивается при поддержке Red Hat. Архитектурно Debezium представляет коннектор к Apache Kafka.\n",
    "\n",
    "Важно отметить, что Debezium работает исключительно с базами данных. Debezium имеет поддержку большого числа [реляционных баз данных](https://debezium.io/documentation/faq/#what_databases_can_debezium_monitor), но некоторые из них могут требовать дополнительной конфигурации."
   ]
  },
  {
   "cell_type": "markdown",
   "id": "7e564ee5-7c54-442b-98a9-257245094fd7",
   "metadata": {},
   "source": [
    "### Конфигурация PostgreSQL"
   ]
  },
  {
   "cell_type": "markdown",
   "id": "e585f35b-bb79-493a-a948-af2500446184",
   "metadata": {},
   "source": [
    "Для корректной работы debesium необходимо установить опцию `wat_level` ([write ahead log](https://www.postgresql.org/docs/current/runtime-config-wal.html)) в зачение `logical`:"
   ]
  },
  {
   "cell_type": "code",
   "execution_count": null,
   "id": "93396d4a-9894-4743-bf69-0300a45341fb",
   "metadata": {
    "tags": []
   },
   "outputs": [],
   "source": [
    "psql -U postgres -d postgres <<EOF\n",
    "SHOW wal_level;\n",
    "ALTER SYSTEM SET wal_level = logical\n",
    "EOF"
   ]
  },
  {
   "cell_type": "markdown",
   "id": "6aa4c416-8861-454f-943b-c2874f5fd3fa",
   "metadata": {},
   "source": [
    "Внесение изменений на уровне системы требует перезапуска сервера базы данных:"
   ]
  },
  {
   "cell_type": "code",
   "execution_count": null,
   "id": "0d17e8ec-06bf-4c0f-b7b4-ab20d4f188e7",
   "metadata": {
    "tags": []
   },
   "outputs": [],
   "source": [
    "docker compose restart postgres"
   ]
  },
  {
   "cell_type": "markdown",
   "id": "167cffd8-c495-496a-ad0f-0bcb5d62e40a",
   "metadata": {},
   "source": [
    "Необходимо дождаться, когда postgres станет доступным снова:"
   ]
  },
  {
   "cell_type": "code",
   "execution_count": null,
   "id": "c5f46cfd-7e31-41f8-8cdc-ce50a83df9b7",
   "metadata": {
    "tags": []
   },
   "outputs": [],
   "source": [
    "docker compose ps postgres | grep -q healthy || {\n",
    "    echo \"Postgres запускается, пожалуйста, подождите\" >&2\n",
    "    false\n",
    "} && {\n",
    "    echo \"Postgres готов к работе\"\n",
    "}"
   ]
  },
  {
   "cell_type": "markdown",
   "id": "52f4c1ff-b4a6-4f91-b044-9cd151a3aa22",
   "metadata": {},
   "source": [
    "Убедиться, что изменения применились:"
   ]
  },
  {
   "cell_type": "code",
   "execution_count": null,
   "id": "6aa57c81-5c69-4b92-b28a-d03212c5c252",
   "metadata": {
    "tags": []
   },
   "outputs": [],
   "source": [
    "psql -U postgres -d postgres <<EOF\n",
    "SHOW wal_level\n",
    "EOF"
   ]
  },
  {
   "cell_type": "markdown",
   "id": "93f19c30-6925-453d-8e18-4b30f275864c",
   "metadata": {
    "tags": []
   },
   "source": [
    "### Получение списка коннекторов Debezium"
   ]
  },
  {
   "cell_type": "markdown",
   "id": "6e70803f-fb8d-4693-ad35-03f94efea78a",
   "metadata": {},
   "source": [
    "Debezium предлагает REST API, а поэтому можно получить список зарегистрированных коннекторов при помощи REST запроса:"
   ]
  },
  {
   "cell_type": "code",
   "execution_count": null,
   "id": "128fcc94-b8b6-4740-aacb-19283b8fff4f",
   "metadata": {
    "tags": []
   },
   "outputs": [],
   "source": [
    "curl http://debezium:8083/connectors"
   ]
  },
  {
   "cell_type": "markdown",
   "id": "d89a95f4-82d2-4f39-a874-80eeb2bc3b1e",
   "metadata": {},
   "source": [
    "### Регистрация коннектора Debezium"
   ]
  },
  {
   "cell_type": "code",
   "execution_count": null,
   "id": "2f3e9fc6-6c70-4e21-85c1-66b470607430",
   "metadata": {
    "tags": []
   },
   "outputs": [],
   "source": [
    "cat <<EOF > /tmp/debezium-postgres-from-products.cfg\n",
    "{\n",
    "  \"name\": \"postgres-products-connector\",\n",
    "  \"config\": {\n",
    "    \"connector.class\": \"io.debezium.connector.postgresql.PostgresConnector\",\n",
    "    \"plugin.name\": \"pgoutput\",\n",
    "    \"database.hostname\": \"postgres\",\n",
    "    \"database.port\": \"5432\",\n",
    "    \"database.user\": \"postgres\",\n",
    "    \"database.password\": \"postgres\",\n",
    "    \"database.dbname\": \"postgres\",\n",
    "    \"database.server.name\": \"postgres\",\n",
    "    \"table.include.list\": \"public.products\",\n",
    "    \"topic.prefix\": \"debezium-cdc-\"\n",
    "  }\n",
    "}\n",
    "EOF"
   ]
  },
  {
   "cell_type": "code",
   "execution_count": null,
   "id": "74db69c9-0d2a-45ed-8683-7a04d5138e0d",
   "metadata": {
    "tags": []
   },
   "outputs": [],
   "source": [
    "curl -s http://debezium:8083/connectors \\\n",
    "    -X POST \\\n",
    "    -H 'Content-type: application/json' \\\n",
    "    -d '@/tmp/debezium-postgres-from-products.cfg' | json_pp"
   ]
  },
  {
   "cell_type": "code",
   "execution_count": null,
   "id": "1ebdc24d-4ebb-46ff-b5c8-0cb79244b24a",
   "metadata": {
    "tags": []
   },
   "outputs": [],
   "source": [
    "curl -s http://debezium:8083/connectors"
   ]
  },
  {
   "cell_type": "markdown",
   "id": "5a3c7c1c-7bf1-45a7-a637-54f769fd4d81",
   "metadata": {},
   "source": [
    "### Демонстрация работы Debezium"
   ]
  },
  {
   "cell_type": "markdown",
   "id": "b1ff04b0-471f-4802-ab48-0b098a38364e",
   "metadata": {},
   "source": [
    "Для демонстрации необходимо внести изменения в данные:"
   ]
  },
  {
   "cell_type": "code",
   "execution_count": null,
   "id": "27c948a4-f201-4c33-8099-18beb65abe61",
   "metadata": {
    "tags": []
   },
   "outputs": [],
   "source": [
    "psql -U postgres -d postgres <<EOF\n",
    "insert into products values(5, 'Bacon', 11);\n",
    "insert into products values(6, 'Ham', 10);\n",
    "UPDATE products SET price = price * 0.9 WHERE name = 'Eggs';\n",
    "DELETE FROM products WHERE name = 'Ham';\n",
    "EOF"
   ]
  },
  {
   "cell_type": "markdown",
   "id": "8e1c8754-ee3e-4a60-89ce-1cc92fc5e6f1",
   "metadata": {},
   "source": [
    "После внесения изменений в таблицу можно будет увидеть, что в топике `debezium-cdc-.public.products` появились новые сообщения. Каждое сообщение будет содержать ключ строки, для которой были  изменены данные, а также состояние после внесения изменений. Каждое сообщение содержит исчерпывающую информацию, и, в какой-то мере, излишне подробную, поэтому каждое сообщение становится очень большим. В целях обеспечения удобства работы в данном ноутбуке, выводится только одна запись из топика, остальные записи лучше всего посмотреть в [redpanda](http://localhost:8080/topics/debezium-cdc-.public.products), где имеется удобный Web UI для навигации по каждому сообщению."
   ]
  },
  {
   "cell_type": "code",
   "execution_count": null,
   "id": "91701be8-6134-40a8-a9c4-b7c0d5512858",
   "metadata": {
    "tags": []
   },
   "outputs": [],
   "source": [
    "kafka-console-consumer \\\n",
    "    --bootstrap-server \"$KAFKA_HOST\":\"$KAFKA_PORT\" \\\n",
    "    --topic 'debezium-cdc-.public.products' \\\n",
    "    --from-beginning \\\n",
    "    --timeout-ms 10000 \\\n",
    "    --max-messages 1 | json_pp"
   ]
  },
  {
   "cell_type": "markdown",
   "id": "a5ffe239-7887-4756-9e7f-d18352165e15",
   "metadata": {},
   "source": [
    "### Вывод"
   ]
  },
  {
   "cell_type": "markdown",
   "id": "e359a988-c146-4e31-94c9-dac602363a02",
   "metadata": {},
   "source": [
    "1. Подход Change Data Capture позволяет реагировать на изменения в реальном времени, что повышает устойчивость бизнеса к резким изменениям;\n",
    "1. Debezium архитектурно представляет собой коннектор к Apache Kafka;\n",
    "1. Работа с Debezium может потребовать конфигурации базы данных, что может вызывать затруднения для уже запущенных баз данных."
   ]
  },
  {
   "cell_type": "markdown",
   "id": "beded842-2403-44ee-927c-9ee06852520a",
   "metadata": {
    "tags": []
   },
   "source": [
    "### Задание"
   ]
  },
  {
   "cell_type": "markdown",
   "id": "8a9c7f7f-f44d-4763-9378-bbf7c15da40c",
   "metadata": {},
   "source": [
    "1. Убедиться, что оба коннектора (таблицы `movies`, `sink_movies`) из предыдущего раздела активны;\n",
    "1. Настроить debezium коннектор для таблицы `sink_movies`;\n",
    "1. Вставить и обновить и удалить данные в `movies`;\n",
    "1. Убедиться, что через два коннектора (source, sink) для таблиц `movies` и `sink_movies` и debezium коннектора изменения логируются в kafka топик."
   ]
  },
  {
   "cell_type": "code",
   "execution_count": null,
   "id": "c81ad992-9be7-4024-bd54-7ad0ea62f4b7",
   "metadata": {},
   "outputs": [],
   "source": []
  }
 ],
 "metadata": {
  "kernelspec": {
   "display_name": "Bash",
   "language": "bash",
   "name": "bash"
  },
  "language_info": {
   "codemirror_mode": "shell",
   "file_extension": ".sh",
   "mimetype": "text/x-sh",
   "name": "bash"
  }
 },
 "nbformat": 4,
 "nbformat_minor": 5
}
