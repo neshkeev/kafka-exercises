{
 "cells": [
  {
   "cell_type": "markdown",
   "id": "3e3422c7-b1dd-471e-bccf-68f6e64cb9ca",
   "metadata": {
    "tags": []
   },
   "source": [
    "# Базовые операции с Kafka KRaft"
   ]
  },
  {
   "cell_type": "markdown",
   "id": "d87994db-1a5a-4267-b239-9c5b1231ec21",
   "metadata": {
    "tags": []
   },
   "source": [
    "## Создать топик"
   ]
  },
  {
   "cell_type": "code",
   "execution_count": null,
   "id": "26457054-cfe7-4bcb-82f2-c049ef1a71eb",
   "metadata": {
    "tags": []
   },
   "outputs": [],
   "source": [
    "kafka-topics --bootstrap-server \"$KAFKA_HOST\":\"$KAFKA_PORT\" \\\n",
    "    --topic kraft-demo-topic \\\n",
    "    --create \\\n",
    "    --partitions 2 \\\n",
    "    --replication-factor 3"
   ]
  },
  {
   "cell_type": "markdown",
   "id": "0a13d121-328b-4c7c-8d18-02d95467e5d4",
   "metadata": {
    "tags": []
   },
   "source": [
    "## Получить список топиков"
   ]
  },
  {
   "cell_type": "code",
   "execution_count": null,
   "id": "64db26bb-9ee1-4338-a630-a4c02264e00e",
   "metadata": {
    "tags": []
   },
   "outputs": [],
   "source": [
    "kafka-topics --bootstrap-server \"$KAFKA_HOST\":\"$KAFKA_PORT\" \\\n",
    "    --list"
   ]
  },
  {
   "cell_type": "markdown",
   "id": "c8891d06-ab37-4e89-a6d6-db702932b3dc",
   "metadata": {
    "tags": []
   },
   "source": [
    "## Записать данные в топик"
   ]
  },
  {
   "cell_type": "code",
   "execution_count": null,
   "id": "45abb4e6-c7c6-4cda-aaeb-d81dc3dcae95",
   "metadata": {
    "tags": []
   },
   "outputs": [],
   "source": [
    "kafka-console-producer --bootstrap-server \"$KAFKA_HOST\":\"$KAFKA_PORT\" \\\n",
    "    --topic kraft-demo-topic <<<$(yes 'Hello, World!' 2>/dev/null | head -n 10)"
   ]
  },
  {
   "cell_type": "markdown",
   "id": "18d571f1-2c9d-40da-8b74-9b44c903ece9",
   "metadata": {
    "tags": []
   },
   "source": [
    "## Прочитать данные из топика"
   ]
  },
  {
   "cell_type": "code",
   "execution_count": null,
   "id": "478a6a70-098f-4051-85d9-fed0ff678da6",
   "metadata": {
    "tags": []
   },
   "outputs": [],
   "source": [
    "kafka-console-consumer --bootstrap-server \"$KAFKA_HOST\":\"$KAFKA_PORT\" \\\n",
    "    --topic kraft-demo-topic \\\n",
    "    --from-beginning \\\n",
    "    --timeout-ms 10000"
   ]
  },
  {
   "cell_type": "markdown",
   "id": "e1a4984e-b28a-43d5-aa2b-d1b8cba7c9a8",
   "metadata": {
    "tags": []
   },
   "source": [
    "## Утилиты для работы с Kraft"
   ]
  },
  {
   "cell_type": "markdown",
   "id": "fa785bcc-fcf9-4d49-ad52-221d1513fcc3",
   "metadata": {},
   "source": [
    "### Работа с идентификатором кластера"
   ]
  },
  {
   "cell_type": "markdown",
   "id": "e09b3c79-97d5-4724-986d-58b7776b73f0",
   "metadata": {
    "tags": []
   },
   "source": [
    "Перед стартом кластера необходимо указать `CLUSTER_ID`, значение для которго можно получить при помощи [`kafka-storage`](https://docs.confluent.io/kafka/operations-tools/kafka-tools.html#kafka-storage-sh)"
   ]
  },
  {
   "cell_type": "code",
   "execution_count": null,
   "id": "1ea1b240-0ceb-4007-adaf-361f9372e74b",
   "metadata": {
    "tags": []
   },
   "outputs": [],
   "source": [
    "kafka-storage random-uuid"
   ]
  },
  {
   "cell_type": "markdown",
   "id": "57041e34-8025-4cef-9236-06267463424d",
   "metadata": {
    "tags": []
   },
   "source": [
    "Посмотреть текущий идентификатор кластера можно при помощи следующей команды:"
   ]
  },
  {
   "cell_type": "code",
   "execution_count": null,
   "id": "258cd0b5-030d-4fa9-9d15-bdf73408bab5",
   "metadata": {
    "tags": []
   },
   "outputs": [],
   "source": [
    "kafka-storage info -c /etc/kafka/kraft/server.properties"
   ]
  },
  {
   "cell_type": "markdown",
   "id": "0b748c87-8aca-45ef-b8db-64f13b7a2b9a",
   "metadata": {
    "tags": []
   },
   "source": [
    "### Получить статистику по рантайму"
   ]
  },
  {
   "cell_type": "markdown",
   "id": "d2194c07-f57a-4d32-91b2-bcad9ede9b01",
   "metadata": {},
   "source": [
    "Текущее состояние кластера можно получить при помощи [kafka-metadata-quorum](https://docs.confluent.io/kafka/operations-tools/kafka-tools.html#kafka-metadata-quorum-sh). Например, следующая команда покажет общую информацию по кворуму:"
   ]
  },
  {
   "cell_type": "code",
   "execution_count": null,
   "id": "9a4465fc-ca8f-4a43-a31a-be9fd327bfc6",
   "metadata": {
    "tags": []
   },
   "outputs": [],
   "source": [
    "kafka-metadata-quorum --bootstrap-server \"$KAFKA_HOST\":\"$KAFKA_PORT\" \\\n",
    "    describe --status"
   ]
  },
  {
   "cell_type": "markdown",
   "id": "3e0052b4-cc3c-4a27-8d14-9dfe76c211b2",
   "metadata": {
    "tags": []
   },
   "source": [
    "### Получить содержимое файлов с логами"
   ]
  },
  {
   "cell_type": "markdown",
   "id": "4ab5bdfd-988e-4b32-90c1-19f81da92c50",
   "metadata": {},
   "source": [
    "Утилита [kafka-dump-log](https://docs.confluent.io/kafka/operations-tools/kafka-tools.html#kafka-dump-log-sh) применяется для анализа содержимого файлов с логами Apache Kafka кластера. Логи в Apache Kafka хранят записанные в кластер события/записи."
   ]
  },
  {
   "cell_type": "markdown",
   "id": "dee2f118-af13-4978-88ab-590cab8609de",
   "metadata": {
    "tags": []
   },
   "source": [
    "Файлы с логами хранятся в `/tmp/kraft-combined-logs`"
   ]
  },
  {
   "cell_type": "code",
   "execution_count": null,
   "id": "24e23151-30b6-4361-8dbe-d764f17b67a7",
   "metadata": {
    "tags": []
   },
   "outputs": [],
   "source": [
    "HOST=kafka1 execute \\\n",
    "ls /tmp/kraft-combined-logs"
   ]
  },
  {
   "cell_type": "markdown",
   "id": "2ee5a413-d667-4846-81ae-d2972534857b",
   "metadata": {},
   "source": [
    "#### Прочитать события из файла логов для топика `kraft-demo-topic`:"
   ]
  },
  {
   "cell_type": "code",
   "execution_count": null,
   "id": "7b773897-829f-4c76-90f2-774f4da2b10c",
   "metadata": {
    "tags": []
   },
   "outputs": [],
   "source": [
    "log_file=$(HOST=${KAFKA_HOST} execute ls /tmp/kraft-combined-logs/kraft-demo-topic-0 | grep log)\n",
    "\n",
    "HOST=kafka1 \\\n",
    "kafka-dump-log --print-data-log \\\n",
    "    --files /tmp/kraft-combined-logs/kraft-demo-topic-0/$log_file \\\n",
    "    --value-decoder-class kafka.serializer.StringDecoder"
   ]
  },
  {
   "cell_type": "markdown",
   "id": "9885fa94-43c1-4c59-891e-d27e77bb7d7d",
   "metadata": {},
   "source": [
    "#### Прочитать события из топика метаданных"
   ]
  },
  {
   "cell_type": "code",
   "execution_count": null,
   "id": "2994d413-7c7f-4b7b-86c8-8ba8c29891dc",
   "metadata": {
    "tags": []
   },
   "outputs": [],
   "source": [
    "log_file=$(HOST=${KAFKA_HOST} execute ls /tmp/kraft-combined-logs/__cluster_metadata-0 | grep log)\n",
    "\n",
    "kafka-dump-log --cluster-metadata-decoder \\\n",
    "    --files /tmp/kraft-combined-logs/__cluster_metadata-0/${log_file} |\n",
    "    head -n 15 |\n",
    "    sed -n '/^\\(baseOffset\\||\\)/s,\\s,\\n    ,gp' |\n",
    "    sed -n '/^|/{d};/baseOffset/s,^,>>>>,;N;s,\\n, ,p'"
   ]
  },
  {
   "cell_type": "markdown",
   "id": "96407220-ef5d-4d18-8d40-579f478c472d",
   "metadata": {
    "tags": []
   },
   "source": [
    "### Анализ лога с метаданными"
   ]
  },
  {
   "cell_type": "markdown",
   "id": "1ea2bfa5-fd9f-4161-8103-6c2c7e3e4793",
   "metadata": {},
   "source": [
    "Утилита [kafka-metadata-shell](https://docs.confluent.io/kafka/operations-tools/kafka-tools.html#kafka-metadata-shell.sh) позволяет в интерактивном режиме анализировать метаданные кластера. Утилита аналогична утилите [zookeeper-shell](https://docs.confluent.io/kafka/operations-tools/kafka-tools.html#zookeeper-shell-sh) при работе кластера Apache Kafka через Apache Zookeeper."
   ]
  },
  {
   "cell_type": "code",
   "execution_count": null,
   "id": "770dac04-e21d-44da-98b4-0b08f89c5130",
   "metadata": {
    "tags": []
   },
   "outputs": [],
   "source": [
    "log_file=$(HOST=${KAFKA_HOST} execute ls /tmp/kraft-combined-logs/__cluster_metadata-0 | grep log)\n",
    "\n",
    "kafka-metadata-shell --snapshot /tmp/kraft-combined-logs/__cluster_metadata-0/${log_file} \\\n",
    "    ls / \\\n",
    "    2> /dev/null"
   ]
  },
  {
   "cell_type": "code",
   "execution_count": null,
   "id": "120430be-a7db-4584-b295-e67ee8e1cb7e",
   "metadata": {
    "tags": []
   },
   "outputs": [],
   "source": [
    "log_file=$(HOST=${KAFKA_HOST} execute ls /tmp/kraft-combined-logs/__cluster_metadata-0 | grep log)\n",
    "\n",
    "kafka-metadata-shell --snapshot /tmp/kraft-combined-logs/__cluster_metadata-0/${log_file} \\\n",
    "    ls /brokers \\\n",
    "    2> /dev/null |\n",
    "  sed 's, ,,g;s/\\((\\|,\\)/\\1\\n/g'"
   ]
  },
  {
   "cell_type": "code",
   "execution_count": null,
   "id": "e0d5ac02-abfc-4f02-8210-538768e53d85",
   "metadata": {
    "tags": []
   },
   "outputs": [],
   "source": [
    "log_file=$(HOST=${KAFKA_HOST} execute ls /tmp/kraft-combined-logs/__cluster_metadata-0 | grep log)\n",
    "\n",
    "kafka-metadata-shell --snapshot /tmp/kraft-combined-logs/__cluster_metadata-0/${log_file} \\\n",
    "    cat /brokers/201/registration \\\n",
    "    2> /dev/null |\n",
    "  sed 's, ,,g;s/\\((\\|,\\)/\\1\\n/g'"
   ]
  },
  {
   "cell_type": "code",
   "execution_count": null,
   "id": "cd3a2b40-2c86-46c0-be21-a82bd425ee45",
   "metadata": {
    "tags": []
   },
   "outputs": [],
   "source": [
    "log_file=$(HOST=${KAFKA_HOST} execute ls /tmp/kraft-combined-logs/__cluster_metadata-0 | grep log)\n",
    "\n",
    "kafka-metadata-shell --snapshot /tmp/kraft-combined-logs/__cluster_metadata-0/${log_file} \\\n",
    "    cat /topics/kraft-demo-topic/0/data \\\n",
    "    2>/dev/null"
   ]
  },
  {
   "cell_type": "markdown",
   "id": "1a2b4d62-4221-4922-a65b-8bae5f7760f0",
   "metadata": {
    "tags": []
   },
   "source": [
    "### Получить информацию по кворуму"
   ]
  },
  {
   "cell_type": "markdown",
   "id": "af33fc2f-dc91-49de-94cc-ca9c9d6ce870",
   "metadata": {
    "tags": []
   },
   "source": [
    "Утилита `kafka-metadata-quorum` позволяет получить метаданные для анализа Kafka кластера на базе KRaft."
   ]
  },
  {
   "cell_type": "markdown",
   "id": "f6e2c31b-0088-4205-80bc-dbb8a302ac2b",
   "metadata": {},
   "source": [
    "Получить общую информацию о кластере:"
   ]
  },
  {
   "cell_type": "code",
   "execution_count": null,
   "id": "93ea6c1e-2d05-493a-81e7-9ea6ea88969f",
   "metadata": {
    "tags": []
   },
   "outputs": [],
   "source": [
    "kafka-metadata-quorum --bootstrap-server \"$KAFKA_HOST\":\"$KAFKA_PORT\" \\\n",
    "    describe --status"
   ]
  },
  {
   "cell_type": "markdown",
   "id": "edbd04d5-699a-45c0-a08b-5d1ccd5edbf2",
   "metadata": {},
   "source": [
    "Получить детали репликации журнала событий:"
   ]
  },
  {
   "cell_type": "code",
   "execution_count": null,
   "id": "3896a5e5-04dc-4756-b939-1f2254357318",
   "metadata": {
    "tags": []
   },
   "outputs": [],
   "source": [
    "kafka-metadata-quorum --bootstrap-server \"$KAFKA_HOST\":\"$KAFKA_PORT\" \\\n",
    "    describe --replication"
   ]
  },
  {
   "cell_type": "markdown",
   "id": "abfaac9f-1ce5-4a16-84cd-0a0453ebf198",
   "metadata": {},
   "source": [
    "## Удалить топик"
   ]
  },
  {
   "cell_type": "code",
   "execution_count": null,
   "id": "ab6254c6-f853-49a9-9450-ce7cf2423ee2",
   "metadata": {
    "tags": []
   },
   "outputs": [],
   "source": [
    "kafka-topics --bootstrap-server \"$KAFKA_HOST\":\"$KAFKA_PORT\" \\\n",
    "    --topic kraft-demo-topic \\\n",
    "    --delete"
   ]
  },
  {
   "cell_type": "code",
   "execution_count": null,
   "id": "40311ece-b7a5-4e7b-95c4-5c29073dd59b",
   "metadata": {
    "tags": []
   },
   "outputs": [],
   "source": [
    "kafka-topics --bootstrap-server \"$KAFKA_HOST\":\"$KAFKA_PORT\" \\\n",
    "    --list"
   ]
  },
  {
   "cell_type": "markdown",
   "id": "a529948f-1abe-4353-a3db-42cebc39cde2",
   "metadata": {},
   "source": [
    "## Задание"
   ]
  },
  {
   "cell_type": "markdown",
   "id": "f6687b2b-34dc-4796-a765-7763de4bbf89",
   "metadata": {
    "tags": []
   },
   "source": [
    "1. Увеличить количество контроллеров до 5\n",
    "1. Убедитесь, что количество контроллеров равно 5\n",
    "1. Какой контроллер является лидером?\n",
    "1. Остановите контейнер лидера (`docker compose pause <LEADER SERVICE NAME>`)\n",
    "1. Восстановите остановленный контейнер (`docker compose unpause <LEADER SERVICE NAME>`)\n",
    "1. Увеличить количество брокеров до 7. Убедитесь, что количество брокеров равно 7\n",
    "1. Почему необходимо использовать нечетные количество брокеров и контроллеров?"
   ]
  }
 ],
 "metadata": {
  "kernelspec": {
   "display_name": "Bash",
   "language": "bash",
   "name": "bash"
  },
  "language_info": {
   "codemirror_mode": "shell",
   "file_extension": ".sh",
   "mimetype": "text/x-sh",
   "name": "bash"
  }
 },
 "nbformat": 4,
 "nbformat_minor": 5
}
