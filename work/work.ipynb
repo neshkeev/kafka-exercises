{
 "cells": [
  {
   "cell_type": "markdown",
   "id": "3e3422c7-b1dd-471e-bccf-68f6e64cb9ca",
   "metadata": {
    "tags": []
   },
   "source": [
    "# Schema Registry"
   ]
  },
  {
   "cell_type": "markdown",
   "id": "c1ee5f0b-a02e-4b8c-8a45-e67ff77a4925",
   "metadata": {
    "tags": []
   },
   "source": [
    "## Мотивация"
   ]
  },
  {
   "cell_type": "markdown",
   "id": "8569c93e-1461-42f1-a257-aaaa0a94115a",
   "metadata": {},
   "source": [
    "До настоящего момента в топики записывались данные в текстовом формате, но на практике часто приходится работать с объектами определенного формата. Не смотря на то, что любой объект можно преобразовать в json, а потом восстановить его из json строки, накладные расходы на передачу и хранение таких данных могут быть неоправданными.\n",
    "\n",
    "При работе с Kafka вместо json используют бинарные данные:\n",
    "- продюсеры отправляют сериализуют объекты в бинарный формат (последовательность 0 и 1);\n",
    "- консьюмеры читают сообщения из топика в бинарном формате и преобразуют их в обратно в объекты;\n",
    "- продюсеры и консьюмеры должны использовать одну и ту же схему бинарного представления данных.\n",
    "\n",
    "На небольших проектах, где продюсеры и консьюмеры находятся под управлением одной команды разработки, договориться о формате не составляет труда. Но когда во взаимодействии участвуют несколько команд, то координация бинарных форматов может стать серьезной проблемой, т.к. необходимо:\n",
    "\n",
    "- согласовывать формат;\n",
    "- отслеживать изменения формата;\n",
    "- обновлять передставление объектов после изменения формата.\n",
    "\n",
    "[Schema Registry](https://docs.confluent.io/platform/current/schema-registry/index.html) выступает центральным репозиторием схем, что позволяет решить все проблемы, связанные с форматами данных. Schema Regisry - это отдельный сервис, у которого есть REST API интерфейс. Schema Registry поддерживает схемы в форматах:\n",
    "\n",
    "- AVRO,\n",
    "- PROTOBUF,\n",
    "- JSON SCHEMA.\n",
    "\n",
    "При этом продюсеры и консьюмеры могут генерировать код автоматически на базе файла с форматом."
   ]
  },
  {
   "cell_type": "markdown",
   "id": "889c9875-c45c-4c9b-bc9e-7fa8842dd9fc",
   "metadata": {
    "tags": []
   },
   "source": [
    "## Подготовка"
   ]
  },
  {
   "cell_type": "markdown",
   "id": "9a1e09b1-58f0-42fe-b241-670f7dc27ed1",
   "metadata": {},
   "source": [
    "Продюсеры и консьюмеры будут использовать топик `my-java-api-topic`:"
   ]
  },
  {
   "cell_type": "code",
   "execution_count": null,
   "id": "b72d80fc-2e2c-43cf-b97a-0cc3c16db73f",
   "metadata": {
    "tags": []
   },
   "outputs": [],
   "source": [
    "kafka-topics --bootstrap-server \"${KAFKA_HOST}\":\"${KAFKA_PORT}\" \\\n",
    "    --create \\\n",
    "    --topic my-java-api-topic \\\n",
    "    --partitions 10 \\\n",
    "    --replication-factor 1"
   ]
  },
  {
   "cell_type": "markdown",
   "id": "61f13248-2aaf-4a6a-a3cc-58f8d065bb49",
   "metadata": {
    "tags": []
   },
   "source": [
    "## Работа со Schema Registry"
   ]
  },
  {
   "cell_type": "markdown",
   "id": "c0a3a8d1-ee37-4ed1-b24f-6813db7c04e1",
   "metadata": {
    "tags": []
   },
   "source": [
    "### Зарегистрировать локальную схему в Schema Registry"
   ]
  },
  {
   "cell_type": "markdown",
   "id": "3fbed874-a76a-4fcd-bd3c-b95afc44abb9",
   "metadata": {
    "tags": []
   },
   "source": [
    "При наличии схемы в проекте, можно опубликовать ее в schema registry. В проекте `kafka-java-demo` находятся 2 схемы:\n",
    "\n",
    "- схема для ключа в `PROTBUF` формате,\n",
    "- схема для значения в `AVRO` формате.\n",
    "\n",
    "На практике лучше выбирать один из форматов."
   ]
  },
  {
   "cell_type": "code",
   "execution_count": null,
   "id": "57789ae9-1d3f-4dde-9e40-bdb9af72e729",
   "metadata": {
    "tags": []
   },
   "outputs": [],
   "source": [
    "execute \\\n",
    "cat kafka-java-demo/src/main/avro/customer-value.avsc | json_pp"
   ]
  },
  {
   "cell_type": "code",
   "execution_count": null,
   "id": "a2b62bfe-9cc1-442d-9942-5c3fc28f2e91",
   "metadata": {
    "tags": []
   },
   "outputs": [],
   "source": [
    "execute \\\n",
    "cat kafka-java-demo/src/main/proto/customer-key.proto"
   ]
  },
  {
   "cell_type": "markdown",
   "id": "ae2e12b9-a959-49fc-9449-9c2824c7a55a",
   "metadata": {
    "tags": []
   },
   "source": [
    "Регистрация схемы возможна:\n",
    "\n",
    "- при помощи maven плагина [`schema-registry`](https://docs.confluent.io/platform/current/schema-registry/develop/maven-plugin.html),\n",
    "- через REST API."
   ]
  },
  {
   "cell_type": "markdown",
   "id": "afbb6336-3742-4679-98d5-1fa2aafc255c",
   "metadata": {},
   "source": [
    "#### Регистрация через Maven плагин"
   ]
  },
  {
   "cell_type": "markdown",
   "id": "5e55f8f3-6560-400c-af67-d60977b7369c",
   "metadata": {
    "tags": []
   },
   "source": [
    "При помощи цели [`register`](https://docs.confluent.io/platform/current/schema-registry/develop/maven-plugin.html#schema-registry-register) можно зарегистрировать локальные схемы:"
   ]
  },
  {
   "cell_type": "code",
   "execution_count": null,
   "id": "4513fbb4-7e18-488a-a178-906330766d6a",
   "metadata": {},
   "outputs": [],
   "source": [
    "source ~/.bash_aliases"
   ]
  },
  {
   "cell_type": "code",
   "execution_count": null,
   "id": "9ce07992-cc52-4397-93e1-e688167b3115",
   "metadata": {
    "tags": []
   },
   "outputs": [],
   "source": [
    "mvn schema-registry:register > /tmp/register.log ;\n",
    "    tail -n 40 /tmp/register.log"
   ]
  },
  {
   "cell_type": "code",
   "execution_count": null,
   "id": "a63509ca-5330-4e24-a6f1-3ad1dfa9b2a2",
   "metadata": {
    "tags": []
   },
   "outputs": [],
   "source": [
    "curl -s http://schema-registry:8081/subjects | json_pp"
   ]
  },
  {
   "cell_type": "markdown",
   "id": "37be0dd4-4dbd-40be-b2a4-81e40ca4da47",
   "metadata": {
    "tags": []
   },
   "source": [
    "#### Регистрация через REST API"
   ]
  },
  {
   "cell_type": "markdown",
   "id": "925a0b75-6276-4870-aca0-5fbb53dc0e8a",
   "metadata": {},
   "source": [
    "Регистрация схемы равносильна обновлению схемы. При обновлении Schema Registry будет следить за тем, чтобы внесенные изменения не оказывали эффект на имеющихся потребителей схемы."
   ]
  },
  {
   "cell_type": "markdown",
   "id": "758072eb-9986-4f8d-aedc-a4861ecf76fe",
   "metadata": {},
   "source": [
    "Например, **нельзя** добавить новую колонку, у которой нет значения по умолчанию:"
   ]
  },
  {
   "cell_type": "code",
   "execution_count": null,
   "id": "054442a0-7d46-4aac-9148-23815adf4ee2",
   "metadata": {
    "tags": []
   },
   "outputs": [],
   "source": [
    "cat <<EOF > /tmp/update-customer-value-bad.json\n",
    "{\n",
    "    \"schema\": \"{ \\\n",
    "        \\\"type\\\": \\\"record\\\", \\\n",
    "        \\\"name\\\": \\\"Customer\\\", \\\n",
    "        \\\"namespace\\\": \\\"com.github.neshkeev.kafka.customer.avro\\\", \\\n",
    "        \\\"fields\\\":[ \\\n",
    "            { \\\n",
    "                \\\"name\\\":\\\"id\\\", \\\n",
    "                \\\"type\\\":\\\"string\\\" \\\n",
    "            }, \\\n",
    "            { \\\n",
    "                \\\"name\\\":\\\"name\\\", \\\n",
    "                \\\"type\\\":\\\"string\\\" \\\n",
    "            }, \\\n",
    "            { \\\n",
    "                \\\"name\\\":\\\"age\\\", \\\n",
    "                \\\"type\\\":\\\"string\\\" \\\n",
    "            } \\\n",
    "        ] \\\n",
    "    }\" \\\n",
    "}\n",
    "EOF"
   ]
  },
  {
   "cell_type": "code",
   "execution_count": null,
   "id": "6956cde6-f72b-4749-a376-b81bef955cc3",
   "metadata": {
    "tags": []
   },
   "outputs": [],
   "source": [
    "curl -s http://schema-registry:8081/subjects/customer-value/versions \\\n",
    "    -X POST -H \"Content-Type: application/vnd.schemaregistry.v1+json\" \\\n",
    "    --data \"@/tmp/update-customer-value-bad.json\" | json_pp"
   ]
  },
  {
   "cell_type": "markdown",
   "id": "efb0c01d-9d86-4fec-b4d7-f5226f987f89",
   "metadata": {},
   "source": [
    "Обновление схемы не произошло, новая версия схемы `customer-value` не появилась:"
   ]
  },
  {
   "cell_type": "code",
   "execution_count": null,
   "id": "89642d11-3c2b-425f-bcc4-e4debeff6f55",
   "metadata": {
    "tags": []
   },
   "outputs": [],
   "source": [
    "curl -s http://schema-registry:8081/subjects/customer-value/versions"
   ]
  },
  {
   "cell_type": "markdown",
   "id": "7d97b337-0c94-4ddc-915f-7cd1fff00f2f",
   "metadata": {},
   "source": [
    "Можно убедиться, что в текущей версии отсутствует новая колонка `age`:"
   ]
  },
  {
   "cell_type": "code",
   "execution_count": null,
   "id": "5852c4d4-0d63-4daf-b60b-141a4faf0b49",
   "metadata": {
    "tags": []
   },
   "outputs": [],
   "source": [
    "curl -s http://schema-registry:8081/subjects/customer-value/versions/latest |\n",
    "    json_pp |\n",
    "    sed -n '/schema/{s/^\\s\\+\"schema\" : \"\\(.*\\)\",/\\1/;s,\\\\\",\",gp}' |\n",
    "    json_pp"
   ]
  },
  {
   "cell_type": "markdown",
   "id": "8a120c6e-5e42-4042-bcaf-8808c0cfe912",
   "metadata": {
    "tags": []
   },
   "source": [
    "Для сохранения обратной совместимости при обновлении схемы необходимо **обязательно** нужно указать значение по умолчанию при добавлении новых полей.\n",
    "\n",
    "Например, можно указать значение `0` в качестве значения по умолчанию для нового поля `age`:"
   ]
  },
  {
   "cell_type": "code",
   "execution_count": null,
   "id": "02b1e03c-a3f0-4c24-9efc-8154db8a04a6",
   "metadata": {
    "tags": []
   },
   "outputs": [],
   "source": [
    "cat <<EOF >/tmp/update-customer-value-good.json\n",
    "{\n",
    "    \"schema\": \"{ \\\n",
    "        \\\"type\\\": \\\"record\\\", \\\n",
    "        \\\"name\\\": \\\"Customer\\\", \\\n",
    "        \\\"namespace\\\": \\\"com.github.neshkeev.kafka.customer.avro\\\", \\\n",
    "        \\\"fields\\\":[ \\\n",
    "            { \\\n",
    "                \\\"name\\\":\\\"id\\\", \\\n",
    "                \\\"type\\\":\\\"string\\\" \\\n",
    "            }, \\\n",
    "            { \\\n",
    "                \\\"name\\\":\\\"name\\\", \\\n",
    "                \\\"type\\\":\\\"string\\\" \\\n",
    "            }, \\\n",
    "            { \\\n",
    "                \\\"name\\\":\\\"age\\\", \\\n",
    "                \\\"type\\\":\\\"string\\\", \\\n",
    "                \\\"default\\\":\\\"0\\\" \\\n",
    "            } \\\n",
    "        ] \\\n",
    "    }\" \\\n",
    "}\n",
    "EOF"
   ]
  },
  {
   "cell_type": "code",
   "execution_count": null,
   "id": "b37304e9-7b5c-4eb0-9abb-62bdb32a200a",
   "metadata": {
    "tags": []
   },
   "outputs": [],
   "source": [
    "curl -s http://schema-registry:8081/subjects/customer-value/versions \\\n",
    "    -X POST -H \"Content-Type: application/vnd.schemaregistry.v1+json\" \\\n",
    "    --data \"@/tmp/update-customer-value-good.json\" | json_pp"
   ]
  },
  {
   "cell_type": "markdown",
   "id": "193ac14c-78f1-42de-be85-3e6a491b9bf3",
   "metadata": {},
   "source": [
    "Появилась новая версия схемы `customer-value`:"
   ]
  },
  {
   "cell_type": "code",
   "execution_count": null,
   "id": "91bf5b1e-e72e-41f5-b2f2-b24443ea43ba",
   "metadata": {
    "tags": []
   },
   "outputs": [],
   "source": [
    "curl -s http://schema-registry:8081/subjects/customer-value/versions"
   ]
  },
  {
   "cell_type": "markdown",
   "id": "569e3c27-1fc8-48c8-8267-89d56245eb24",
   "metadata": {},
   "source": [
    "Текущая версия схемы содержит поле `age`, в котором в качестве значения по умолчанию используется `0`:"
   ]
  },
  {
   "cell_type": "code",
   "execution_count": null,
   "id": "7a0104b1-a236-41a8-9e2f-78792fa5178f",
   "metadata": {
    "tags": []
   },
   "outputs": [],
   "source": [
    "curl -s http://schema-registry:8081/subjects/customer-value/versions/latest |\n",
    "    json_pp |\n",
    "    sed -n '/schema/{s/^\\s\\+\"schema\" : \"\\(.*\\)\",/\\1/;s,\\\\\",\",gp}' |\n",
    "    json_pp"
   ]
  },
  {
   "cell_type": "markdown",
   "id": "a4f90691-ba06-41f5-a1e0-30bd287590e3",
   "metadata": {
    "tags": []
   },
   "source": [
    "### Обновить схему в проекте"
   ]
  },
  {
   "cell_type": "markdown",
   "id": "fe5e23d6-571c-49c0-958f-f691c679a24d",
   "metadata": {},
   "source": [
    "После внесения изменений в схему, потребители должны обновить файл со схемой в проекте. Цель [`download`](https://docs.confluent.io/platform/current/schema-registry/develop/maven-plugin.html#schema-registry-download) позволяет загрузить актуальную версию схемы из Schema Registry и положить в проект."
   ]
  },
  {
   "cell_type": "markdown",
   "id": "b80388de-b45e-43ff-8fdb-029f262e5c98",
   "metadata": {},
   "source": [
    "Обновить схему можно при помощи maven плагина [`schema-registry`](https://docs.confluent.io/platform/current/schema-registry/develop/maven-plugin.html):"
   ]
  },
  {
   "cell_type": "code",
   "execution_count": null,
   "id": "3563ad0b-f717-4fb2-8763-4fc351b0606f",
   "metadata": {
    "tags": []
   },
   "outputs": [],
   "source": [
    "mvn schema-registry:download > /tmp/schema-download.log ;\n",
    "    tail -n 40 /tmp/schema-download.log"
   ]
  },
  {
   "cell_type": "markdown",
   "id": "3269bab5-68de-4409-85de-baa7c6395cca",
   "metadata": {},
   "source": [
    "Новая версия схемы была сохранена на локальный жесткий диск в файлы с проектом:"
   ]
  },
  {
   "cell_type": "code",
   "execution_count": null,
   "id": "9df94893-0259-4ab6-bc71-3c0f74dca216",
   "metadata": {
    "tags": []
   },
   "outputs": [],
   "source": [
    "execute \\\n",
    "cat kafka-java-demo/src/main/avro/customer-value.avsc | json_pp"
   ]
  },
  {
   "cell_type": "markdown",
   "id": "4ecd9ec5-3ffe-4c51-a0f3-bee265c988f5",
   "metadata": {},
   "source": [
    "### Проверить актуальность схемы"
   ]
  },
  {
   "cell_type": "markdown",
   "id": "d98a9967-b677-4991-94ca-7ec53338d495",
   "metadata": {},
   "source": [
    "После внесения изменений в схему необходимо убедиться, что обратная совместимость сохраняется.\n",
    "\n",
    "Цель [`test-compatibility`](https://docs.confluent.io/platform/current/schema-registry/develop/maven-plugin.html#schema-registry-test-compatibility) позволяет проверить соотвествует ли версия схемы в проекте текущей схеме в Schema Registry:"
   ]
  },
  {
   "cell_type": "code",
   "execution_count": null,
   "id": "ccb51123-9780-4a51-a0b9-3af12d4df7ed",
   "metadata": {
    "tags": []
   },
   "outputs": [],
   "source": [
    "mvn schema-registry:test-compatibility > /tmp/schema-test-compatibility.log ;\n",
    "    tail -n 40 /tmp/schema-test-compatibility.log"
   ]
  },
  {
   "cell_type": "markdown",
   "id": "48684786-4d70-45a2-a9fd-68bca7cedd4c",
   "metadata": {},
   "source": [
    "Если внести несогласованные изменения в схему, то плагин укажет на это. Например, изменение типа поля `id` с `string` на `int` является изменением, которое ломает обратную совместимость:"
   ]
  },
  {
   "cell_type": "code",
   "execution_count": null,
   "id": "009fccc8-597f-4ad4-b9e8-a962f7c6c40b",
   "metadata": {
    "tags": []
   },
   "outputs": [],
   "source": [
    "execute \\\n",
    "sed -i 's,string,int,' kafka-java-demo/src/main/avro/customer-value.avsc"
   ]
  },
  {
   "cell_type": "code",
   "execution_count": null,
   "id": "53324cc7-0cda-4a5b-822b-d0279342cfd8",
   "metadata": {
    "tags": []
   },
   "outputs": [],
   "source": [
    "execute \\\n",
    "cat kafka-java-demo/src/main/avro/customer-value.avsc | json_pp"
   ]
  },
  {
   "cell_type": "markdown",
   "id": "2a6cb3aa-661f-4138-80a8-01a57c6919bc",
   "metadata": {},
   "source": [
    "Проверка совместимости укажет на нарушение условия обратной совместимости:"
   ]
  },
  {
   "cell_type": "code",
   "execution_count": null,
   "id": "1653499f-4c3d-4bd0-a6a6-0e3286d9ea6d",
   "metadata": {
    "tags": []
   },
   "outputs": [],
   "source": [
    "mvn schema-registry:test-compatibility > /tmp/schema-test-compatibility.log ;\n",
    "    tail -n 40 /tmp/schema-test-compatibility.log"
   ]
  },
  {
   "cell_type": "markdown",
   "id": "618963ad-af70-4f5c-8adc-cfd1358bce9a",
   "metadata": {},
   "source": [
    "Для отката изменений можно заново скачать актуальную версию:"
   ]
  },
  {
   "cell_type": "code",
   "execution_count": null,
   "id": "607f5681-3519-4382-bfcb-3dbf79b9e16d",
   "metadata": {
    "tags": []
   },
   "outputs": [],
   "source": [
    "mvn schema-registry:download > /tmp/schema-test-compatibility.log ;\n",
    "    tail -n 40 /tmp/schema-test-compatibility.log"
   ]
  },
  {
   "cell_type": "markdown",
   "id": "943a4811-3a0c-4837-bdf3-e1ff2a989403",
   "metadata": {},
   "source": [
    "### Генерация java кода"
   ]
  },
  {
   "cell_type": "markdown",
   "id": "84696fd8-f3bd-41fa-a7d1-d968910317b9",
   "metadata": {
    "tags": []
   },
   "source": [
    "По файлам схемы можно сгенерировать код на любом языке. В java существуют maven плагины для этих целей:\n",
    "\n",
    "- `protobuf-maven-plugin` генерирует java код на основании файлов в `src/main/proto` директории,\n",
    "- `avro-maven-plugin` генерирует java код на основании файлов в `src/main/avro` директории.\n",
    "\n",
    "Код генерируется перед фазой `compile` (компиляция).\n",
    "\n",
    "Сам сгенерированный код размещается в директории `target/generated-sources` и никогда не должен попадать в git репозиторий:"
   ]
  },
  {
   "cell_type": "code",
   "execution_count": null,
   "id": "7ec6bf7d-6872-4b74-96bd-0b1916874dcc",
   "metadata": {
    "tags": []
   },
   "outputs": [],
   "source": [
    "mvn compile > /tmp/compile.log ;\n",
    "    tail -n 20 /tmp/compile.log"
   ]
  },
  {
   "cell_type": "code",
   "execution_count": null,
   "id": "04091cdc-d09c-45f5-82a0-f6ae178a47e2",
   "metadata": {
    "tags": []
   },
   "outputs": [],
   "source": [
    "execute \\\n",
    "find kafka-java-demo/target/generated-sources -name \"*.java\""
   ]
  },
  {
   "cell_type": "markdown",
   "id": "336e9c9f-d79a-49bc-8d18-7a5ab73ce795",
   "metadata": {},
   "source": [
    "Сгенерированные java классы можно использовать как и любые другие классы в java проекте. Например, подключить их в тесты.\n",
    "\n",
    "Тест `SimpleBinaryTest` использует `CustomerKey.Key` и `Customer` в качестве типовых параметров для `KafkaProducer` и `KafkaConsumer`:"
   ]
  },
  {
   "cell_type": "code",
   "execution_count": null,
   "id": "1bd0e432-31ea-40c0-8ae0-d8626c4c517a",
   "metadata": {
    "tags": []
   },
   "outputs": [],
   "source": [
    "execute \\\n",
    "sed -n '/class.SimpleBinaryTest/,/KafkaConsumer/p' kafka-java-demo/src/test/java/com/github/neshkeev/kafka/SimpleBinaryTest.java"
   ]
  },
  {
   "cell_type": "code",
   "execution_count": null,
   "id": "975b3a0d-739d-4887-9e44-54b654ea0991",
   "metadata": {
    "tags": []
   },
   "outputs": [],
   "source": [
    "mvn test -Dtest=com.github.neshkeev.kafka.SimpleBinaryTest > /tmp/binary-test.log ; \n",
    "    tail -n 40 /tmp/binary-test.log"
   ]
  },
  {
   "cell_type": "markdown",
   "id": "8eb98017-b3ca-475c-a7ec-5c76e4595cc0",
   "metadata": {
    "tags": []
   },
   "source": [
    "## Задание"
   ]
  },
  {
   "cell_type": "markdown",
   "id": "8ee18518-caf3-447e-9637-919d2586e52d",
   "metadata": {},
   "source": [
    "1. Загрузить схему `orders` в Schema Registry через REST API:\n",
    "```bash\n",
    "cat <<EOF > /tmp/orders-value.json\n",
    "{\n",
    "    \"schema\": \"{ \\\n",
    "        \\\"type\\\": \\\"record\\\", \\\n",
    "        \\\"name\\\": \\\"Orders\\\", \\\n",
    "        \\\"namespace\\\": \\\"com.github.neshkeev.kafka.customer.avro\\\", \\\n",
    "        \\\"fields\\\":[ \\\n",
    "            { \\\n",
    "                \\\"name\\\":\\\"id\\\", \\\n",
    "                \\\"type\\\":\\\"string\\\" \\\n",
    "            }, \\\n",
    "            { \\\n",
    "                \\\"name\\\":\\\"name\\\", \\\n",
    "                \\\"type\\\":\\\"string\\\" \\\n",
    "            } \\\n",
    "        ] \\\n",
    "    }\" \\\n",
    "}\n",
    "EOF\n",
    "```\n",
    "2. Скачать схему в java проект (maven);\n",
    "3. Сгенерировать java код;\n",
    "4. Создать топик orders;\n",
    "5. Записать сообщение в формате `ORDERS_SCHEMA`;\n",
    "6. Прочитать сообщение в формате `ORDERS_SCHEMA`;\n",
    "7. Добавить поле `createdDate` в формате `long` (количество миллисекунд с начала эпохи);\n",
    "8. Обновить схему в schema-registry;\n",
    "9. Обновить файл схемы в java проекте;\n",
    "10. Проверить работоспособность схемы."
   ]
  },
  {
   "cell_type": "code",
   "execution_count": null,
   "id": "e53c8b3a-45c5-4a68-82f0-43a109955527",
   "metadata": {},
   "outputs": [],
   "source": []
  }
 ],
 "metadata": {
  "kernelspec": {
   "display_name": "Bash",
   "language": "bash",
   "name": "bash"
  },
  "language_info": {
   "codemirror_mode": "shell",
   "file_extension": ".sh",
   "mimetype": "text/x-sh",
   "name": "bash"
  }
 },
 "nbformat": 4,
 "nbformat_minor": 5
}
