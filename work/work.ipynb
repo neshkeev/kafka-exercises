{
 "cells": [
  {
   "cell_type": "markdown",
   "id": "3e3422c7-b1dd-471e-bccf-68f6e64cb9ca",
   "metadata": {
    "tags": []
   },
   "source": [
    "# Конфигурация Kafka Producer"
   ]
  },
  {
   "cell_type": "markdown",
   "id": "baf6e8fb-e530-495d-990a-821f12d1e7e1",
   "metadata": {
    "tags": []
   },
   "source": [
    "## Подготовка"
   ]
  },
  {
   "cell_type": "markdown",
   "id": "fcc06fba-ac8d-400f-bb98-156186af064b",
   "metadata": {},
   "source": [
    "Создать топик"
   ]
  },
  {
   "cell_type": "code",
   "execution_count": null,
   "id": "0981db2f-8e6b-4603-9b0a-4888621d4ceb",
   "metadata": {
    "tags": []
   },
   "outputs": [],
   "source": [
    "kafka-topics --bootstrap-server \"$KAFKA_HOST\":\"$KAFKA_PORT\" \\\n",
    "    --topic my-producer-demo-topic \\\n",
    "    --create \\\n",
    "    --partitions 2 \\\n",
    "    --replication-factor 3"
   ]
  },
  {
   "cell_type": "markdown",
   "id": "422cd2d1-27af-47b2-94e4-fbdbfcf0a807",
   "metadata": {
    "tags": []
   },
   "source": [
    "Проверить, что топик доступен:"
   ]
  },
  {
   "cell_type": "code",
   "execution_count": null,
   "id": "6db8fe97-7bad-4365-8a6b-81b098171c47",
   "metadata": {
    "tags": []
   },
   "outputs": [],
   "source": [
    "kafka-topics --bootstrap-server \"$KAFKA_HOST\":\"$KAFKA_PORT\" \\\n",
    "    --topic my-producer-demo-topic \\\n",
    "    --describe"
   ]
  },
  {
   "cell_type": "code",
   "execution_count": null,
   "id": "b8e7a84c-97df-4d74-8d65-8d176ea02530",
   "metadata": {
    "tags": []
   },
   "outputs": [],
   "source": [
    "zookeeper-shell $ZOOKEEPER_HOST:$ZOOKEEPER_PORT \\\n",
    "    get /brokers/topics/my-producer-demo-topic |\n",
    "  tail -n 1 | json_pp"
   ]
  },
  {
   "cell_type": "code",
   "execution_count": null,
   "id": "49e2c58f-9e39-49d0-80a8-043ae69ac6c8",
   "metadata": {
    "tags": []
   },
   "outputs": [],
   "source": [
    "curl -Ls http://redpanda:8080/api/topics/my-producer-demo-topic/partitions | json_pp"
   ]
  },
  {
   "cell_type": "markdown",
   "id": "2281c1ec-ec06-450a-b38a-c5ab05d517b7",
   "metadata": {
    "tags": []
   },
   "source": [
    "## Настройка продюсера"
   ]
  },
  {
   "cell_type": "markdown",
   "id": "7e723f27-4106-491e-bc08-a85dca104339",
   "metadata": {
    "tags": []
   },
   "source": [
    "### Общая информация"
   ]
  },
  {
   "cell_type": "markdown",
   "id": "564bd6ad-8af5-4844-9def-b926f1ddc6ae",
   "metadata": {
    "tags": []
   },
   "source": [
    "Основная конфигурация продюсера включает в себя использование следующих настроек (*):\n",
    "\n",
    "| Имя | Описание | Значение по умолчанию | Допустимые значения |\n",
    "|-----|----------|-------------|----|\n",
    "| [`client.id`](https://docs.confluent.io/platform/current/installation/configuration/producer-configs.html#client-id) | метка продюсера, чтобы можно было отследить из какого источника пришли данные | пустая строка | строки |\n",
    "| [`retries`](https://docs.confluent.io/platform/current/installation/configuration/producer-configs.html#retries) | Сколько раз повторять отправку батча в Kafka, прежде чем сообщить клиенту о неудаче | MAX_INT | Целые числа >= 0 |\n",
    "| [`acks`](https://docs.confluent.io/platform/current/installation/configuration/producer-configs.html#acks) | Сколько реплик должно подтвердить запись сообщения, прежде чем брокер ответит клиенту, что сообщения записались | all (-1) | all, 1, 0, -1 |\n",
    "| [`batch.size`](https://docs.confluent.io/platform/current/installation/configuration/producer-configs.html#batch.size) | Максимальный размер батча в байтах, который можно отправить в одном запросе на запись к брокеру | 16384 | Целые числа >= 0 |\n",
    "| [`linger.ms`](https://docs.confluent.io/platform/current/installation/configuration/producer-configs.html#linger.ms) | Сколько времени можно тратить на формирование одного батча на стороне клиента | 0 | Целые числа >= 0 |\n",
    "| [`enable.idempotence`](https://docs.confluent.io/platform/current/installation/configuration/producer-configs.html#enable-idempotence) | Если установлено в true, то брокер убедится, что только одна копия данных будет записана не смотря на возможные сбои | true | true, false |\n",
    "| [`max.in.flight.requests.per.connection`](https://docs.confluent.io/platform/current/installation/configuration/producer-configs.html#max-in-flight-requests-per-connection) | Сколько батчей продюсер может отправить без не дожидаясь подтверждения доставки. Если `max.in.flight.requests.per.connection` > 0 и `retries` > 0 и `enable.idempotence == false`, то возможно нарушение порядка сообщений | 5 ||\n",
    "\n",
    "(*) Настроек [на много больше](https://docs.confluent.io/platform/current/installation/configuration/producer-configs.html), но на практике наиболее часто используют только перечисленные"
   ]
  },
  {
   "cell_type": "markdown",
   "id": "60a39332-9a64-4e1c-87b7-e08c95640074",
   "metadata": {
    "tags": []
   },
   "source": [
    "### Функция для работы с продюсером"
   ]
  },
  {
   "cell_type": "markdown",
   "id": "b0eaa562-8665-4380-9b5c-903610ddc0e3",
   "metadata": {
    "tags": []
   },
   "source": [
    "Функция `kafka_producer` определена для исключения дублирования кода:"
   ]
  },
  {
   "cell_type": "code",
   "execution_count": null,
   "id": "0f6e3633-9337-4167-8f37-8f0a4e77aff1",
   "metadata": {
    "tags": []
   },
   "outputs": [],
   "source": [
    "function kafka_producer() {\n",
    "    local config_file=\"${1:-/tmp/producer.cfg}\"\n",
    "    \n",
    "    local HOST=kafka1\n",
    "\n",
    "    execute \"[ -f ${config_file} ]\" || {\n",
    "        echo \"[WARN] No '${config_file}' file found. An empty one will be created\" >&2\n",
    "        execute touch \"${config_file}\"\n",
    "    }\n",
    "    \n",
    "    kafka-console-producer \\\n",
    "      --bootstrap-server \"$KAFKA_HOST\":\"$KAFKA_PORT\" \\\n",
    "      --topic my-producer-demo-topic \\\n",
    "      --property \"parse.key=true\" \\\n",
    "      --property \"key.separator=:\" \\\n",
    "      --producer.config ${config_file} \\\n",
    "<<EOF\n",
    "0:The Shawshank Redemption, 1994\n",
    "0:God Father, 1972\n",
    "0:The Dark Knight, 2008\n",
    "0:The Godfather Part II, 1974\n",
    "0:12 Angry Men, 1957\n",
    "1:Schindler's List, 1993\n",
    "1:The Lord of the Rings: The Return of the King, 2003\n",
    "1:Pulp Fiction, 1994\n",
    "1:The Lord of the Rings: The Fellowship of the Ring, 2001\n",
    "1:The Good, the Bad and the Ugly, 1966\n",
    "EOF\n",
    "}"
   ]
  },
  {
   "cell_type": "markdown",
   "id": "3c25c737-a76d-4715-b442-00cde2e35892",
   "metadata": {},
   "source": [
    "Функиця `check_offset` позволит посмотреть оффсеты в партициях топика:"
   ]
  },
  {
   "cell_type": "code",
   "execution_count": null,
   "id": "a685a969-e50e-42da-8bad-6ef2d93da330",
   "metadata": {
    "tags": []
   },
   "outputs": [],
   "source": [
    "function check_offset() {\n",
    "    local topic=${1:-my-producer-demo-topic}\n",
    "\n",
    "    kafka-run-class kafka.tools.GetOffsetShell \\\n",
    "        --broker-list $KAFKA_HOST:$KAFKA_PORT \\\n",
    "        --topic ${topic} \\\n",
    "        --time -1\n",
    "}"
   ]
  },
  {
   "cell_type": "markdown",
   "id": "1c638b79-1a2d-4a83-9f16-98cfb19c5a9c",
   "metadata": {
    "tags": []
   },
   "source": [
    "### Запуск продюсера с настройками по умолчанию"
   ]
  },
  {
   "cell_type": "markdown",
   "id": "b6619eb6-0e09-4b8a-ab87-3428a3fcba3a",
   "metadata": {},
   "source": [
    "Для `kafka-console-producer` настройками по умолчанию являются:\n",
    "- `retries == MAX_INT`\n",
    "- `acks == all`\n",
    "\n",
    "Так можно заключить, что при использовании настроек по умолчанию клиент будет повторять запись одного и того же батча до тех пор, пока все реплики не ответят, что данные были записаны"
   ]
  },
  {
   "cell_type": "code",
   "execution_count": null,
   "id": "cbd9e6c7-11dc-471b-94bd-2c385f69ac6a",
   "metadata": {
    "tags": []
   },
   "outputs": [],
   "source": [
    "check_offset"
   ]
  },
  {
   "cell_type": "code",
   "execution_count": null,
   "id": "c7a7086f-a287-431c-9b55-4a3bbabfb01d",
   "metadata": {
    "tags": []
   },
   "outputs": [],
   "source": [
    "kafka_producer"
   ]
  },
  {
   "cell_type": "code",
   "execution_count": null,
   "id": "974bf654-973b-4580-b4b5-10b0deaeb5c7",
   "metadata": {
    "tags": []
   },
   "outputs": [],
   "source": [
    "check_offset"
   ]
  },
  {
   "cell_type": "markdown",
   "id": "0453c5e9-5a35-4a9b-b351-30fb2d66b05a",
   "metadata": {
    "tags": []
   },
   "source": [
    "### At-Most-Once продюссер"
   ]
  },
  {
   "cell_type": "code",
   "execution_count": null,
   "id": "b36a7c91-9438-477f-9011-ccb301eb8d1b",
   "metadata": {
    "tags": []
   },
   "outputs": [],
   "source": [
    "cat <<EOF | HOST=kafka1 new_file /tmp/producer.at-least-once.cfg\n",
    "acks=1\n",
    "retries=0\n",
    "EOF"
   ]
  },
  {
   "cell_type": "code",
   "execution_count": null,
   "id": "5164af2a-1887-472a-a3d4-f90ad2831cb5",
   "metadata": {
    "tags": []
   },
   "outputs": [],
   "source": [
    "HOST=kafka1 execute \\\n",
    "cat /tmp/producer.at-least-once.cfg"
   ]
  },
  {
   "cell_type": "code",
   "execution_count": null,
   "id": "2d66135d-8444-4145-be59-6faa1a406c1d",
   "metadata": {
    "tags": []
   },
   "outputs": [],
   "source": [
    "check_offset"
   ]
  },
  {
   "cell_type": "code",
   "execution_count": null,
   "id": "40136995-6547-48b0-a45c-1d897b675ada",
   "metadata": {
    "tags": []
   },
   "outputs": [],
   "source": [
    "kafka_producer /tmp/producer.at-least-once.cfg"
   ]
  },
  {
   "cell_type": "code",
   "execution_count": null,
   "id": "0349d20e-3bd7-49fa-b40f-807635b9fa39",
   "metadata": {
    "tags": []
   },
   "outputs": [],
   "source": [
    "check_offset"
   ]
  },
  {
   "cell_type": "markdown",
   "id": "07ad04cf-f607-4923-86e8-ce30a1af33f0",
   "metadata": {
    "tags": []
   },
   "source": [
    "### Задание"
   ]
  },
  {
   "cell_type": "markdown",
   "id": "a443b9db-9eec-43ac-ab5e-60eefb9e37c4",
   "metadata": {
    "tags": []
   },
   "source": [
    "1. Отправить сообщения в Kafka в `At-Least-Once` семантике\n",
    "1. Придумать новую конфигурацию для `At-Most-Once` семантики"
   ]
  },
  {
   "cell_type": "markdown",
   "id": "b2a051c3-86e5-4b2e-9da0-8d70a7d312df",
   "metadata": {
    "tags": []
   },
   "source": [
    "## Работа продюссера при сбоях кластера"
   ]
  },
  {
   "cell_type": "markdown",
   "id": "03c7d4bc-99a3-487c-bec2-c1112aa9ad28",
   "metadata": {},
   "source": [
    "Архитектура Apache Kafka реализована по шаблону Leader-Follower: все запросы на запись и чтение выполняются через Leader реплику. Follower реплики поддерживают полную копию данных лидера. В случае, если сервер, на котором находится Leader реплика выходит из строя, то Apache Kafka автоматически находит нового лидера и обеспечивает требуемое количество Follower реплик на других серверах."
   ]
  },
  {
   "cell_type": "markdown",
   "id": "2933bfff-4999-4726-90a6-c0195aa95c47",
   "metadata": {
    "tags": []
   },
   "source": [
    "### Настройка min.insync.replicas"
   ]
  },
  {
   "cell_type": "markdown",
   "id": "bba7efe9-110d-4ca8-8591-75f7e64e2008",
   "metadata": {},
   "source": [
    "При создании топика `my-producer-demo-topic` явно были указаны следующие параметры:\n",
    "\n",
    "- количество реплик (сколько раз дублировать данные в кластере): 3\n",
    "- количество партиций: 2\n",
    "\n",
    "Дополнительно, топик наследует конфигурацию Kafka кластера по умолчанию. Полный список конфигов можно посмотреть через команду `kafka-configs` или через [web интерфейс](http://localhost:8080/topics/my-producer-demo-topic#configuration). На данный момент интересует лишь один конфиг: `min.insync.replicas`.\n",
    "\n",
    "Настройка `min.insync.replicas` позволяет дополнительно со стороны Kafka кластера указать сколько реплик должны ответить \"OK\" на каждый запрос от продюссера с `acks=ALL`. Это позволяет еще лучше защитить данные в кластере на случай сбоя. Настройку `min.insync.replicas` можно указывать как на уровне всего кластера, и все топики будут наследовать ее, либо можно настроить ее на уровне топика.\n",
    "\n",
    "Команда `kafka-configs` позволяет посмотреть значения настроек различных сущностей кластера, в том числе и топиков:"
   ]
  },
  {
   "cell_type": "code",
   "execution_count": null,
   "id": "2b74c21d-0231-44ad-a398-7200cf94da7d",
   "metadata": {
    "tags": []
   },
   "outputs": [],
   "source": [
    "kafka-configs --bootstrap-server \"$KAFKA_HOST\":\"$KAFKA_PORT\" \\\n",
    "    --describe \\\n",
    "    --all \\\n",
    "    --entity-name my-producer-demo-topic \\\n",
    "    --entity-type topics |\n",
    "  grep min.insync.replicas"
   ]
  },
  {
   "cell_type": "markdown",
   "id": "4dd996a4-2f3d-4e18-b602-a65d100112a5",
   "metadata": {
    "tags": []
   },
   "source": [
    "При создании топика `my-producer-demo-topic` нигде явно не было указано, что его конфиг `min.insync.replicas` должен быть равен единице, а значит он унаследовал значение `min.insync.replicas=1` всего кластера.\n",
    "Это значение можно изменить на уровне топика:"
   ]
  },
  {
   "cell_type": "code",
   "execution_count": null,
   "id": "1646c97c-2837-498f-b972-c9f3ff6ff649",
   "metadata": {
    "tags": []
   },
   "outputs": [],
   "source": [
    "kafka-configs --bootstrap-server \"${KAFKA_HOST}\":\"${KAFKA_PORT}\" \\\n",
    "    --alter \\\n",
    "    --entity-type topics \\\n",
    "    --entity-name my-producer-demo-topic \\\n",
    "    --add-config min.insync.replicas=3"
   ]
  },
  {
   "cell_type": "markdown",
   "id": "7fbd74b8-e365-43a1-878f-424cab4ba646",
   "metadata": {
    "tags": []
   },
   "source": [
    "Новое значение `min.insync.replicas` топика `my-producer-demo-topic` равно `3`, значит при записи брокер должен записать данные во все 3 реплики при запросе `acks=ALL`:"
   ]
  },
  {
   "cell_type": "code",
   "execution_count": null,
   "id": "cf55b5b6-5161-4be0-bebd-0d579437c39a",
   "metadata": {
    "tags": []
   },
   "outputs": [],
   "source": [
    "kafka-configs --bootstrap-server \"$KAFKA_HOST\":\"$KAFKA_PORT\" \\\n",
    "    --describe \\\n",
    "    --all \\\n",
    "    --entity-name my-producer-demo-topic \\\n",
    "    --entity-type topics |\n",
    "  grep min.insync.replicas"
   ]
  },
  {
   "cell_type": "code",
   "execution_count": null,
   "id": "33802c92-adb2-4bcb-b2bf-6a0f416e541e",
   "metadata": {
    "tags": []
   },
   "outputs": [],
   "source": [
    "HOST=kafka1 new_file \\\n",
    "/tmp/producer.acks-3.cfg <<EOF\n",
    "acks=all\n",
    "EOF"
   ]
  },
  {
   "cell_type": "code",
   "execution_count": null,
   "id": "940e7bdd-7bdb-4a73-a7b4-5accabaac21c",
   "metadata": {
    "tags": []
   },
   "outputs": [],
   "source": [
    "HOST=kafka1 execute \\\n",
    "cat /tmp/producer.acks-3.cfg"
   ]
  },
  {
   "cell_type": "code",
   "execution_count": null,
   "id": "b82654bd-a2b1-4c3f-a864-189f5780f919",
   "metadata": {
    "tags": []
   },
   "outputs": [],
   "source": [
    "check_offset\n",
    "kafka_producer /tmp/producer.acks-3.cfg\n",
    "check_offset"
   ]
  },
  {
   "cell_type": "markdown",
   "id": "e6ea2f8b-75e5-484d-99b4-2f4e495c545f",
   "metadata": {},
   "source": [
    "На данный момент кластер состоит из трех брокеров (по одному docker сервису на каждого) и одного zookeeper. Симуляцией сбоя будет временная остановка одного из docker контейнеров, для этого необходимо выполнить `docker compose pause kafka3`:"
   ]
  },
  {
   "cell_type": "code",
   "execution_count": null,
   "id": "7a1fbb80-715e-4836-bcbf-eae5707f2171",
   "metadata": {
    "tags": []
   },
   "outputs": [],
   "source": [
    "docker compose pause kafka3\n",
    "docker compose ps kafka3"
   ]
  },
  {
   "cell_type": "markdown",
   "id": "51755eba-d038-4a9a-9c5d-b3abb3103f2c",
   "metadata": {},
   "source": [
    "Дополнительная проверка, что broker недоступен:"
   ]
  },
  {
   "cell_type": "code",
   "execution_count": null,
   "id": "b45bcd0f-530b-4c7d-9d28-73a3bc7a5f1d",
   "metadata": {
    "tags": []
   },
   "outputs": [],
   "source": [
    "zookeeper-shell $ZOOKEEPER_HOST:$ZOOKEEPER_PORT ls /brokers/ids |\n",
    "    grep -q '\\[1, 2\\]' || {\n",
    "        echo 'Пожалуйста, выполните `docker compose pause kafka3` в терминале'\n",
    "        false\n",
    "    }"
   ]
  },
  {
   "cell_type": "code",
   "execution_count": null,
   "id": "4c9ba04e-ebfb-4875-9fb7-c02b5af67bc4",
   "metadata": {
    "tags": []
   },
   "outputs": [],
   "source": [
    "check_offset\n",
    "kafka_producer /tmp/producer.acks-3.cfg\n",
    "check_offset"
   ]
  },
  {
   "cell_type": "markdown",
   "id": "3a23521a-caa8-478a-8999-1f1c190318f3",
   "metadata": {},
   "source": [
    "Можно заметить, что запись не выполнилась по причине того, что один из брокеров был недоступен, а поэтому количество `acks=all` было невозможно обеспечить"
   ]
  },
  {
   "cell_type": "markdown",
   "id": "8a44dc6b-abf6-4e13-80f4-3b0073c501d9",
   "metadata": {
    "tags": []
   },
   "source": [
    "Одним из решений проблемы может быть установка `acks=1` на продюсере:"
   ]
  },
  {
   "cell_type": "code",
   "execution_count": null,
   "id": "7349ca83-024f-4810-967a-641349ec9949",
   "metadata": {
    "tags": []
   },
   "outputs": [],
   "source": [
    "HOST=kafka1\n",
    "\n",
    "new_file /tmp/producer.acks-1.cfg <<EOF\n",
    "acks=1\n",
    "EOF\n",
    "\n",
    "execute \\\n",
    "cat /tmp/producer.acks-1.cfg"
   ]
  },
  {
   "cell_type": "code",
   "execution_count": null,
   "id": "aa6f056a-403c-4f92-95ff-9b2d1bfe04ba",
   "metadata": {
    "tags": []
   },
   "outputs": [],
   "source": [
    "check_offset\n",
    "kafka_producer /tmp/producer.acks-1.cfg\n",
    "check_offset"
   ]
  },
  {
   "cell_type": "markdown",
   "id": "a715dcd2-5c29-4a21-8c0b-95c02f3878d5",
   "metadata": {
    "tags": []
   },
   "source": [
    "Запись выполнилась успешно, т.к. клиент указал, что ему необходимо получить подтверждение только от лидера (`acks=1`)."
   ]
  },
  {
   "cell_type": "markdown",
   "id": "5244c922-9f90-45aa-8692-85f20d9f998a",
   "metadata": {},
   "source": [
    "Но управлять конфигурацией продюсера не всегда возможно, а поэтому в качестве второго решния решения, можно снизить количество `min.insync.replicas` до двух, и тогда запись выполнится успешно:"
   ]
  },
  {
   "cell_type": "code",
   "execution_count": null,
   "id": "f1e4f6a7-be58-439c-bb4a-9524b78b3e0c",
   "metadata": {
    "tags": []
   },
   "outputs": [],
   "source": [
    "kafka-configs --bootstrap-server \"${KAFKA_HOST}\":\"${KAFKA_PORT}\" \\\n",
    "    --alter \\\n",
    "    --entity-name my-producer-demo-topic \\\n",
    "    --entity-type topics \\\n",
    "    --add-config min.insync.replicas=2"
   ]
  },
  {
   "cell_type": "code",
   "execution_count": null,
   "id": "ad7a3dc8-80d1-4885-8259-1e3274894097",
   "metadata": {
    "tags": []
   },
   "outputs": [],
   "source": [
    "HOST=kafka1 execute \\\n",
    "cat /tmp/producer.acks-3.cfg\n",
    "\n",
    "check_offset\n",
    "kafka_producer /tmp/producer.acks-3.cfg\n",
    "check_offset"
   ]
  },
  {
   "cell_type": "markdown",
   "id": "132fca88-08bd-4084-b3ec-638160fd0b35",
   "metadata": {},
   "source": [
    "Установка значения `min.insync.replicas` на единицу меньше (`--replication-factor - 1`), чем количество реплик топика является хорошей практикой, которая была получена опытным путем. Это не более чем общая рекомендация, на практике каждая ситуация является уникальной, поэтому необходимо осознанно подходить к организации хранения данных"
   ]
  },
  {
   "cell_type": "markdown",
   "id": "70b8e3d1-81db-4b17-8271-e5b9c5ed2f0c",
   "metadata": {},
   "source": [
    "На данный момент брокер `kafka3` все еще недоступен, поэтому если попробовать выполнить запись с опцией `acks=all`, где `all` - это значение `--replication-factor` топика, то запись все равно будет успешной: брокер ответит клиенту, что запись успешна, т.к. он смог получить подтверждение от `min.insync.replicas` реплик, что данные записаны. В этом случае Kafka кластер полагается на то, что администратор знает об этой особенности кластера, и поэтому настроил топик таким образом:"
   ]
  },
  {
   "cell_type": "code",
   "execution_count": null,
   "id": "2ca0c809-2576-466b-998e-df379a328941",
   "metadata": {
    "tags": []
   },
   "outputs": [],
   "source": [
    "HOST=kafka1 execute \\\n",
    "cat /tmp/producer.acks-3.cfg\n",
    "\n",
    "check_offset\n",
    "kafka_producer /tmp/producer.acks-3.cfg\n",
    "check_offset"
   ]
  },
  {
   "cell_type": "markdown",
   "id": "004caccb-87cd-4c64-b107-b99805e6d360",
   "metadata": {},
   "source": [
    "Прежде чем продолжить необходимо восстановить `kafka3`:"
   ]
  },
  {
   "cell_type": "code",
   "execution_count": null,
   "id": "2b1392d2-c743-451f-8cd2-84793be748d5",
   "metadata": {},
   "outputs": [],
   "source": [
    "docker compose unpause kafka3"
   ]
  },
  {
   "cell_type": "markdown",
   "id": "94c11399-9c4f-45c7-a595-e1fc7ec97391",
   "metadata": {},
   "source": [
    "Дополнительная проверка, что брокер вернулся:"
   ]
  },
  {
   "cell_type": "code",
   "execution_count": null,
   "id": "ae266085-371e-465d-8943-09284174054f",
   "metadata": {
    "tags": []
   },
   "outputs": [],
   "source": [
    "zookeeper-shell $ZOOKEEPER_HOST:$ZOOKEEPER_PORT ls /brokers/ids |\n",
    "    grep -q '\\[1, 2, 3\\]' || {\n",
    "        echo 'Пожалуйста, выполните `docker compose unpause kafka3` в терминале'\n",
    "        false\n",
    "    }"
   ]
  },
  {
   "cell_type": "markdown",
   "id": "9c8a02c8-6aca-4cf7-b463-4acfed077458",
   "metadata": {
    "tags": []
   },
   "source": [
    "## Настройка производительности"
   ]
  },
  {
   "cell_type": "markdown",
   "id": "e6515c26-0937-4ceb-8ac4-aec253f6d8fd",
   "metadata": {},
   "source": [
    "Продюсер отправлят данные в Kafka батчами, Так оптимизация продюсера обычно включает в себя настройку двух параметров `linger.ms`, `batch.size`.\n",
    "\n",
    "Батч отправляется в Kafka при наступлении одного из двух условий:\n",
    "\n",
    "- Время `linger.ms` на формирование батча закончилось\n",
    "- Батч превышает размер `batch.size`\n",
    "\n",
    "Так, уменьшая значение `linger.ms`, остается меньше времени на наполнение батча, а значит больше батчей будет отправлено в Kafka. C другой стороны увеличение значение `linger.ms` ведет к увеличению времени на обработку одной записи."
   ]
  },
  {
   "cell_type": "markdown",
   "id": "74257f4e-13da-466b-836c-5080dad7b797",
   "metadata": {
    "tags": []
   },
   "source": [
    "### Функция для замеров производительности"
   ]
  },
  {
   "cell_type": "markdown",
   "id": "821be51d-7f79-4047-9d59-ee0a16adbdfd",
   "metadata": {
    "tags": []
   },
   "source": [
    "### Тестирование производительности"
   ]
  },
  {
   "cell_type": "markdown",
   "id": "5338e0b6-e604-4419-bb8d-fd710e6f9714",
   "metadata": {},
   "source": [
    "Утилита `kafka-producer-perf-test` позволяет протестировать производительность продюсера."
   ]
  },
  {
   "cell_type": "markdown",
   "id": "8bfb6df5-b45a-46ef-a3d7-a3d30a6a7358",
   "metadata": {},
   "source": [
    "Базовая конфигурация включает в себя следующие настройки и их значения по умолчанию:\n",
    "\n",
    "| Имя | Параметр | Значение |\n",
    "|---------------|---|-------------|\n",
    "| Количество сообщений | `--num-records` | 3000 |\n",
    "| Размер одного сообщения | `--record-size` | 1000 байт (1КБ) |\n",
    "| Скорость | `--throughput` | 200 сообщений в секунду |\n",
    "| Время на формирование батча | `linger.ms` | 0 мс (отправлять сразу) |\n",
    "| Размер батча | `batch.size` | 16384 байт (16КБ) |"
   ]
  },
  {
   "cell_type": "code",
   "execution_count": null,
   "id": "8db736c7-f9b9-498d-869a-f94a398c11ed",
   "metadata": {
    "tags": []
   },
   "outputs": [],
   "source": [
    "function producer_perf_test() {\n",
    "  local linger=${1:-0}\n",
    "  local batch_size=${2:-16384}\n",
    "\n",
    "  kafka-producer-perf-test \\\n",
    "    --throughput 200 \\\n",
    "    --record-size 1000 \\\n",
    "    --num-records 3000 \\\n",
    "    --topic perf-test-topic \\\n",
    "    --producer-props linger.ms=${linger} batch.size=${batch_size} bootstrap.servers=$KAFKA_HOST:$KAFKA_PORT \\\n",
    "    --print-metrics | grep \\\n",
    "\"3000 records sent\\|\\\n",
    "producer-metrics:outgoing-byte-rate\\|\\\n",
    "producer-metrics:bufferpool-wait-ratio\\|\\\n",
    "producer-metrics:record-queue-time-avg\\|\\\n",
    "producer-metrics:request-latency-avg\\|\\\n",
    "producer-metrics:batch-size-avg\"\n",
    "}"
   ]
  },
  {
   "cell_type": "markdown",
   "id": "50f0daac-e3b9-43b6-9f8b-5bf8d50f4bd8",
   "metadata": {
    "tags": []
   },
   "source": [
    "### Точка осчёта (baseline)"
   ]
  },
  {
   "cell_type": "code",
   "execution_count": null,
   "id": "4f554579-9b69-4909-9342-651e1e16cf95",
   "metadata": {
    "tags": []
   },
   "outputs": [],
   "source": [
    "producer_perf_test"
   ]
  },
  {
   "cell_type": "markdown",
   "id": "c80d0bbd-f567-4b9e-ab5d-55a053092d73",
   "metadata": {
    "tags": []
   },
   "source": [
    "#### Выводы"
   ]
  },
  {
   "cell_type": "markdown",
   "id": "5cb1b755-10d3-4c3d-8257-ccb79b8b7ac7",
   "metadata": {
    "tags": []
   },
   "source": [
    "В примере выше можно наблюдать:\n",
    "- Cредний размер батча `1163.331` байт (1КБ). Значение в 16 раз ниже, чем ожидаемый размер батча (16КБ). Размер одного сообщения 1КБ, а время ожидания на формирование батча (`linger.ms`) равно 0, то можно отметить, что клиент отправлял сообщения в kafka как только они появлялись (каждый батч содержал только одно сообщение);\n",
    "- Значение `bufferpool-wait-ratio` равно 0, что сигнализирует о том, что отправка батчей не ждет ответа от предыдущих запросов, следовательно, Kafka брокеры способны обрабатывать запросы на столько быстро, на сколько быстро клиент отправляет их (!);\n",
    "- Значения `outgoing-byte-rate` и `request-latency-avg` показывают пропускную способность (throughput) брокера и время на обработку одного запроса (latency) брокером\n",
    "- Значение `record-queue-time-avg` показывает сколько времени сообщения находились в батче, прежде чем были отправлены в Kafka"
   ]
  },
  {
   "cell_type": "markdown",
   "id": "b957f871-1f56-4060-9848-7ad613f644a9",
   "metadata": {
    "tags": []
   },
   "source": [
    "### Увеличение `linger.ms`"
   ]
  },
  {
   "cell_type": "markdown",
   "id": "0a2b8f74-f69b-4d65-8994-7bd41fa4db2e",
   "metadata": {},
   "source": [
    "Увеличение `linger.ms` устанавливает время на формирование батча, следовательно, один батч будет содержать больше одного сообщения, а значит будет меньше обращения к брокеру по сети:"
   ]
  },
  {
   "cell_type": "code",
   "execution_count": null,
   "id": "4ecb5d36-7db1-4741-b5bd-fce0471a8d55",
   "metadata": {
    "tags": []
   },
   "outputs": [],
   "source": [
    "producer_perf_test 100"
   ]
  },
  {
   "cell_type": "markdown",
   "id": "cae11236-dd6b-4ad4-8906-ec624234a947",
   "metadata": {
    "tags": []
   },
   "source": [
    "#### Выводы"
   ]
  },
  {
   "cell_type": "markdown",
   "id": "1e195666-f3b0-4c28-9b13-5a8e6e8001db",
   "metadata": {},
   "source": [
    "После увеличения значения `linger.ms` первое что можно заметить - это увеличение размера батча, которое тем не менее все еще ниже указанного значения `batch.size`.\n",
    "\n",
    "Следовательно, батч не успевал заполниться до конца, а время `linger.ms` заканчивалось, что вынуждало клиента отправлять неполный батч в брокер.\n",
    "\n",
    "**Важно**: можно так же заметить, что throughput (`outgoing-byte-rate`) снизился, а latency увеличился (`request-latency-avg`).\n",
    "\n",
    "**Таким образом,** указанная конфигурация хуже, чем `baseline`"
   ]
  },
  {
   "cell_type": "markdown",
   "id": "acb1be00-1989-4a20-b429-40e43a4cdb94",
   "metadata": {
    "tags": []
   },
   "source": [
    "### Увеличение `linger.ms` и `batch.size`"
   ]
  },
  {
   "cell_type": "code",
   "execution_count": null,
   "id": "f37e9548-9eab-4c79-b3a4-5a618aeec184",
   "metadata": {
    "tags": []
   },
   "outputs": [],
   "source": [
    "producer_perf_test 100 300000"
   ]
  },
  {
   "cell_type": "markdown",
   "id": "69dcb655-68b7-4d92-98a6-9684099f3b0b",
   "metadata": {
    "tags": []
   },
   "source": [
    "#### Выводы"
   ]
  },
  {
   "cell_type": "markdown",
   "id": "e27c2c97-7218-4d66-a804-60cf1deebed5",
   "metadata": {
    "tags": []
   },
   "source": [
    "- Средний размер батча увеличился на ~25%\n",
    "- Средний размер батча все еще ниже указанного значения, значит батчи все еще отправляются неполными\n",
    "- Пропускная способность снижается, а время на обработку одной записи увеличивается\n",
    "\n",
    "**Таким образом**, настройки все еще хуже baseline"
   ]
  },
  {
   "cell_type": "markdown",
   "id": "1bde2bd1-f589-495d-a64e-964eedffdfae",
   "metadata": {
    "tags": []
   },
   "source": [
    "### Увеличение времени формирования батча `linger.ms`"
   ]
  },
  {
   "cell_type": "markdown",
   "id": "645d0ba1-fb2f-4962-b248-be4f7e77ea20",
   "metadata": {},
   "source": [
    "В двух предыдущих попытках оптимизации было видно, что батчи отправляются неполными, что ведет к избыточному числу обращений к брокеру. Очевидным решением полностью заполнить батч - это увеличение времени на формирование батча (`linger.ms`):"
   ]
  },
  {
   "cell_type": "code",
   "execution_count": null,
   "id": "31168f9b-8410-46f0-8155-2534f943d8bc",
   "metadata": {
    "tags": []
   },
   "outputs": [],
   "source": [
    "producer_perf_test 1500 300000"
   ]
  },
  {
   "cell_type": "markdown",
   "id": "bed52381-9de2-4ebf-bdc5-3d7bfa92e82e",
   "metadata": {
    "tags": []
   },
   "source": [
    "#### Выводы"
   ]
  },
  {
   "cell_type": "markdown",
   "id": "3690fec9-ff4c-424a-90a0-2c6910050940",
   "metadata": {},
   "source": [
    "- средний размер батча близок к ожидаемому значению\n",
    "- пропускная способность (throughput) ниже baseline\n",
    "- время на обработку одной записи (latency) выше baseline"
   ]
  },
  {
   "cell_type": "markdown",
   "id": "c33fe005-4573-4939-8780-27f403a81f44",
   "metadata": {},
   "source": [
    "### Вывод"
   ]
  },
  {
   "cell_type": "markdown",
   "id": "7e6546d3-af95-4385-9f41-1450f356a415",
   "metadata": {},
   "source": [
    "| Метрика | linger.ms=0; batch.size=16384 | linger.ms=100; batch.size=16384 | linger.ms=100; batch.size=300000 | linger.ms=1500; batch.size=300000 |\n",
    "|-----|------|------|------|------|\n",
    "| Средний размер батча (batch-size-avg) | 1215.030 | 16164.670 | 23720.164 | 275700.182 |\n",
    "| Пропускная способность (outgoing-byte-rate) | 75594.490 | 68866.596 | 68720.642 | 68246.401 |\n",
    "| Среднее время сообщения в батче (record-queue-time-avg) | 4.229 | 95.457 | 109.070 | 1406.273 |\n",
    "| Время на обработку одного сообщения (request-latency-avg) | 43.292 | 53.649 | 63.836 | 226.091 |"
   ]
  },
  {
   "cell_type": "markdown",
   "id": "98ac14f4-c382-42ea-b6ed-07df2d274fac",
   "metadata": {
    "tags": []
   },
   "source": [
    "Таким образом, **значения конфигов по умолчанию** для приложения, которое отправляет 200 сообщений в секунду, при размере одного сообщения 1000 байт, являются наиболее оптимальными"
   ]
  },
  {
   "cell_type": "markdown",
   "id": "810e065f-ddfa-41e2-a133-46f04c8a45f5",
   "metadata": {
    "tags": []
   },
   "source": [
    "### Задание"
   ]
  },
  {
   "cell_type": "markdown",
   "id": "fe2d09ae-a233-4584-bd05-3ee7a1f2a17f",
   "metadata": {
    "tags": []
   },
   "source": [
    "1. Что произойдет, если установить `--throughput -1`?\n",
    "1. Что произойдет, если увеличить количество сообщений?\n",
    "1. Получить наиболее оптимальные значения `linger.ms`, `batch.size` для функционирования системы в следующих условиях\n",
    "\n",
    "Входные данные:\n",
    "| Имя | Значение |\n",
    "|-----|------|\n",
    "| Размер сообщения | 512 байт |\n",
    "| Пропускная способность | 100 сообщений в секунду |"
   ]
  },
  {
   "cell_type": "code",
   "execution_count": null,
   "id": "d2e62d54-d8c1-4d68-a1b0-2f9af6c3de92",
   "metadata": {},
   "outputs": [],
   "source": []
  }
 ],
 "metadata": {
  "kernelspec": {
   "display_name": "Bash",
   "language": "bash",
   "name": "bash"
  },
  "language_info": {
   "codemirror_mode": "shell",
   "file_extension": ".sh",
   "mimetype": "text/x-sh",
   "name": "bash"
  }
 },
 "nbformat": 4,
 "nbformat_minor": 5
}
