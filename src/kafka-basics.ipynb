{
 "cells": [
  {
   "cell_type": "markdown",
   "id": "3e3422c7-b1dd-471e-bccf-68f6e64cb9ca",
   "metadata": {
    "tags": []
   },
   "source": [
    "# Инструменты для работы с Kafka"
   ]
  },
  {
   "cell_type": "markdown",
   "id": "e671a35a-5913-4de6-a111-4b33ab4abf39",
   "metadata": {
    "tags": []
   },
   "source": [
    "## Подготовка"
   ]
  },
  {
   "cell_type": "markdown",
   "id": "ee5b4600-bb07-4412-93c5-3485000c9de2",
   "metadata": {},
   "source": [
    "Для демонстрации cоздано несколько объектов"
   ]
  },
  {
   "cell_type": "markdown",
   "id": "7f311e28-ddbc-4e1a-8065-28fec695253b",
   "metadata": {
    "tags": []
   },
   "source": [
    "### Schema Registry"
   ]
  },
  {
   "cell_type": "code",
   "execution_count": null,
   "id": "64a1b422-2ffd-45ab-ae4e-807cd934cedf",
   "metadata": {
    "tags": []
   },
   "outputs": [],
   "source": [
    "cat <<EOF > /tmp/customer-v1.json\n",
    "{\n",
    "    \"schema\": \"{ \\\n",
    "        \\\"type\\\": \\\"record\\\", \\\n",
    "        \\\"name\\\": \\\"Customer\\\", \\\n",
    "        \\\"namespace\\\": \\\"com.github.neshkeev.kafka.customer.avro\\\", \\\n",
    "        \\\"fields\\\":[ \\\n",
    "            { \\\n",
    "                \\\"name\\\":\\\"id\\\", \\\n",
    "                \\\"type\\\":\\\"string\\\" \\\n",
    "            }, \\\n",
    "            { \\\n",
    "                \\\"name\\\":\\\"name\\\", \\\n",
    "                \\\"type\\\":\\\"string\\\" \\\n",
    "            } \\\n",
    "        ] \\\n",
    "    }\" \\\n",
    "}\n",
    "EOF"
   ]
  },
  {
   "cell_type": "code",
   "execution_count": null,
   "id": "ae9e08f2-200a-4d0d-8b6d-ad3614a8cb89",
   "metadata": {
    "tags": []
   },
   "outputs": [],
   "source": [
    "cat <<EOF > /tmp/customer-v2.json\n",
    "{\n",
    "    \"schema\": \"{ \\\n",
    "        \\\"type\\\": \\\"record\\\", \\\n",
    "        \\\"name\\\": \\\"Customer\\\", \\\n",
    "        \\\"namespace\\\": \\\"com.github.neshkeev.kafka.customer.avro\\\", \\\n",
    "        \\\"fields\\\":[ \\\n",
    "            { \\\n",
    "                \\\"name\\\":\\\"id\\\", \\\n",
    "                \\\"type\\\":\\\"string\\\" \\\n",
    "            }, \\\n",
    "            { \\\n",
    "                \\\"name\\\":\\\"name\\\", \\\n",
    "                \\\"type\\\":\\\"string\\\" \\\n",
    "            }, \\\n",
    "            { \\\n",
    "                \\\"name\\\":\\\"age\\\", \\\n",
    "                \\\"type\\\":\\\"int\\\", \\\n",
    "                \\\"default\\\":\\\"0\\\" \\\n",
    "            } \\\n",
    "        ] \\\n",
    "    }\" \\\n",
    "}\n",
    "EOF"
   ]
  },
  {
   "cell_type": "code",
   "execution_count": null,
   "id": "495bf97a-dc64-430a-839b-c9fb3e51ece3",
   "metadata": {
    "tags": []
   },
   "outputs": [],
   "source": [
    "curl -s http://schema-registry:8081/subjects/customer-value/versions \\\n",
    "    -X POST \\\n",
    "    -H 'Content-Type: application/vnd.schemaregistry.v1+json' \\\n",
    "    --data \"@/tmp/customer-v1.json\" | json_pp"
   ]
  },
  {
   "cell_type": "code",
   "execution_count": null,
   "id": "15bd9afc-6618-46a8-aa47-284834dc9943",
   "metadata": {
    "tags": []
   },
   "outputs": [],
   "source": [
    "curl -s http://schema-registry:8081/subjects/customer-value/versions \\\n",
    "    -X POST \\\n",
    "    -H 'Content-Type: application/vnd.schemaregistry.v1+json' \\\n",
    "    --data \"@/tmp/customer-v2.json\" | json_pp"
   ]
  },
  {
   "cell_type": "code",
   "execution_count": null,
   "id": "e0154949-4dd5-4d25-9abf-f8648da44d80",
   "metadata": {
    "tags": []
   },
   "outputs": [],
   "source": [
    "curl -s http://schema-registry:8081/subjects | json_pp"
   ]
  },
  {
   "cell_type": "code",
   "execution_count": null,
   "id": "1e07545e-d9ac-4e3e-a2eb-9bdb5d872e27",
   "metadata": {
    "tags": []
   },
   "outputs": [],
   "source": [
    "curl -s http://schema-registry:8081/subjects/customer-value/versions/1 | json_pp"
   ]
  },
  {
   "cell_type": "markdown",
   "id": "8d56977d-dccd-47f2-974f-40a6745cc41a",
   "metadata": {
    "jp-MarkdownHeadingCollapsed": true,
    "tags": []
   },
   "source": [
    "### Kafka Connect"
   ]
  },
  {
   "cell_type": "code",
   "execution_count": null,
   "id": "a734add3-4027-44a6-adba-1ecf3ecd3aa4",
   "metadata": {
    "tags": []
   },
   "outputs": [],
   "source": [
    "cat <<EOF > /tmp/my-heartbeat-connector.json\n",
    "{\n",
    "   \"config\" : {\n",
    "      \"connector.class\" : \"org.apache.kafka.connect.mirror.MirrorHeartbeatConnector\",\n",
    "      \"name\" : \"my-heartbeat-connector\",\n",
    "      \"source.cluster.alias\" : \"source\",\n",
    "      \"target.cluster.bootstrap.servers\" : \"kafka1:9092\",\n",
    "      \"target.cluster.sasl.mechanism\" : \"PLAIN\",\n",
    "      \"target.cluster.security.protocol\" : \"PLAINTEXT\"\n",
    "   },\n",
    "   \"name\" : \"my-heartbeat-connector\"\n",
    "}\n",
    "EOF"
   ]
  },
  {
   "cell_type": "code",
   "execution_count": null,
   "id": "d95d03d4-0a63-435f-afd0-233539d69187",
   "metadata": {
    "tags": []
   },
   "outputs": [],
   "source": [
    "curl -s -X POST http://connect:8083/connectors \\\n",
    "    -H 'Content-Type: application/json' \\\n",
    "    -d '@/tmp/my-heartbeat-connector.json' | json_pp"
   ]
  },
  {
   "cell_type": "code",
   "execution_count": null,
   "id": "fabdbc30-2427-4ff7-800e-eb5ef9e24b41",
   "metadata": {
    "tags": []
   },
   "outputs": [],
   "source": [
    "curl http://connect:8083/connectors"
   ]
  },
  {
   "cell_type": "markdown",
   "id": "7db35e70-5ed9-42de-8502-ba1d7e04dbac",
   "metadata": {
    "tags": []
   },
   "source": [
    "## Консольные утилиты"
   ]
  },
  {
   "cell_type": "markdown",
   "id": "d26d706a-50a0-4dd9-aff1-166d5832b733",
   "metadata": {},
   "source": [
    "Традиционный способ работы с Apache Kafka - это командная строка и консольные утилиты. Среди наиболее популярных можно выделить:\n",
    "- [kafka-topics](https://docs.confluent.io/kafka/operations-tools/kafka-tools.html#kafka-topics-sh) - создание, удаление и управление топиками\n",
    "- [kafka-console-producer](https://docs.confluent.io/kafka/operations-tools/kafka-tools.html#kafka-console-producer-sh) - отправка сообщений в Apache Kafka при помощи стандартного устройства ввода\n",
    "- [kafka-console-consumer](https://docs.confluent.io/kafka/operations-tools/kafka-tools.html#kafka-console-consumer-sh) - получение сообщений из Apache Kafka и печать их на стандатное устройство вывода"
   ]
  },
  {
   "cell_type": "markdown",
   "id": "d87994db-1a5a-4267-b239-9c5b1231ec21",
   "metadata": {},
   "source": [
    "### Создать топик"
   ]
  },
  {
   "cell_type": "code",
   "execution_count": null,
   "id": "26457054-cfe7-4bcb-82f2-c049ef1a71eb",
   "metadata": {
    "tags": []
   },
   "outputs": [],
   "source": [
    "kafka-topics --bootstrap-server \"$KAFKA_HOST\":\"$KAFKA_PORT\" \\\n",
    "  --topic my-cli-topic \\\n",
    "  --create --partitions 1 \\\n",
    "  --replication-factor 1"
   ]
  },
  {
   "cell_type": "markdown",
   "id": "0a13d121-328b-4c7c-8d18-02d95467e5d4",
   "metadata": {
    "tags": []
   },
   "source": [
    "### Получить список топиков"
   ]
  },
  {
   "cell_type": "code",
   "execution_count": null,
   "id": "64db26bb-9ee1-4338-a630-a4c02264e00e",
   "metadata": {
    "tags": []
   },
   "outputs": [],
   "source": [
    "kafka-topics --bootstrap-server \"$KAFKA_HOST\":\"$KAFKA_PORT\" --list"
   ]
  },
  {
   "cell_type": "markdown",
   "id": "c8891d06-ab37-4e89-a6d6-db702932b3dc",
   "metadata": {
    "tags": []
   },
   "source": [
    "### Записать данные в топик"
   ]
  },
  {
   "cell_type": "markdown",
   "id": "d60bfcf9-1aa6-4c07-a9f3-5161bfef5437",
   "metadata": {},
   "source": [
    "Если запустить [kafka-console-producer](https://docs.confluent.io/kafka/operations-tools/kafka-tools.html#kafka-console-producer-sh) в терминале, то можно будет вводить текст для сообщений, каждое из которых будет отделено от последующих нажатием клавиши `Enter`. Условия работы в текущем ноутбуке не позволяют обеспечить подобный пользовательский опыт, поэтому данные на стандартный поток ввода для [kafka-console-producer](https://docs.confluent.io/kafka/operations-tools/kafka-tools.html#kafka-console-producer-sh) будут передаваться через [HERE DOCUMENT](https://en.wikipedia.org/wiki/Here_document#Unix_shells)"
   ]
  },
  {
   "cell_type": "code",
   "execution_count": null,
   "id": "45abb4e6-c7c6-4cda-aaeb-d81dc3dcae95",
   "metadata": {
    "tags": []
   },
   "outputs": [],
   "source": [
    "kafka-console-producer \\\n",
    "    --bootstrap-server \"$KAFKA_HOST\":\"$KAFKA_PORT\" \\\n",
    "    --topic my-cli-topic \\\n",
    "    <<EOF\n",
    "Apache Kafka\n",
    "Apache Zookeeper\n",
    "Confluent Platform\n",
    "Confluent KRaft\n",
    "Docker\n",
    "Kubernetes\n",
    "EOF"
   ]
  },
  {
   "cell_type": "markdown",
   "id": "18d571f1-2c9d-40da-8b74-9b44c903ece9",
   "metadata": {
    "tags": []
   },
   "source": [
    "### Прочитать сообщения из топика"
   ]
  },
  {
   "cell_type": "markdown",
   "id": "cc1b301e-efe4-4477-a871-6d127d8bd7d1",
   "metadata": {},
   "source": [
    "Если запустить утилиту [kafka-console-consumer](https://docs.confluent.io/kafka/operations-tools/kafka-tools.html#kafka-console-consumer-sh) с параметрами по-умолчанию, то она будет ждать новых сообщений из топика до тех пор, пока пользователь явно не вызовет прерывание активного процесса (`CTRL + c`). Особенности данного ноутбука не позволяет обеспечить похожий пользовательский опыт, а поэтому эта утилита принимает параметр `--timeout-ms`, который указывает сколько времени эта утилита будет ждать новых сообщений. Если новых сообщений не появится за этот период, то утилита остановится:"
   ]
  },
  {
   "cell_type": "code",
   "execution_count": null,
   "id": "478a6a70-098f-4051-85d9-fed0ff678da6",
   "metadata": {
    "tags": []
   },
   "outputs": [],
   "source": [
    "kafka-console-consumer \\\n",
    "    --bootstrap-server \"$KAFKA_HOST\":\"$KAFKA_PORT\" \\\n",
    "    --topic my-cli-topic \\\n",
    "    --from-beginning \\\n",
    "    --timeout-ms 10000"
   ]
  },
  {
   "cell_type": "markdown",
   "id": "db64354d-e048-4fe3-b4e7-8074e79fb64f",
   "metadata": {},
   "source": [
    "Обратите внимание на вывод: тут написано, что произошла ошибка. Это ожидаемая ошибка, связанная с тем, что время ожидания новых сообщений вышло, что сгенерировало исключение `org.apache.kafka.common.errors.TimeoutException`. Не смотря на это, все сообщения были прочитаны из топика, а сама утилита завершила свою работу."
   ]
  },
  {
   "cell_type": "markdown",
   "id": "abfaac9f-1ce5-4a16-84cd-0a0453ebf198",
   "metadata": {},
   "source": [
    "### Удалить топик"
   ]
  },
  {
   "cell_type": "code",
   "execution_count": null,
   "id": "ab6254c6-f853-49a9-9450-ce7cf2423ee2",
   "metadata": {
    "tags": []
   },
   "outputs": [],
   "source": [
    "kafka-topics --bootstrap-server \"$KAFKA_HOST\":\"$KAFKA_PORT\" --topic my-cli-topic --delete"
   ]
  },
  {
   "cell_type": "code",
   "execution_count": null,
   "id": "40311ece-b7a5-4e7b-95c4-5c29073dd59b",
   "metadata": {
    "tags": []
   },
   "outputs": [],
   "source": [
    "kafka-topics --bootstrap-server \"$KAFKA_HOST\":\"$KAFKA_PORT\" --list"
   ]
  },
  {
   "cell_type": "markdown",
   "id": "bbd08515-d693-48b4-9ae5-73cdc0fa2163",
   "metadata": {
    "tags": []
   },
   "source": [
    "## Инструменты с Web UI интерфейсом"
   ]
  },
  {
   "cell_type": "markdown",
   "id": "5a17d813-80c9-4bfb-a896-ee388f28518b",
   "metadata": {},
   "source": [
    "Инструменты для работы с Apache Kafka через Web UI:\n",
    "\n",
    "- [Redpanda](http://localhost:8080) - [домашняя страница](https://redpanda.com/redpanda-console-kafka-ui)\n",
    "- [AKHQ](http://localhost:18080) - [домашняя страница](https://akhq.io/)\n",
    "- [Kafka UI](http://localhost:28080) - [домашняя страница](https://docs.kafka-ui.provectus.io/overview/readme)\n",
    "- [Kafdrop](http://localhost:38080) - [домашняя страница](https://github.com/obsidiandynamics/kafdrop)\n",
    "- [Confluent Control Center](http://localhost:48080) - [домашняя страница](https://docs.confluent.io/platform/current/control-center/index.html)"
   ]
  },
  {
   "cell_type": "markdown",
   "id": "3510f080-64c3-4a54-922a-e9b39f78aa4e",
   "metadata": {
    "tags": []
   },
   "source": [
    "## Работа с Apache Kafka через REST API - REST PROXY"
   ]
  },
  {
   "cell_type": "markdown",
   "id": "e6c13a22-7641-485a-aeb5-3ccd3e5da42f",
   "metadata": {},
   "source": [
    "Операторам не всегда может быть доступна командная строка для работы с Apache Kafka, т.к. она дает больше доступа чем может быть необходимо. В связи с этим компания Confluent Inc предлагает инструмент [REST Proxy](https://docs.confluent.io/platform/current/kafka-rest/index.html) для работы с Apache Kafka по REST API протоколу."
   ]
  },
  {
   "cell_type": "markdown",
   "id": "55fef2bc-74aa-4bdd-ab12-ca155b073388",
   "metadata": {
    "tags": []
   },
   "source": [
    "### Получить идентификатор кластера"
   ]
  },
  {
   "cell_type": "markdown",
   "id": "df9263c3-ae94-42cd-b08e-41b7c23fd91d",
   "metadata": {
    "tags": []
   },
   "source": [
    "Вся работа с Apache Kafka осуществляется при помощи REST запросов по HTTP протоколу. Для начала работы необходимо получить идентификатор кластера, с которым будет выполняться работа. Все метаданные кластера хранятся в Zookeeper, поэтому получить требуемую информацию можно через [zookeeper-shell](https://docs.confluent.io/kafka/operations-tools/kafka-tools.html#zookeeper-shell-sh):"
   ]
  },
  {
   "cell_type": "code",
   "execution_count": 34,
   "id": "7b36f3d9-52e6-447a-b81b-544dd4cf7c37",
   "metadata": {
    "tags": []
   },
   "outputs": [],
   "source": [
    "CLUSTER_ID=$(zookeeper-shell \"$ZOOKEEPER_HOST\":2181 get /cluster/id |\n",
    "    tail -n 1 |\n",
    "    json_pp |\n",
    "    sed -n '/^\\s\\+\"id\"/s,.*\"\\(.*\\)\".*,\\1,p'\n",
    ")"
   ]
  },
  {
   "cell_type": "code",
   "execution_count": 35,
   "id": "36f48264-0001-48cd-9fc7-d22997b2b23e",
   "metadata": {
    "tags": []
   },
   "outputs": [],
   "source": [
    "[ -n \"${CLUSTER_ID}\" ] && echo \"Kafka Cluster ID: $CLUSTER_ID\" || {\n",
    "  echo \"Невозможно определить идентификатор Apache Kafka кластера\" >&2\n",
    "  false\n",
    "}"
   ]
  },
  {
   "cell_type": "markdown",
   "id": "6e5b7e29-4738-4e9c-8648-e50e5d680c08",
   "metadata": {},
   "source": [
    "Но для вызова `zookeeper-shell` так же нужна командная строка, а поэтому идентификатор кластера можно также получить при помощи REST API запроса:"
   ]
  },
  {
   "cell_type": "code",
   "execution_count": null,
   "id": "e6a5a49e-1239-4564-bef0-7376aa1c9050",
   "metadata": {
    "tags": []
   },
   "outputs": [],
   "source": [
    "curl -s \"$KAFKA_REST_HOST\":\"$KAFKA_REST_PORT\"/v3/clusters | json_pp"
   ]
  },
  {
   "cell_type": "markdown",
   "id": "feceac3a-bff3-44eb-8211-93cc28c3b02d",
   "metadata": {
    "tags": []
   },
   "source": [
    "Переменная окружения `KAFKA_REST_URL` будет использоваться для удобства выполнения `REST API` запросов:"
   ]
  },
  {
   "cell_type": "code",
   "execution_count": null,
   "id": "11652607-a0c8-427f-9aac-1787a4c43427",
   "metadata": {
    "tags": []
   },
   "outputs": [],
   "source": [
    "KAFKA_REST_URL=\"http://${KAFKA_REST_HOST}:${KAFKA_REST_PORT}/v3/clusters/${CLUSTER_ID}\""
   ]
  },
  {
   "cell_type": "markdown",
   "id": "65307ed6-547d-471e-b950-f78bfd6d6a3f",
   "metadata": {
    "tags": []
   },
   "source": [
    "### Создание топика"
   ]
  },
  {
   "cell_type": "code",
   "execution_count": null,
   "id": "2ff024b8-012a-4d19-a821-48c67e2780b0",
   "metadata": {
    "tags": []
   },
   "outputs": [],
   "source": [
    "cat <<EOF > /tmp/my-kafka-rest-topic.json\n",
    "{\n",
    "   \"partitions_count\" : 2,\n",
    "   \"replication_factor\" : 3,\n",
    "   \"topic_name\" : \"my-kafka-rest-topic\"\n",
    "}\n",
    "EOF"
   ]
  },
  {
   "cell_type": "code",
   "execution_count": null,
   "id": "9b4d7980-6134-4d51-86fa-4a3defdd72e7",
   "metadata": {
    "tags": []
   },
   "outputs": [],
   "source": [
    "curl -s \"${KAFKA_REST_URL}/topics\" \\\n",
    "  -X POST \\\n",
    "  -H \"Content-Type: application/json\" \\\n",
    "  --data '@/tmp/my-kafka-rest-topic.json' | json_pp"
   ]
  },
  {
   "cell_type": "markdown",
   "id": "6bb7cbfe-203d-49ab-9f5d-6e71cdb44306",
   "metadata": {},
   "source": [
    "### Получить список топиков"
   ]
  },
  {
   "cell_type": "code",
   "execution_count": null,
   "id": "541b9f16-15c7-4e57-b11a-35e50549623c",
   "metadata": {
    "tags": []
   },
   "outputs": [],
   "source": [
    "curl -s \"${KAFKA_REST_URL}/topics\" -o topics.json"
   ]
  },
  {
   "cell_type": "markdown",
   "id": "4de957f8-fb22-445e-9721-a48829efb363",
   "metadata": {
    "tags": []
   },
   "source": [
    "Результат [topics.json](topics.json)"
   ]
  },
  {
   "cell_type": "code",
   "execution_count": null,
   "id": "fdb36537-25f1-4856-90f3-ebb2c7cf8f78",
   "metadata": {
    "tags": []
   },
   "outputs": [],
   "source": [
    "cat topics.json | json_pp | head -n 40"
   ]
  },
  {
   "cell_type": "markdown",
   "id": "d89ab2f1-d64d-4dee-b88a-50e7e35378f8",
   "metadata": {
    "tags": []
   },
   "source": [
    "### Получить информацию по топику"
   ]
  },
  {
   "cell_type": "code",
   "execution_count": null,
   "id": "be3d8b99-0b2a-4ef6-958b-1df4432c4be4",
   "metadata": {
    "tags": []
   },
   "outputs": [],
   "source": [
    "curl -s \"${KAFKA_REST_URL}/topics/my-kafka-rest-topic/partitions\" | json_pp"
   ]
  },
  {
   "cell_type": "code",
   "execution_count": null,
   "id": "5481f02e-e727-4817-a331-94aa88a0d714",
   "metadata": {
    "tags": []
   },
   "outputs": [],
   "source": [
    "curl -s \"${KAFKA_REST_URL}/topics/my-kafka-rest-topic/partitions/0/replicas\" | json_pp"
   ]
  },
  {
   "cell_type": "markdown",
   "id": "766474d0-a29d-4277-84ee-e48508c4d37f",
   "metadata": {},
   "source": [
    "### Отправить данные в Apache Kafka (Producer API)"
   ]
  },
  {
   "cell_type": "markdown",
   "id": "8b1afe18-e118-418e-9667-8623d7f9e1ca",
   "metadata": {
    "tags": []
   },
   "source": [
    "Функиции `message` используется для удобства формирования сообщений в формате `json`. Функция `message` принимает на вход два параметра: ключ и значение, а на выходе получается сообщение в `json` формате:"
   ]
  },
  {
   "cell_type": "code",
   "execution_count": null,
   "id": "776b347c-9455-42d3-8255-426e336f412f",
   "metadata": {
    "tags": []
   },
   "outputs": [],
   "source": [
    "function message() {\n",
    "  local key=${1}\n",
    "  local value=${2}\n",
    "\n",
    "  cat <<EOF\n",
    "{\n",
    "    \"key\": {\n",
    "        \"type\": \"JSON\",\n",
    "        \"data\": \"${key}\"\n",
    "    }, \n",
    "    \"value\": {\n",
    "        \"type\": \"JSON\",\n",
    "        \"data\": \"${value}\"\n",
    "    }\n",
    "}\n",
    "EOF\n",
    "}"
   ]
  },
  {
   "cell_type": "markdown",
   "id": "a98426b6-fedf-4a03-bf8f-b6f9cf8a5230",
   "metadata": {
    "tags": []
   },
   "source": [
    "Функция `produce_message` принимает на вход два параметра: топик и сообщение и отправляет сообщение в топик через `Kafka REST Proxy`:"
   ]
  },
  {
   "cell_type": "code",
   "execution_count": null,
   "id": "aed6548d-3ffa-44e3-a5e4-ca2e02b6aa06",
   "metadata": {
    "tags": []
   },
   "outputs": [],
   "source": [
    "function produce_message() {\n",
    "  local topic=${1}\n",
    "  local message=${2}\n",
    "  \n",
    "  [ -z \"$topic\" ] && {\n",
    "      echo \"Имя топика не задано\" >&2\n",
    "      return 1\n",
    "  }\n",
    "\n",
    "  [ -z \"$message\" ] && {\n",
    "      echo \"Невозможно отправить пустое сообщение\" >&2\n",
    "      return 1\n",
    "  }\n",
    "\n",
    "  curl -s \"${KAFKA_REST_URL}/topics/${topic}/records\" \\\n",
    "    -X POST \\\n",
    "    -H \"Content-Type: application/json\" \\\n",
    "    --data \"${message}\" | json_pp\n",
    "}"
   ]
  },
  {
   "cell_type": "code",
   "execution_count": null,
   "id": "07634a92-f602-4060-90d0-3b851c75c4e9",
   "metadata": {
    "tags": []
   },
   "outputs": [],
   "source": [
    "message=$(message Apache Kafka)\n",
    "produce_message \"my-kafka-rest-topic\" \"${message}\""
   ]
  },
  {
   "cell_type": "markdown",
   "id": "b9e3c17f-6ebc-4226-95e8-224637199682",
   "metadata": {},
   "source": [
    "В ответном json документе можно заметить:\n",
    "- `error_code == 200` - отправка произошла успешно;\n",
    "- `partition_id` - партиция, в которую попало данные сообщение;\n",
    "- `offset` - позиция отправленного сообщения в партиции."
   ]
  },
  {
   "cell_type": "markdown",
   "id": "c9a7fa79-596f-4fdc-a3e6-a3264c57ec0b",
   "metadata": {
    "tags": []
   },
   "source": [
    "Отправить несколько сообщений в топик:"
   ]
  },
  {
   "cell_type": "code",
   "execution_count": null,
   "id": "35ee9b1c-6b61-45bd-a408-b94aed2fd5b5",
   "metadata": {
    "tags": []
   },
   "outputs": [],
   "source": [
    "while read line; do\n",
    "  key=$(awk '{print $1}' <<<\"$line\")\n",
    "\n",
    "  message=$(message \"$key\" \"$line\")\n",
    "\n",
    "  produce_message \"my-kafka-rest-topic\" \"${message}\"\n",
    "done <<EOF\n",
    "Apache Kafka\n",
    "Apache Zookeeper\n",
    "Confluent Platform\n",
    "Confluent RestProxy\n",
    "EOF"
   ]
  },
  {
   "cell_type": "markdown",
   "id": "a640d3a3-a484-4eae-8b03-fcd9e59a4ce8",
   "metadata": {
    "tags": []
   },
   "source": [
    "### Чтение данных из топика"
   ]
  },
  {
   "cell_type": "markdown",
   "id": "58ba6c7c-b90f-492f-a1a0-a8c2c1cfbf88",
   "metadata": {},
   "source": [
    "Чтение данных выполняется в три шага:\n",
    "1. Создание consumer group и консьюмера внутри консьюмер группы;\n",
    "1. Подписка на сообщения в топике для созданной consumer group;\n",
    "1. Получение сообщений."
   ]
  },
  {
   "cell_type": "markdown",
   "id": "7369c0b0-35b9-45e6-bd69-b6cc5f2db8a4",
   "metadata": {},
   "source": [
    "Переменная окружения `CONSUMER_GROUP_URL` используется для удобства работы с консьюмер группами:"
   ]
  },
  {
   "cell_type": "code",
   "execution_count": null,
   "id": "0195ac7d-e866-4b0b-91b1-d628f26b4471",
   "metadata": {
    "tags": []
   },
   "outputs": [],
   "source": [
    "CONSUMER_GROUP_URL=\"http://${KAFKA_REST_HOST}:${KAFKA_REST_PORT}/consumers/my-rest-proxy-consumer-group\""
   ]
  },
  {
   "cell_type": "markdown",
   "id": "fa2317b7-4b5f-4f4f-b2d5-b1073ea47a21",
   "metadata": {
    "tags": []
   },
   "source": [
    "#### Создание Consumer Group"
   ]
  },
  {
   "cell_type": "code",
   "execution_count": null,
   "id": "4264eb70-eb45-4a6c-a02c-99bcc80feecb",
   "metadata": {
    "tags": []
   },
   "outputs": [],
   "source": [
    "cat <<EOF > /tmp/rest-proxy-consumer.json\n",
    "{\n",
    "   \"auto.offset.reset\" : \"earliest\",\n",
    "   \"format\" : \"json\",\n",
    "   \"name\" : \"my-rest-proxy-consumer-group-consumer\"\n",
    "}\n",
    "EOF"
   ]
  },
  {
   "cell_type": "code",
   "execution_count": null,
   "id": "8377f09d-f87a-4aa9-bb42-9d9729ded57a",
   "metadata": {
    "tags": []
   },
   "outputs": [],
   "source": [
    "curl -s \"${CONSUMER_GROUP_URL}\" \\\n",
    "  -X POST \\\n",
    "  -H \"Content-Type: application/vnd.kafka.v2+json\" \\\n",
    "  --data '@/tmp/rest-proxy-consumer.json' | json_pp"
   ]
  },
  {
   "cell_type": "markdown",
   "id": "d79c6b72-832d-4f16-96eb-9466c83c74a8",
   "metadata": {
    "tags": []
   },
   "source": [
    "#### Подписка на сообщения"
   ]
  },
  {
   "cell_type": "code",
   "execution_count": null,
   "id": "af939c19-38f0-46ac-bf49-f835d6edf1ee",
   "metadata": {
    "tags": []
   },
   "outputs": [],
   "source": [
    "echo '{\"topics\":[\"my-kafka-rest-topic\"]}' | json_pp"
   ]
  },
  {
   "cell_type": "code",
   "execution_count": null,
   "id": "8e8fcf4d-3f99-4cda-8d77-64257040f9e5",
   "metadata": {
    "tags": []
   },
   "outputs": [],
   "source": [
    "cat <<EOF > /tmp/rest-proxy-subscription.json\n",
    "{\n",
    "   \"topics\" : [\n",
    "      \"my-kafka-rest-topic\"\n",
    "   ]\n",
    "}\n",
    "EOF"
   ]
  },
  {
   "cell_type": "code",
   "execution_count": null,
   "id": "c94d8580-8471-423c-a27f-86ab7cc4ff47",
   "metadata": {
    "tags": []
   },
   "outputs": [],
   "source": [
    "curl -v \"${CONSUMER_GROUP_URL}/instances/my-rest-proxy-consumer-group-consumer/subscription\" \\\n",
    "  -X POST \\\n",
    "  -H \"Content-Type: application/vnd.kafka.v2+json\" \\\n",
    "  --data '@/tmp/rest-proxy-subscription.json' "
   ]
  },
  {
   "cell_type": "markdown",
   "id": "c079d834-0cb2-4b0d-8932-c660a188fdfd",
   "metadata": {
    "tags": []
   },
   "source": [
    "#### Получение сообщений"
   ]
  },
  {
   "cell_type": "code",
   "execution_count": null,
   "id": "27d66525-79fd-499e-95d4-0631a042f9db",
   "metadata": {
    "tags": []
   },
   "outputs": [],
   "source": [
    "curl -s \"${CONSUMER_GROUP_URL}/instances/my-rest-proxy-consumer-group-consumer/records\" \\\n",
    "  -X GET \\\n",
    "  -H \"Accept: application/vnd.kafka.json.v2+json\" | json_pp"
   ]
  },
  {
   "cell_type": "markdown",
   "id": "c5e1517d-b525-458d-910e-ffcc1ef4919b",
   "metadata": {},
   "source": [
    "Иногда данные не приходят с первого раза, можно запустить запрос на получение сообщений несколько раз"
   ]
  },
  {
   "cell_type": "markdown",
   "id": "d3f393df-3209-49ba-bc4b-5aa4f34621ba",
   "metadata": {
    "tags": []
   },
   "source": [
    "#### Удаление консьюмера из consumer group"
   ]
  },
  {
   "cell_type": "code",
   "execution_count": null,
   "id": "c8989b6e-3f14-46e7-81cd-6b2731532ab3",
   "metadata": {
    "tags": []
   },
   "outputs": [],
   "source": [
    "curl -v \"${CONSUMER_GROUP_URL}/instances/my-rest-proxy-consumer-group-consumer\" \\\n",
    "  -X DELETE \\\n",
    "  -H \"Content-Type: application/vnd.kafka.v2+json\""
   ]
  },
  {
   "cell_type": "markdown",
   "id": "8868e9f9-77dc-4da9-ac6c-c6ad9900b4b4",
   "metadata": {
    "tags": []
   },
   "source": [
    "## Работа с Apache Kafka через REST API - Redpanda"
   ]
  },
  {
   "cell_type": "markdown",
   "id": "62020df1-9025-4e51-939d-250693237f95",
   "metadata": {},
   "source": [
    "[Redpanda Web UI](https://redpanda.com/redpanda-console-kafka-ui) предлагает удобный веб-интерфейс для работы с Apache Kafka. Инструмент разработан таким образом, что общение Frontend - Backend выполняется по REST API протоколу, что позволяет сторонним приложениям выступать в качестве frontend."
   ]
  },
  {
   "cell_type": "markdown",
   "id": "0eb39b52-6116-4b42-822b-88fb88c5bc5e",
   "metadata": {
    "tags": []
   },
   "source": [
    "### Получить информацию по кластеру"
   ]
  },
  {
   "cell_type": "markdown",
   "id": "478528d9-743d-40a8-a70f-27dedba66f66",
   "metadata": {
    "tags": []
   },
   "source": [
    "Информация о кластере содержит больше количество данных, поэтому результат запроса будет записан в файл [cluster.json](cluster.json)"
   ]
  },
  {
   "cell_type": "code",
   "execution_count": null,
   "id": "df888bd5-1cea-47a2-9cf8-573379d352e9",
   "metadata": {
    "tags": []
   },
   "outputs": [],
   "source": [
    "curl -s -o cluster.json 'http://redpanda:8080/api/cluster'"
   ]
  },
  {
   "cell_type": "markdown",
   "id": "ade8c5c9-680b-461d-909a-9bc947ca65c0",
   "metadata": {
    "tags": []
   },
   "source": [
    "Результат: [cluster.json](cluster.json)"
   ]
  },
  {
   "cell_type": "markdown",
   "id": "f21ffadc-8bef-44f1-8d3d-350f4a2e10eb",
   "metadata": {
    "tags": []
   },
   "source": [
    "### Создание топика"
   ]
  },
  {
   "cell_type": "code",
   "execution_count": null,
   "id": "3802a60c-ae0b-4f5b-a396-7a26382f874e",
   "metadata": {
    "tags": []
   },
   "outputs": [],
   "source": [
    "cat <<EOF > /tmp/my-redpanda-topic.json\n",
    "{\n",
    "    \"topicName\": \"my-redpanda-topic\",\n",
    "    \"partitionCount\": 2,\n",
    "    \"replicationFactor\": 3,\n",
    "    \"configs\": [\n",
    "        {\n",
    "            \"name\":\"min.insync.replicas\",\n",
    "            \"value\":\"3\"\n",
    "        },\n",
    "        {\n",
    "            \"name\":\"cleanup.policy\",\n",
    "            \"value\":\"delete\"\n",
    "        }\n",
    "    ]\n",
    "}\n",
    "EOF"
   ]
  },
  {
   "cell_type": "code",
   "execution_count": null,
   "id": "73ae4f2b-4f59-4564-b017-df64bdd051f3",
   "metadata": {
    "tags": []
   },
   "outputs": [],
   "source": [
    "curl -s 'http://redpanda:8080/api/topics' \\\n",
    "    -X POST \\\n",
    "    -H 'Content-Type: application/json'  \\\n",
    "    --data '@/tmp/my-redpanda-topic.json' | json_pp"
   ]
  },
  {
   "cell_type": "markdown",
   "id": "8121145b-d329-45cf-a547-ee5557448e22",
   "metadata": {
    "tags": []
   },
   "source": [
    "### Получить список топиков"
   ]
  },
  {
   "cell_type": "code",
   "execution_count": null,
   "id": "87255b12-c90a-4ce7-81a1-902915bce643",
   "metadata": {
    "tags": []
   },
   "outputs": [],
   "source": [
    "curl -s 'http://redpanda:8080/api/topics' -o redpanda-topics.json"
   ]
  },
  {
   "cell_type": "markdown",
   "id": "d6dc3cf4-ff7d-4591-a5dc-2dd8e9a6476a",
   "metadata": {},
   "source": [
    "Результат [redpanda-topics.json](redpanda-topics.json)"
   ]
  },
  {
   "cell_type": "markdown",
   "id": "04022648-f22e-410c-90bc-07a98c83693c",
   "metadata": {
    "tags": []
   },
   "source": [
    "### Получить информацию по партициям топика"
   ]
  },
  {
   "cell_type": "code",
   "execution_count": null,
   "id": "2138be87-4cf6-4c22-a806-db44f39e5441",
   "metadata": {
    "tags": []
   },
   "outputs": [],
   "source": [
    "curl -s -o partitions.json 'http://redpanda:8080/api/topics/my-redpanda-topic/partitions'"
   ]
  },
  {
   "cell_type": "markdown",
   "id": "6a26bcfa-a6d9-4904-8492-e8e893a1ce4e",
   "metadata": {
    "tags": []
   },
   "source": [
    "Результат: [partitions.json](partitions.json)"
   ]
  },
  {
   "cell_type": "markdown",
   "id": "d5b0ab40-5ff4-4333-8c79-98419fdafaae",
   "metadata": {
    "tags": []
   },
   "source": [
    "### Получить конфигурацию топика"
   ]
  },
  {
   "cell_type": "markdown",
   "id": "f1b2c020-6195-47f6-b094-355ae857eb51",
   "metadata": {
    "tags": []
   },
   "source": [
    "Результат будет записан в [topic_config.json](topic_config.json) файл в силу большого размера ответа:"
   ]
  },
  {
   "cell_type": "code",
   "execution_count": null,
   "id": "b5068e29-2c03-41cf-bfa3-38ec8b07d002",
   "metadata": {
    "tags": []
   },
   "outputs": [],
   "source": [
    "curl -s -o topic_config.json 'http://redpanda:8080/api/topics/my-redpanda-topic/configuration'"
   ]
  },
  {
   "cell_type": "markdown",
   "id": "dfdf3da4-f48e-4b67-a393-172600d352f4",
   "metadata": {},
   "source": [
    "Результат: [topic_config.json](topic_config.json)"
   ]
  },
  {
   "cell_type": "markdown",
   "id": "2df2a787-125f-4fa6-9c1f-b0d0f6133481",
   "metadata": {
    "tags": []
   },
   "source": [
    "### Записать сообщение"
   ]
  },
  {
   "cell_type": "markdown",
   "id": "e8e5da40-3171-4aa8-9531-d092232770b7",
   "metadata": {
    "tags": []
   },
   "source": [
    "Функция `redpanda_message` помогает сформировать сообщение. Она принимает на вход:\n",
    "\n",
    "- `key` - ключ сообщения;\n",
    "- `value` - значение сообщения. Приводится к json формату;\n",
    "- `part_no` - опциональное значение номера партиции, в которую необходимо записать сообщение. Если не указан, то вычисляется автоматически."
   ]
  },
  {
   "cell_type": "code",
   "execution_count": null,
   "id": "a4736147-e0c5-4b5d-b59e-1024d3be8e5d",
   "metadata": {
    "tags": []
   },
   "outputs": [],
   "source": [
    "function redpanda_message() {\n",
    "    local key=$(echo ${1} | base64)\n",
    "    local value=$(echo '{\"name\" : \"'\"${2}\"'\"}' | base64)\n",
    "    local part_no=${3:-$(( $(printf \"%d\\n\" \"0x$(echo \"${key}\" | sha256sum | head -c 10)\") % 2))}\n",
    "    cat <<EOF\n",
    "{\n",
    "    \"key\": \"${key}\",\n",
    "    \"partitionId\": ${part_no},\n",
    "    \"value\": \"${value}\"\n",
    "}\n",
    "EOF\n",
    "}"
   ]
  },
  {
   "cell_type": "code",
   "execution_count": null,
   "id": "cb374399-c48a-4570-adb1-42e6b49a0d82",
   "metadata": {
    "tags": []
   },
   "outputs": [],
   "source": [
    "cat <<EOF > /tmp/redpanda-new-messages.json\n",
    "{\n",
    "    \"compressionType\": 1,\n",
    "    \"records\": [\n",
    "        $(redpanda_message Apache \"Apache Kafka\"),\n",
    "        $(redpanda_message Apache \"Apache Zookeeper\"),\n",
    "        $(redpanda_message Confluent \"Confluent Platform\"),\n",
    "        $(redpanda_message Redpanda \"Redpanda Console\")\n",
    "    ],\n",
    "    \"topicNames\": [\"my-redpanda-topic\"]\n",
    "}\n",
    "EOF"
   ]
  },
  {
   "cell_type": "code",
   "execution_count": null,
   "id": "b29b407a-5b72-4fa5-ae4d-8353f956ce0f",
   "metadata": {
    "tags": []
   },
   "outputs": [],
   "source": [
    "curl -s 'http://redpanda:8080/api/topics-records' \\\n",
    "    -X POST \\\n",
    "    -H 'Content-Type: application/json' \\\n",
    "    --data '@/tmp/redpanda-new-messages.json' | json_pp"
   ]
  },
  {
   "cell_type": "markdown",
   "id": "b6c832cd-37df-4841-a8ee-212872d3422e",
   "metadata": {
    "tags": []
   },
   "source": [
    "### Прочитать сообщения из топика"
   ]
  },
  {
   "cell_type": "markdown",
   "id": "b0e06a16-cb18-46c9-bfa0-c8f814b9a360",
   "metadata": {},
   "source": [
    "Сообщения из топика можно прочитать при помощи web socket протокола, что недоступно в данном окружении"
   ]
  },
  {
   "cell_type": "markdown",
   "id": "aeb9990f-2aec-4fc6-af6f-a9d132817e21",
   "metadata": {
    "tags": []
   },
   "source": [
    "### Удаление топика"
   ]
  },
  {
   "cell_type": "code",
   "execution_count": null,
   "id": "40d93f72-a3b6-4d12-bf73-deeb4e89dd8d",
   "metadata": {
    "tags": []
   },
   "outputs": [],
   "source": [
    "curl 'http://redpanda:8080/api/topics/my-redpanda-topic' \\\n",
    "    -X DELETE"
   ]
  },
  {
   "cell_type": "code",
   "execution_count": null,
   "id": "7e0bedf3-b325-4ee6-9553-04cf94e9adf9",
   "metadata": {},
   "outputs": [],
   "source": []
  }
 ],
 "metadata": {
  "kernelspec": {
   "display_name": "Bash",
   "language": "bash",
   "name": "bash"
  },
  "language_info": {
   "codemirror_mode": "shell",
   "file_extension": ".sh",
   "mimetype": "text/x-sh",
   "name": "bash"
  }
 },
 "nbformat": 4,
 "nbformat_minor": 5
}
