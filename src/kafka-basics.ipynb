{
 "cells": [
  {
   "cell_type": "markdown",
   "id": "3e3422c7-b1dd-471e-bccf-68f6e64cb9ca",
   "metadata": {
    "tags": []
   },
   "source": [
    "# Базовые операции с Kafka"
   ]
  },
  {
   "cell_type": "markdown",
   "id": "49794e59-a0f1-4706-8511-038776106089",
   "metadata": {
    "tags": []
   },
   "source": [
    "## Подготовка"
   ]
  },
  {
   "cell_type": "markdown",
   "id": "d87994db-1a5a-4267-b239-9c5b1231ec21",
   "metadata": {},
   "source": [
    "### Создать топик"
   ]
  },
  {
   "cell_type": "code",
   "execution_count": null,
   "id": "1fa2e291-61e7-4eea-ba51-2329ef17736a",
   "metadata": {
    "tags": []
   },
   "outputs": [],
   "source": [
    "echo \"$KAFKA_HOST\":\"$KAFKA_PORT\""
   ]
  },
  {
   "cell_type": "code",
   "execution_count": null,
   "id": "40041a6f-16d8-405a-9e60-298f6d63619e",
   "metadata": {
    "tags": []
   },
   "outputs": [],
   "source": [
    "echo \"$KAFKA_STANDBY_HOST\":\"$KAFKA_STANDBY_PORT\""
   ]
  },
  {
   "cell_type": "code",
   "execution_count": null,
   "id": "26457054-cfe7-4bcb-82f2-c049ef1a71eb",
   "metadata": {
    "tags": []
   },
   "outputs": [],
   "source": [
    "kafka-topics --bootstrap-server \"$KAFKA_HOST\":\"$KAFKA_PORT\" \\\n",
    "    --topic my-mirror-maker-topic \\\n",
    "    --create \\\n",
    "    --replication-factor 1 \\\n",
    "    --partitions 4"
   ]
  },
  {
   "cell_type": "markdown",
   "id": "0a13d121-328b-4c7c-8d18-02d95467e5d4",
   "metadata": {
    "tags": []
   },
   "source": [
    "### Получить список топиков"
   ]
  },
  {
   "cell_type": "code",
   "execution_count": null,
   "id": "64db26bb-9ee1-4338-a630-a4c02264e00e",
   "metadata": {
    "tags": []
   },
   "outputs": [],
   "source": [
    "kafka-topics --bootstrap-server \"$KAFKA_HOST\":\"$KAFKA_PORT\" \\\n",
    "    --list"
   ]
  },
  {
   "cell_type": "markdown",
   "id": "c8891d06-ab37-4e89-a6d6-db702932b3dc",
   "metadata": {
    "tags": []
   },
   "source": [
    "### Записать данные в топик"
   ]
  },
  {
   "cell_type": "code",
   "execution_count": null,
   "id": "45abb4e6-c7c6-4cda-aaeb-d81dc3dcae95",
   "metadata": {
    "tags": []
   },
   "outputs": [],
   "source": [
    "kafka-console-producer --bootstrap-server \"$KAFKA_HOST\":\"$KAFKA_PORT\" \\\n",
    "    --topic my-mirror-maker-topic \\\n",
    "    <<<$(yes 'Hello, World!' 2>/dev/null | head -n 10)"
   ]
  },
  {
   "cell_type": "markdown",
   "id": "18d571f1-2c9d-40da-8b74-9b44c903ece9",
   "metadata": {
    "tags": []
   },
   "source": [
    "### Прочитать данные из топика"
   ]
  },
  {
   "cell_type": "code",
   "execution_count": null,
   "id": "478a6a70-098f-4051-85d9-fed0ff678da6",
   "metadata": {
    "tags": []
   },
   "outputs": [],
   "source": [
    "kafka-console-consumer --bootstrap-server \"$KAFKA_HOST\":\"$KAFKA_PORT\" \\\n",
    "    --topic my-mirror-maker-topic \\\n",
    "    --from-beginning \\\n",
    "    --timeout-ms 10000"
   ]
  },
  {
   "cell_type": "markdown",
   "id": "13e786c8-974c-4b5a-8aa9-76b4e24fb80b",
   "metadata": {},
   "source": [
    "## Репликация через MirrorMaker"
   ]
  },
  {
   "cell_type": "markdown",
   "id": "93b8a76b-0bb9-4c6e-995f-f2e4a2277ef6",
   "metadata": {},
   "source": [
    "MirrorMaker2 позволяет запустить репликацию между двумя датацентрами:"
   ]
  },
  {
   "cell_type": "code",
   "execution_count": null,
   "id": "6c125925-0aa4-4bb4-82d2-4d2ade0fa0f3",
   "metadata": {
    "tags": []
   },
   "outputs": [],
   "source": [
    "SSH_USER=root sshcat /tmp/mirror.maker.properties \"${DIND_HOST}\" <<EOF\n",
    "# kafka clusters\n",
    "clusters = src,tgt\n",
    "src.bootstrap.servers = kafka-active:9092\n",
    "tgt.bootstrap.servers = kafka-standby:9092\n",
    "\n",
    "src->tgt.topics=my-mirror-maker-topic\n",
    "\n",
    "tgt->src.enabled=false\n",
    "src->tgt.enabled=true\n",
    "config.storage.replication.factor=1\n",
    "status.storage.replication.factor=1\n",
    "offset.storage.replication.factor=1\n",
    "checkpoints.topic.replication.factor=1\n",
    "heartbeats.topic.replication.factor=1\n",
    "offset-syncs.topic.replication.factor=1\n",
    "replication.factor=1\n",
    "\n",
    "replication.policy=org.apache.kafka.connect.mirror.IdentityReplicationPolicy\n",
    "\n",
    "emit.checkpoints.enables=false\n",
    "emit.heartbeats.enabled=false\n",
    "sync.topic.configs.enabled=true\n",
    "sync.topic.acls.enabled=false\n",
    "EOF"
   ]
  },
  {
   "cell_type": "code",
   "execution_count": null,
   "id": "e54e602c-0332-43a6-8daa-68122c862137",
   "metadata": {
    "tags": []
   },
   "outputs": [],
   "source": [
    "docker compose cp /tmp/mirror.maker.properties kafka-active:/tmp/mirror.maker.properties"
   ]
  },
  {
   "cell_type": "code",
   "execution_count": null,
   "id": "13e95a86-a015-45bf-906d-a2a8137ea4bf",
   "metadata": {
    "tags": []
   },
   "outputs": [],
   "source": [
    "connect-mirror-maker /tmp/mirror.maker.properties > mirror-maker.log"
   ]
  },
  {
   "cell_type": "markdown",
   "id": "c7a655cf-855d-49d8-8d9f-6f4d505a0bc0",
   "metadata": {},
   "source": [
    "Необходимо открыть соседний ноутбук [kafka-consumer.ipynb](kafka-consumer.ipynb) для продолжения работы.\n",
    "\n",
    "После завершения работы в соседнем ноутбуке необходимо встать на ячейку выше и выбрать в панели меню `Kernel | Interrupt Kernel`, чтобы остановить Mirror Maker"
   ]
  },
  {
   "cell_type": "code",
   "execution_count": null,
   "id": "2acc4457-8886-427a-a217-1085aea81fcd",
   "metadata": {},
   "outputs": [],
   "source": []
  }
 ],
 "metadata": {
  "kernelspec": {
   "display_name": "Bash",
   "language": "bash",
   "name": "bash"
  },
  "language_info": {
   "codemirror_mode": "shell",
   "file_extension": ".sh",
   "mimetype": "text/x-sh",
   "name": "bash"
  }
 },
 "nbformat": 4,
 "nbformat_minor": 5
}
