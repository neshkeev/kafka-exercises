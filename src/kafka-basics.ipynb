{
 "cells": [
  {
   "cell_type": "markdown",
   "id": "3e3422c7-b1dd-471e-bccf-68f6e64cb9ca",
   "metadata": {
    "tags": []
   },
   "source": [
    "# Подготовка Apache Kafka кластера для анализа метрик"
   ]
  },
  {
   "cell_type": "markdown",
   "id": "d87994db-1a5a-4267-b239-9c5b1231ec21",
   "metadata": {},
   "source": [
    "## Создать топик"
   ]
  },
  {
   "cell_type": "code",
   "execution_count": null,
   "id": "26457054-cfe7-4bcb-82f2-c049ef1a71eb",
   "metadata": {
    "tags": []
   },
   "outputs": [],
   "source": [
    "kafka-topics --bootstrap-server \"$KAFKA_HOST\":\"$KAFKA_PORT\" \\\n",
    "    --topic my-metrics-topic \\\n",
    "    --create \\\n",
    "    --partitions 2 \\\n",
    "    --replication-factor 3"
   ]
  },
  {
   "cell_type": "markdown",
   "id": "0a13d121-328b-4c7c-8d18-02d95467e5d4",
   "metadata": {
    "tags": []
   },
   "source": [
    "## Получить список топиков"
   ]
  },
  {
   "cell_type": "code",
   "execution_count": null,
   "id": "64db26bb-9ee1-4338-a630-a4c02264e00e",
   "metadata": {
    "tags": []
   },
   "outputs": [],
   "source": [
    "kafka-topics --bootstrap-server \"$KAFKA_HOST\":\"$KAFKA_PORT\" \\\n",
    "    --list"
   ]
  },
  {
   "cell_type": "markdown",
   "id": "c8891d06-ab37-4e89-a6d6-db702932b3dc",
   "metadata": {
    "tags": []
   },
   "source": [
    "## Записать данные в топик"
   ]
  },
  {
   "cell_type": "code",
   "execution_count": null,
   "id": "45abb4e6-c7c6-4cda-aaeb-d81dc3dcae95",
   "metadata": {
    "tags": []
   },
   "outputs": [],
   "source": [
    "kafka-console-producer --bootstrap-server \"$KAFKA_HOST\":\"$KAFKA_PORT\" \\\n",
    "    --topic my-metrics-topic \\\n",
    "    <<<$(yes 'Hello, World!' 2>/dev/null | head -n 100)"
   ]
  },
  {
   "cell_type": "markdown",
   "id": "18d571f1-2c9d-40da-8b74-9b44c903ece9",
   "metadata": {
    "tags": []
   },
   "source": [
    "## Прочитать данные из топика"
   ]
  },
  {
   "cell_type": "code",
   "execution_count": null,
   "id": "478a6a70-098f-4051-85d9-fed0ff678da6",
   "metadata": {
    "tags": []
   },
   "outputs": [],
   "source": [
    "kafka-console-consumer --bootstrap-server \"$KAFKA_HOST\":\"$KAFKA_PORT\" \\\n",
    "    --topic my-metrics-topic \\\n",
    "    --group my-metrics-topic-group-id \\\n",
    "    --consumer-property client.id=my-metrics-client-id \\\n",
    "    --from-beginning \\\n",
    "    --timeout-ms 10000"
   ]
  },
  {
   "cell_type": "markdown",
   "id": "fdfd43ce-0f2f-40b9-9139-94ca1020b4dd",
   "metadata": {
    "tags": []
   },
   "source": [
    "После добавления новых данных в топик, у консьюмер группы `my-metrics-topic-group-id` накопится лаг (отставание от продюсера):"
   ]
  },
  {
   "cell_type": "code",
   "execution_count": null,
   "id": "00a402f2-87a1-4f54-80c2-f0e3f4c5048c",
   "metadata": {
    "tags": []
   },
   "outputs": [],
   "source": [
    "kafka-console-producer --bootstrap-server \"$KAFKA_HOST\":\"$KAFKA_PORT\" \\\n",
    "    --topic my-metrics-topic \\\n",
    "    <<<$(yes 'Привет, мир!' 2>/dev/null | head -n 100)"
   ]
  },
  {
   "cell_type": "markdown",
   "id": "ea020d24-f442-4e1f-b25c-08029ac1d911",
   "metadata": {},
   "source": [
    "## Schema Registry"
   ]
  },
  {
   "cell_type": "code",
   "execution_count": null,
   "id": "06a6dc84-3d55-4180-a6d7-8a0d23e54e66",
   "metadata": {
    "tags": []
   },
   "outputs": [],
   "source": [
    "cat <<EOF > /tmp/orders-value.avsc\n",
    "{\n",
    "    \"schema\": \"{ \\\n",
    "        \\\"type\\\": \\\"record\\\", \\\n",
    "        \\\"name\\\": \\\"Orders\\\", \\\n",
    "        \\\"namespace\\\": \\\"com.github.neshkeev.kafka.customer.avro\\\", \\\n",
    "        \\\"fields\\\":[ \\\n",
    "            { \\\n",
    "                \\\"name\\\":\\\"id\\\", \\\n",
    "                \\\"type\\\":\\\"string\\\" \\\n",
    "            }, \\\n",
    "            { \\\n",
    "                \\\"name\\\":\\\"name\\\", \\\n",
    "                \\\"type\\\":\\\"string\\\" \\\n",
    "            } \\\n",
    "        ] \\\n",
    "    }\" \\\n",
    "}\n",
    "EOF"
   ]
  },
  {
   "cell_type": "code",
   "execution_count": null,
   "id": "28e5d0b3-b35c-415d-91c1-c2a12d2868fc",
   "metadata": {
    "tags": []
   },
   "outputs": [],
   "source": [
    "curl -s http://schema-registry:8081/subjects/orders-value/versions \\\n",
    "    -X POST \\\n",
    "    -H \"Content-Type: application/vnd.schemaregistry.v1+json\" \\\n",
    "    -d '@/tmp/orders-value.avsc'"
   ]
  },
  {
   "cell_type": "code",
   "execution_count": null,
   "id": "6fc55898-f645-43d4-8081-01ed969fd40a",
   "metadata": {
    "tags": []
   },
   "outputs": [],
   "source": [
    "cat <<EOF > /tmp/orders-value-v2.avsc\n",
    "{\n",
    "    \"schema\": \"{ \\\n",
    "        \\\"type\\\": \\\"record\\\", \\\n",
    "        \\\"name\\\": \\\"Orders\\\", \\\n",
    "        \\\"namespace\\\": \\\"com.github.neshkeev.kafka.customer.avro\\\", \\\n",
    "        \\\"fields\\\":[ \\\n",
    "            { \\\n",
    "                \\\"name\\\":\\\"id\\\", \\\n",
    "                \\\"type\\\":\\\"string\\\" \\\n",
    "            }, \\\n",
    "            { \\\n",
    "                \\\"name\\\":\\\"name\\\", \\\n",
    "                \\\"type\\\":\\\"string\\\" \\\n",
    "            }, \\\n",
    "            { \\\n",
    "                \\\"name\\\":\\\"description\\\", \\\n",
    "                \\\"type\\\":\\\"string\\\", \\\n",
    "                \\\"default\\\":\\\"\\\" \\\n",
    "            } \\\n",
    "        ] \\\n",
    "    }\" \\\n",
    "}\n",
    "EOF"
   ]
  },
  {
   "cell_type": "code",
   "execution_count": null,
   "id": "9ccc31c4-ee6b-4447-83f1-7764f09a1174",
   "metadata": {
    "tags": []
   },
   "outputs": [],
   "source": [
    "curl -s http://schema-registry:8081/subjects/orders-value/versions \\\n",
    "    -X POST \\\n",
    "    -H \"Content-Type: application/vnd.schemaregistry.v1+json\" \\\n",
    "    -d '@/tmp/orders-value-v2.avsc'"
   ]
  },
  {
   "cell_type": "markdown",
   "id": "5b77b056-727b-482c-8f36-27a3e8188ac3",
   "metadata": {},
   "source": [
    "## Kafka Connect"
   ]
  },
  {
   "cell_type": "code",
   "execution_count": null,
   "id": "2c208575-4ffa-4dc7-9ff1-cc2a641c008e",
   "metadata": {
    "tags": []
   },
   "outputs": [],
   "source": [
    "cat <<EOF > /tmp/my-heartbeat-connector.json\n",
    "{\n",
    "   \"config\" : {\n",
    "      \"connector.class\" : \"org.apache.kafka.connect.mirror.MirrorHeartbeatConnector\",\n",
    "      \"name\" : \"my-heartbeat-connector\",\n",
    "      \"source.cluster.alias\" : \"source\",\n",
    "      \"target.cluster.bootstrap.servers\" : \"kafka1:9092\",\n",
    "      \"target.cluster.sasl.mechanism\" : \"PLAIN\",\n",
    "      \"target.cluster.security.protocol\" : \"PLAINTEXT\"\n",
    "   },\n",
    "   \"name\" : \"my-heartbeat-connector\"\n",
    "}\n",
    "EOF"
   ]
  },
  {
   "cell_type": "code",
   "execution_count": null,
   "id": "4ca8c678-9681-4834-beac-01ebb71f11c3",
   "metadata": {
    "tags": []
   },
   "outputs": [],
   "source": [
    "curl -s -X POST http://connect:8083/connectors \\\n",
    "    -H 'Content-Type: application/json' \\\n",
    "    -d '@/tmp/my-heartbeat-connector.json' | json_pp"
   ]
  },
  {
   "cell_type": "markdown",
   "id": "3ec7614f-1c62-4454-aed3-0b85471d7fab",
   "metadata": {
    "tags": []
   },
   "source": [
    "## KSQL"
   ]
  },
  {
   "cell_type": "code",
   "execution_count": null,
   "id": "f02eb66c-b75a-4725-a3ec-911bf288e9a7",
   "metadata": {
    "tags": []
   },
   "outputs": [],
   "source": [
    "function single_line() {\n",
    "    sed -n '1h;1!H;${g;s,\\n,,gp}'\n",
    "}"
   ]
  },
  {
   "cell_type": "code",
   "execution_count": null,
   "id": "d2e32207-7c2e-45e7-b172-f46ba720b92e",
   "metadata": {
    "tags": []
   },
   "outputs": [],
   "source": [
    "function prepare_ksql_query() {\n",
    "    local script=${1}\n",
    "    [ -f \"$script\" ] || {\n",
    "        echo \"${script} файл не найден.\" >&2\n",
    "        return 1\n",
    "    }\n",
    "\n",
    "    cat <<EOF\n",
    "{\n",
    "    \"ksql\": \"$(cat ${script} | single_line)\",\n",
    "    \"streamsProperties\": {}\n",
    "}\n",
    "EOF\n",
    "}"
   ]
  },
  {
   "cell_type": "code",
   "execution_count": null,
   "id": "babd1d62-7eec-4085-870b-f51bd84813b5",
   "metadata": {
    "tags": []
   },
   "outputs": [],
   "source": [
    "cat <<EOF > /tmp/create-customers-stream.cli\n",
    "CREATE STREAM customers (\n",
    "    id INT,\n",
    "    name VARCHAR\n",
    ") WITH (\n",
    "    kafka_topic='customers',\n",
    "    value_format='avro',\n",
    "    partitions=2\n",
    ");\n",
    "EOF"
   ]
  },
  {
   "cell_type": "code",
   "execution_count": null,
   "id": "25bdca82-773f-4bcc-b775-9fc38c637ff2",
   "metadata": {
    "tags": []
   },
   "outputs": [],
   "source": [
    "curl -s \"http://ksqldb-server:8088/ksql\" \\\n",
    "    -X POST \\\n",
    "    -H 'Accept: application/vnd.ksql.v1+json' \\\n",
    "    -d \"$(prepare_ksql_query /tmp/create-customers-stream.cli)\" | json_pp"
   ]
  },
  {
   "cell_type": "code",
   "execution_count": null,
   "id": "31e8c4d1-eaf4-4b7f-9390-db1d4360aea8",
   "metadata": {
    "tags": []
   },
   "outputs": [],
   "source": [
    "cat <<EOF > /tmp/insert-customers.cli\n",
    "INSERT INTO customers VALUES($RANDOM, 'John Doe');\n",
    "INSERT INTO customers VALUES($RANDOM, 'Maria Stewart');\n",
    "EOF"
   ]
  },
  {
   "cell_type": "code",
   "execution_count": null,
   "id": "2e60fcf3-6efd-4593-b42a-63f8a95d6afa",
   "metadata": {
    "tags": []
   },
   "outputs": [],
   "source": [
    "curl -s \"http://ksqldb-server:8088/ksql\" \\\n",
    "    -X POST \\\n",
    "    -H 'Accept: application/vnd.ksql.v1+json' \\\n",
    "    -d \"$(prepare_ksql_query /tmp/insert-customers.cli)\" | json_pp"
   ]
  },
  {
   "cell_type": "code",
   "execution_count": null,
   "id": "9e057cbf-2ab6-4a70-8e8b-d95f4c89840c",
   "metadata": {
    "tags": []
   },
   "outputs": [],
   "source": [
    "cat <<EOF > /tmp/select-customers.cli\n",
    "SELECT *\n",
    "  FROM customers EMIT CHANGES;\n",
    "EOF"
   ]
  },
  {
   "cell_type": "markdown",
   "id": "3a8751ee-bcd3-40cc-802f-7a22dc9a5f48",
   "metadata": {},
   "source": [
    "Запрос будет запущен в фоне:"
   ]
  },
  {
   "cell_type": "code",
   "execution_count": null,
   "id": "d07eeccd-b067-4466-939d-6fe2052ec47c",
   "metadata": {
    "tags": []
   },
   "outputs": [],
   "source": [
    "curl -s \"http://ksqldb-server:8088/query\" \\\n",
    "    -X POST \\\n",
    "    -H 'Accept: application/vnd.ksql.v1+json' \\\n",
    "    -d \"$(prepare_ksql_query /tmp/select-customers.cli)\" &"
   ]
  },
  {
   "cell_type": "markdown",
   "id": "2f8b1369-0d55-4fb8-a77b-d4779f4cec83",
   "metadata": {},
   "source": [
    "Выплонение любой команды позволит напечатать вывод команды в фоне:"
   ]
  },
  {
   "cell_type": "code",
   "execution_count": null,
   "id": "61b50cd9-2969-49fe-a107-5b5493e81c88",
   "metadata": {
    "tags": []
   },
   "outputs": [],
   "source": [
    "echo"
   ]
  },
  {
   "cell_type": "markdown",
   "id": "ad578271-5ce8-44f5-a4dc-32a2404cec18",
   "metadata": {
    "tags": []
   },
   "source": [
    "В выводе необходимо найти `\"queryId\":\"transient_CUSTOMERS_3399213554579640620\"`, скопировать значение `queryId` и использовать его для остановки запроса:"
   ]
  },
  {
   "cell_type": "code",
   "execution_count": null,
   "id": "0f415b19-9983-4b43-8b00-290e83281b1d",
   "metadata": {
    "tags": []
   },
   "outputs": [],
   "source": [
    "QUERY_ID=''"
   ]
  },
  {
   "cell_type": "code",
   "execution_count": null,
   "id": "5d56c81b-8071-41d8-9ff1-e0ee549e0c31",
   "metadata": {
    "tags": []
   },
   "outputs": [],
   "source": [
    "[ -n \"$QUERY_ID\" ] || {\n",
    "    echo 'Пожалуйста, запишите значение query_id в переменную QUERY_ID' >&2\n",
    "    false\n",
    "}"
   ]
  },
  {
   "cell_type": "code",
   "execution_count": null,
   "id": "328c05c0-57d0-437a-89a8-0f2a2cc24ede",
   "metadata": {
    "tags": []
   },
   "outputs": [],
   "source": [
    "curl -s \"http://ksqldb-server:8088/close-query\" \\\n",
    "    -X POST \\\n",
    "    -H 'Accept: application/vnd.ksql.v1+json' \\\n",
    "    -d \"{\\\"queryId\\\": \\\"${QUERY_ID}\\\"}\" | json_pp"
   ]
  },
  {
   "cell_type": "code",
   "execution_count": null,
   "id": "1dc01477-cdef-4f4a-8c73-63d991a3e124",
   "metadata": {},
   "outputs": [],
   "source": []
  }
 ],
 "metadata": {
  "kernelspec": {
   "display_name": "Bash",
   "language": "bash",
   "name": "bash"
  },
  "language_info": {
   "codemirror_mode": "shell",
   "file_extension": ".sh",
   "mimetype": "text/x-sh",
   "name": "bash"
  }
 },
 "nbformat": 4,
 "nbformat_minor": 5
}
