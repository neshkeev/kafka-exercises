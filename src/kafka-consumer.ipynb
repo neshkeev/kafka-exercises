{
 "cells": [
  {
   "cell_type": "markdown",
   "id": "69cb3b5b-84a2-4c14-a43a-e8268af0330b",
   "metadata": {
    "tags": []
   },
   "source": [
    "# Репликация"
   ]
  },
  {
   "cell_type": "markdown",
   "id": "0a13d121-328b-4c7c-8d18-02d95467e5d4",
   "metadata": {
    "tags": []
   },
   "source": [
    "## Получить список топиков в standby кластере"
   ]
  },
  {
   "cell_type": "code",
   "execution_count": null,
   "id": "64db26bb-9ee1-4338-a630-a4c02264e00e",
   "metadata": {
    "tags": []
   },
   "outputs": [],
   "source": [
    "kafka-topics --bootstrap-server \"$KAFKA_STANDBY_HOST\":\"$KAFKA_STANDBY_PORT\" \\\n",
    "    --list"
   ]
  },
  {
   "cell_type": "markdown",
   "id": "18d571f1-2c9d-40da-8b74-9b44c903ece9",
   "metadata": {
    "tags": []
   },
   "source": [
    "## Прочитать данные из реплицированного топика топика"
   ]
  },
  {
   "cell_type": "code",
   "execution_count": null,
   "id": "478a6a70-098f-4051-85d9-fed0ff678da6",
   "metadata": {
    "tags": []
   },
   "outputs": [],
   "source": [
    "kafka-console-consumer --bootstrap-server \"$KAFKA_STANDBY_HOST\":\"$KAFKA_STANDBY_PORT\" \\\n",
    "    --topic src.my-mirror-maker-topic \\\n",
    "    --from-beginning \\\n",
    "    --timeout-ms 10000"
   ]
  },
  {
   "cell_type": "markdown",
   "id": "07eda087-499a-4394-b2eb-0a17f9fc2610",
   "metadata": {
    "tags": []
   },
   "source": [
    "## Записать новые данные в оригинальный (исходный) топик"
   ]
  },
  {
   "cell_type": "code",
   "execution_count": null,
   "id": "cb547a7d-66cc-48ef-8b5d-7848c5396d8d",
   "metadata": {
    "tags": []
   },
   "outputs": [],
   "source": [
    "kafka-console-producer --bootstrap-server \"$KAFKA_HOST\":\"$KAFKA_PORT\" \\\n",
    "    --topic my-mirror-maker-topic \\\n",
    "    <<<$(yes 'Привет, Мир!' 2>/dev/null | head -n 10)"
   ]
  },
  {
   "cell_type": "markdown",
   "id": "263e410f-f4fb-481d-bfed-41d7693d3a09",
   "metadata": {},
   "source": [
    "## Получить новые данные"
   ]
  },
  {
   "cell_type": "code",
   "execution_count": null,
   "id": "9d18dbde-4583-4712-b499-6fa62294a723",
   "metadata": {
    "tags": []
   },
   "outputs": [],
   "source": [
    "kafka-console-consumer --bootstrap-server \"$KAFKA_STANDBY_HOST\":\"$KAFKA_STANDBY_PORT\" \\\n",
    "    --topic src.my-mirror-maker-topic \\\n",
    "    --from-beginning --timeout-ms 10000"
   ]
  },
  {
   "cell_type": "code",
   "execution_count": null,
   "id": "3643b031-b78e-4892-b208-aa1e46ead513",
   "metadata": {},
   "outputs": [],
   "source": []
  }
 ],
 "metadata": {
  "kernelspec": {
   "display_name": "Bash",
   "language": "bash",
   "name": "bash"
  },
  "language_info": {
   "codemirror_mode": "shell",
   "file_extension": ".sh",
   "mimetype": "text/x-sh",
   "name": "bash"
  }
 },
 "nbformat": 4,
 "nbformat_minor": 5
}
